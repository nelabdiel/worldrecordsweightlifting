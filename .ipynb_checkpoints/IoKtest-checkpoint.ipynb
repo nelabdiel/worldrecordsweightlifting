{
 "cells": [
  {
   "cell_type": "code",
   "execution_count": 1,
   "metadata": {
    "collapsed": false
   },
   "outputs": [],
   "source": [
    "from bs4 import BeautifulSoup\n",
    "import requests\n",
    "import pickle\n",
    "import pandas as pd\n",
    "import matplotlib\n",
    "import matplotlib.pylab as plt\n",
    "import scipy as sp\n",
    "%matplotlib inline\n",
    "import math\n",
    "import matplotlib.pyplot as plt\n",
    "import numpy as np\n",
    "\n",
    "class Company(object):\n",
    "    def __init__(self, worldrec):\n",
    "        self.worldrec = worldrec\n",
    "#opening an object that was pickled with python 2.4        \n",
    "with open('worldrecords_data.pkl', 'rb') as f:\n",
    "    wrdatar = pickle.load(f, encoding='latin1') \n",
    "    \n",
    "    \n",
    "\n",
    "records = wrdatar.worldrec  "
   ]
  },
  {
   "cell_type": "code",
   "execution_count": 2,
   "metadata": {
    "collapsed": false
   },
   "outputs": [
    {
     "data": {
      "text/html": [
       "<div>\n",
       "<table border=\"1\" class=\"dataframe\">\n",
       "  <thead>\n",
       "    <tr style=\"text-align: right;\">\n",
       "      <th></th>\n",
       "      <th>Event</th>\n",
       "      <th>Year</th>\n",
       "      <th>Country</th>\n",
       "      <th>Lifter</th>\n",
       "      <th>Weight Class</th>\n",
       "      <th>Record</th>\n",
       "      <th>Event Code</th>\n",
       "    </tr>\n",
       "  </thead>\n",
       "  <tbody>\n",
       "    <tr>\n",
       "      <th>0</th>\n",
       "      <td>Snatch</td>\n",
       "      <td>1917</td>\n",
       "      <td>Russia</td>\n",
       "      <td>Alexander BUKHAROV</td>\n",
       "      <td>60.0</td>\n",
       "      <td>75.0</td>\n",
       "      <td>1</td>\n",
       "    </tr>\n",
       "    <tr>\n",
       "      <th>1</th>\n",
       "      <td>Snatch</td>\n",
       "      <td>1918</td>\n",
       "      <td>Germany</td>\n",
       "      <td>Hermann SHWINDT</td>\n",
       "      <td>60.0</td>\n",
       "      <td>92.5</td>\n",
       "      <td>1</td>\n",
       "    </tr>\n",
       "    <tr>\n",
       "      <th>2</th>\n",
       "      <td>Clean and Jerk</td>\n",
       "      <td>1919</td>\n",
       "      <td>Germany</td>\n",
       "      <td>Johann RENNER</td>\n",
       "      <td>67.5</td>\n",
       "      <td>102.5</td>\n",
       "      <td>2</td>\n",
       "    </tr>\n",
       "    <tr>\n",
       "      <th>3</th>\n",
       "      <td>Clean and Jerk</td>\n",
       "      <td>1919</td>\n",
       "      <td>Germany</td>\n",
       "      <td>Josef ZIMMERMANN</td>\n",
       "      <td>67.5</td>\n",
       "      <td>107.5</td>\n",
       "      <td>2</td>\n",
       "    </tr>\n",
       "    <tr>\n",
       "      <th>4</th>\n",
       "      <td>Snatch</td>\n",
       "      <td>1919</td>\n",
       "      <td>Germany</td>\n",
       "      <td>Hans GEORGI</td>\n",
       "      <td>67.5</td>\n",
       "      <td>85.0</td>\n",
       "      <td>1</td>\n",
       "    </tr>\n",
       "  </tbody>\n",
       "</table>\n",
       "</div>"
      ],
      "text/plain": [
       "            Event  Year  Country              Lifter  Weight Class  Record  \\\n",
       "0          Snatch  1917   Russia  Alexander BUKHAROV          60.0    75.0   \n",
       "1          Snatch  1918  Germany     Hermann SHWINDT          60.0    92.5   \n",
       "2  Clean and Jerk  1919  Germany       Johann RENNER          67.5   102.5   \n",
       "3  Clean and Jerk  1919  Germany    Josef ZIMMERMANN          67.5   107.5   \n",
       "4          Snatch  1919  Germany         Hans GEORGI          67.5    85.0   \n",
       "\n",
       "   Event Code  \n",
       "0           1  \n",
       "1           1  \n",
       "2           2  \n",
       "3           2  \n",
       "4           1  "
      ]
     },
     "execution_count": 2,
     "metadata": {},
     "output_type": "execute_result"
    }
   ],
   "source": [
    "records.head()"
   ]
  },
  {
   "cell_type": "code",
   "execution_count": 3,
   "metadata": {
    "collapsed": true
   },
   "outputs": [],
   "source": [
    "records56total = records[(records['Event Code']==3) & (records['Weight Class']==56)]"
   ]
  },
  {
   "cell_type": "code",
   "execution_count": 4,
   "metadata": {
    "collapsed": false
   },
   "outputs": [
    {
     "data": {
      "text/html": [
       "<div>\n",
       "<table border=\"1\" class=\"dataframe\">\n",
       "  <thead>\n",
       "    <tr style=\"text-align: right;\">\n",
       "      <th></th>\n",
       "      <th>Event</th>\n",
       "      <th>Year</th>\n",
       "      <th>Country</th>\n",
       "      <th>Lifter</th>\n",
       "      <th>Weight Class</th>\n",
       "      <th>Record</th>\n",
       "      <th>Event Code</th>\n",
       "    </tr>\n",
       "  </thead>\n",
       "  <tbody>\n",
       "    <tr>\n",
       "      <th>212</th>\n",
       "      <td>Total</td>\n",
       "      <td>1948</td>\n",
       "      <td>Iran</td>\n",
       "      <td>Mahmoud NAMJOU</td>\n",
       "      <td>56</td>\n",
       "      <td>310.0</td>\n",
       "      <td>3</td>\n",
       "    </tr>\n",
       "    <tr>\n",
       "      <th>223</th>\n",
       "      <td>Total</td>\n",
       "      <td>1949</td>\n",
       "      <td>Iran</td>\n",
       "      <td>Mahmoud NAMJOU</td>\n",
       "      <td>56</td>\n",
       "      <td>315.0</td>\n",
       "      <td>3</td>\n",
       "    </tr>\n",
       "    <tr>\n",
       "      <th>239</th>\n",
       "      <td>Total</td>\n",
       "      <td>1951</td>\n",
       "      <td>Iran</td>\n",
       "      <td>Mahmoud NAMJOU</td>\n",
       "      <td>56</td>\n",
       "      <td>317.5</td>\n",
       "      <td>3</td>\n",
       "    </tr>\n",
       "    <tr>\n",
       "      <th>270</th>\n",
       "      <td>Total</td>\n",
       "      <td>1953</td>\n",
       "      <td>Russia</td>\n",
       "      <td>Ivan UDODOV</td>\n",
       "      <td>56</td>\n",
       "      <td>320.0</td>\n",
       "      <td>3</td>\n",
       "    </tr>\n",
       "    <tr>\n",
       "      <th>324</th>\n",
       "      <td>Total</td>\n",
       "      <td>1955</td>\n",
       "      <td>Russia</td>\n",
       "      <td>Vladimir STOGOV</td>\n",
       "      <td>56</td>\n",
       "      <td>325.0</td>\n",
       "      <td>3</td>\n",
       "    </tr>\n",
       "    <tr>\n",
       "      <th>325</th>\n",
       "      <td>Total</td>\n",
       "      <td>1955</td>\n",
       "      <td>Russia</td>\n",
       "      <td>Vladimir STOGOV</td>\n",
       "      <td>56</td>\n",
       "      <td>335.0</td>\n",
       "      <td>3</td>\n",
       "    </tr>\n",
       "    <tr>\n",
       "      <th>348</th>\n",
       "      <td>Total</td>\n",
       "      <td>1956</td>\n",
       "      <td>United States</td>\n",
       "      <td>Charles VINCI</td>\n",
       "      <td>56</td>\n",
       "      <td>342.5</td>\n",
       "      <td>3</td>\n",
       "    </tr>\n",
       "    <tr>\n",
       "      <th>380</th>\n",
       "      <td>Total</td>\n",
       "      <td>1957</td>\n",
       "      <td>Russia</td>\n",
       "      <td>Vladimir STOGOV</td>\n",
       "      <td>56</td>\n",
       "      <td>345.0</td>\n",
       "      <td>3</td>\n",
       "    </tr>\n",
       "    <tr>\n",
       "      <th>475</th>\n",
       "      <td>Total</td>\n",
       "      <td>1961</td>\n",
       "      <td>Japan</td>\n",
       "      <td>Yoshinobu MIYAKE</td>\n",
       "      <td>56</td>\n",
       "      <td>347.5</td>\n",
       "      <td>3</td>\n",
       "    </tr>\n",
       "    <tr>\n",
       "      <th>508</th>\n",
       "      <td>Total</td>\n",
       "      <td>1962</td>\n",
       "      <td>Japan</td>\n",
       "      <td>Yoshinobu MIYAKE</td>\n",
       "      <td>56</td>\n",
       "      <td>352.5</td>\n",
       "      <td>3</td>\n",
       "    </tr>\n",
       "    <tr>\n",
       "      <th>570</th>\n",
       "      <td>Total</td>\n",
       "      <td>1964</td>\n",
       "      <td>Hungary</td>\n",
       "      <td>Imre FOLDI</td>\n",
       "      <td>56</td>\n",
       "      <td>355.0</td>\n",
       "      <td>3</td>\n",
       "    </tr>\n",
       "    <tr>\n",
       "      <th>571</th>\n",
       "      <td>Total</td>\n",
       "      <td>1964</td>\n",
       "      <td>Russia</td>\n",
       "      <td>Alexey VAKHONIN</td>\n",
       "      <td>56</td>\n",
       "      <td>357.5</td>\n",
       "      <td>3</td>\n",
       "    </tr>\n",
       "    <tr>\n",
       "      <th>623</th>\n",
       "      <td>Total</td>\n",
       "      <td>1965</td>\n",
       "      <td>Japan</td>\n",
       "      <td>Shiro ICHINOSEKI</td>\n",
       "      <td>56</td>\n",
       "      <td>360.0</td>\n",
       "      <td>3</td>\n",
       "    </tr>\n",
       "    <tr>\n",
       "      <th>624</th>\n",
       "      <td>Total</td>\n",
       "      <td>1965</td>\n",
       "      <td>Hungary</td>\n",
       "      <td>Imre FOLDI</td>\n",
       "      <td>56</td>\n",
       "      <td>362.5</td>\n",
       "      <td>3</td>\n",
       "    </tr>\n",
       "    <tr>\n",
       "      <th>625</th>\n",
       "      <td>Total</td>\n",
       "      <td>1965</td>\n",
       "      <td>Hungary</td>\n",
       "      <td>Imre FOLDI</td>\n",
       "      <td>56</td>\n",
       "      <td>365.0</td>\n",
       "      <td>3</td>\n",
       "    </tr>\n",
       "    <tr>\n",
       "      <th>731</th>\n",
       "      <td>Total</td>\n",
       "      <td>1968</td>\n",
       "      <td>Russia</td>\n",
       "      <td>Gennady CHETIN</td>\n",
       "      <td>56</td>\n",
       "      <td>367.5</td>\n",
       "      <td>3</td>\n",
       "    </tr>\n",
       "    <tr>\n",
       "      <th>794</th>\n",
       "      <td>Total</td>\n",
       "      <td>1969</td>\n",
       "      <td>Hungary</td>\n",
       "      <td>Imre FOLDI</td>\n",
       "      <td>56</td>\n",
       "      <td>370.0</td>\n",
       "      <td>3</td>\n",
       "    </tr>\n",
       "    <tr>\n",
       "      <th>846</th>\n",
       "      <td>Total</td>\n",
       "      <td>1970</td>\n",
       "      <td>Hungary</td>\n",
       "      <td>Imre FOLDI</td>\n",
       "      <td>56</td>\n",
       "      <td>372.5</td>\n",
       "      <td>3</td>\n",
       "    </tr>\n",
       "    <tr>\n",
       "      <th>930</th>\n",
       "      <td>Total</td>\n",
       "      <td>1971</td>\n",
       "      <td>Russia</td>\n",
       "      <td>Gennady CHETIN</td>\n",
       "      <td>56</td>\n",
       "      <td>375.0</td>\n",
       "      <td>3</td>\n",
       "    </tr>\n",
       "    <tr>\n",
       "      <th>1022</th>\n",
       "      <td>Total</td>\n",
       "      <td>1972</td>\n",
       "      <td>Hungary</td>\n",
       "      <td>Imre FOLDI</td>\n",
       "      <td>56</td>\n",
       "      <td>377.5</td>\n",
       "      <td>3</td>\n",
       "    </tr>\n",
       "    <tr>\n",
       "      <th>1103</th>\n",
       "      <td>Total</td>\n",
       "      <td>1973</td>\n",
       "      <td>Russia</td>\n",
       "      <td>Gennady CHETIN</td>\n",
       "      <td>56</td>\n",
       "      <td>255.0</td>\n",
       "      <td>3</td>\n",
       "    </tr>\n",
       "    <tr>\n",
       "      <th>1104</th>\n",
       "      <td>Total</td>\n",
       "      <td>1973</td>\n",
       "      <td>Bulgaria</td>\n",
       "      <td>Atanas KIROV</td>\n",
       "      <td>56</td>\n",
       "      <td>257.5</td>\n",
       "      <td>3</td>\n",
       "    </tr>\n",
       "    <tr>\n",
       "      <th>1147</th>\n",
       "      <td>Total</td>\n",
       "      <td>1974</td>\n",
       "      <td>Bulgaria</td>\n",
       "      <td>Atanas KIROV</td>\n",
       "      <td>56</td>\n",
       "      <td>260.0</td>\n",
       "      <td>3</td>\n",
       "    </tr>\n",
       "    <tr>\n",
       "      <th>1234</th>\n",
       "      <td>Total</td>\n",
       "      <td>1976</td>\n",
       "      <td>Bulgaria</td>\n",
       "      <td>Norair NURIKIAN</td>\n",
       "      <td>56</td>\n",
       "      <td>262.5</td>\n",
       "      <td>3</td>\n",
       "    </tr>\n",
       "    <tr>\n",
       "      <th>1324</th>\n",
       "      <td>Total</td>\n",
       "      <td>1979</td>\n",
       "      <td>Bulgaria</td>\n",
       "      <td>Anton KODZHABASHEV</td>\n",
       "      <td>56</td>\n",
       "      <td>265.0</td>\n",
       "      <td>3</td>\n",
       "    </tr>\n",
       "    <tr>\n",
       "      <th>1325</th>\n",
       "      <td>Total</td>\n",
       "      <td>1979</td>\n",
       "      <td>Russia</td>\n",
       "      <td>Yurik SARKISYAN</td>\n",
       "      <td>56</td>\n",
       "      <td>267.5</td>\n",
       "      <td>3</td>\n",
       "    </tr>\n",
       "    <tr>\n",
       "      <th>1381</th>\n",
       "      <td>Total</td>\n",
       "      <td>1980</td>\n",
       "      <td>Russia</td>\n",
       "      <td>Victor VERETENNIKOV</td>\n",
       "      <td>56</td>\n",
       "      <td>270.0</td>\n",
       "      <td>3</td>\n",
       "    </tr>\n",
       "    <tr>\n",
       "      <th>1382</th>\n",
       "      <td>Total</td>\n",
       "      <td>1980</td>\n",
       "      <td>Russia</td>\n",
       "      <td>Yurik SARKISYAN</td>\n",
       "      <td>56</td>\n",
       "      <td>272.5</td>\n",
       "      <td>3</td>\n",
       "    </tr>\n",
       "    <tr>\n",
       "      <th>1383</th>\n",
       "      <td>Total</td>\n",
       "      <td>1980</td>\n",
       "      <td>Cuba</td>\n",
       "      <td>Daniel NUNEZ</td>\n",
       "      <td>56</td>\n",
       "      <td>275.0</td>\n",
       "      <td>3</td>\n",
       "    </tr>\n",
       "    <tr>\n",
       "      <th>1437</th>\n",
       "      <td>Total</td>\n",
       "      <td>1981</td>\n",
       "      <td>Germany</td>\n",
       "      <td>Andreas LETZ</td>\n",
       "      <td>56</td>\n",
       "      <td>277.5</td>\n",
       "      <td>3</td>\n",
       "    </tr>\n",
       "    <tr>\n",
       "      <th>1496</th>\n",
       "      <td>Total</td>\n",
       "      <td>1982</td>\n",
       "      <td>Bulgaria</td>\n",
       "      <td>Anton KODZHABASHEV</td>\n",
       "      <td>56</td>\n",
       "      <td>280.0</td>\n",
       "      <td>3</td>\n",
       "    </tr>\n",
       "    <tr>\n",
       "      <th>1560</th>\n",
       "      <td>Total</td>\n",
       "      <td>1983</td>\n",
       "      <td>Russia</td>\n",
       "      <td>Oksen MIRZOYAN</td>\n",
       "      <td>56</td>\n",
       "      <td>282.5</td>\n",
       "      <td>3</td>\n",
       "    </tr>\n",
       "    <tr>\n",
       "      <th>1561</th>\n",
       "      <td>Total</td>\n",
       "      <td>1983</td>\n",
       "      <td>Bulgaria</td>\n",
       "      <td>Naim SULEYMANOGLU</td>\n",
       "      <td>56</td>\n",
       "      <td>285.0</td>\n",
       "      <td>3</td>\n",
       "    </tr>\n",
       "    <tr>\n",
       "      <th>1562</th>\n",
       "      <td>Total</td>\n",
       "      <td>1983</td>\n",
       "      <td>Russia</td>\n",
       "      <td>Oksen MIRZOYAN</td>\n",
       "      <td>56</td>\n",
       "      <td>287.5</td>\n",
       "      <td>3</td>\n",
       "    </tr>\n",
       "    <tr>\n",
       "      <th>1563</th>\n",
       "      <td>Total</td>\n",
       "      <td>1983</td>\n",
       "      <td>Bulgaria</td>\n",
       "      <td>Naim SULEYMANOGLU</td>\n",
       "      <td>56</td>\n",
       "      <td>290.0</td>\n",
       "      <td>3</td>\n",
       "    </tr>\n",
       "    <tr>\n",
       "      <th>1564</th>\n",
       "      <td>Total</td>\n",
       "      <td>1983</td>\n",
       "      <td>Russia</td>\n",
       "      <td>Oksen MIRZOYAN</td>\n",
       "      <td>56</td>\n",
       "      <td>292.5</td>\n",
       "      <td>3</td>\n",
       "    </tr>\n",
       "    <tr>\n",
       "      <th>1618</th>\n",
       "      <td>Total</td>\n",
       "      <td>1984</td>\n",
       "      <td>Bulgaria</td>\n",
       "      <td>Naim SULEYMANOGLU</td>\n",
       "      <td>56</td>\n",
       "      <td>297.5</td>\n",
       "      <td>3</td>\n",
       "    </tr>\n",
       "    <tr>\n",
       "      <th>1619</th>\n",
       "      <td>Total</td>\n",
       "      <td>1984</td>\n",
       "      <td>Bulgaria</td>\n",
       "      <td>Naim SULEYMANOGLU</td>\n",
       "      <td>56</td>\n",
       "      <td>300.0</td>\n",
       "      <td>3</td>\n",
       "    </tr>\n",
       "    <tr>\n",
       "      <th>1893</th>\n",
       "      <td>Total</td>\n",
       "      <td>1999</td>\n",
       "      <td>Turkey</td>\n",
       "      <td>Halil MUTLU</td>\n",
       "      <td>56</td>\n",
       "      <td>302.5</td>\n",
       "      <td>3</td>\n",
       "    </tr>\n",
       "    <tr>\n",
       "      <th>1915</th>\n",
       "      <td>Total</td>\n",
       "      <td>2000</td>\n",
       "      <td>Turkey</td>\n",
       "      <td>Halil MUTLU</td>\n",
       "      <td>56</td>\n",
       "      <td>305.0</td>\n",
       "      <td>3</td>\n",
       "    </tr>\n",
       "  </tbody>\n",
       "</table>\n",
       "</div>"
      ],
      "text/plain": [
       "      Event  Year        Country               Lifter  Weight Class  Record  \\\n",
       "212   Total  1948           Iran       Mahmoud NAMJOU            56   310.0   \n",
       "223   Total  1949           Iran       Mahmoud NAMJOU            56   315.0   \n",
       "239   Total  1951           Iran       Mahmoud NAMJOU            56   317.5   \n",
       "270   Total  1953         Russia          Ivan UDODOV            56   320.0   \n",
       "324   Total  1955         Russia      Vladimir STOGOV            56   325.0   \n",
       "325   Total  1955         Russia      Vladimir STOGOV            56   335.0   \n",
       "348   Total  1956  United States        Charles VINCI            56   342.5   \n",
       "380   Total  1957         Russia      Vladimir STOGOV            56   345.0   \n",
       "475   Total  1961          Japan     Yoshinobu MIYAKE            56   347.5   \n",
       "508   Total  1962          Japan     Yoshinobu MIYAKE            56   352.5   \n",
       "570   Total  1964        Hungary           Imre FOLDI            56   355.0   \n",
       "571   Total  1964         Russia      Alexey VAKHONIN            56   357.5   \n",
       "623   Total  1965          Japan     Shiro ICHINOSEKI            56   360.0   \n",
       "624   Total  1965        Hungary           Imre FOLDI            56   362.5   \n",
       "625   Total  1965        Hungary           Imre FOLDI            56   365.0   \n",
       "731   Total  1968         Russia       Gennady CHETIN            56   367.5   \n",
       "794   Total  1969        Hungary           Imre FOLDI            56   370.0   \n",
       "846   Total  1970        Hungary           Imre FOLDI            56   372.5   \n",
       "930   Total  1971         Russia       Gennady CHETIN            56   375.0   \n",
       "1022  Total  1972        Hungary           Imre FOLDI            56   377.5   \n",
       "1103  Total  1973         Russia       Gennady CHETIN            56   255.0   \n",
       "1104  Total  1973       Bulgaria         Atanas KIROV            56   257.5   \n",
       "1147  Total  1974       Bulgaria         Atanas KIROV            56   260.0   \n",
       "1234  Total  1976       Bulgaria      Norair NURIKIAN            56   262.5   \n",
       "1324  Total  1979       Bulgaria   Anton KODZHABASHEV            56   265.0   \n",
       "1325  Total  1979         Russia      Yurik SARKISYAN            56   267.5   \n",
       "1381  Total  1980         Russia  Victor VERETENNIKOV            56   270.0   \n",
       "1382  Total  1980         Russia      Yurik SARKISYAN            56   272.5   \n",
       "1383  Total  1980           Cuba         Daniel NUNEZ            56   275.0   \n",
       "1437  Total  1981        Germany         Andreas LETZ            56   277.5   \n",
       "1496  Total  1982       Bulgaria   Anton KODZHABASHEV            56   280.0   \n",
       "1560  Total  1983         Russia       Oksen MIRZOYAN            56   282.5   \n",
       "1561  Total  1983       Bulgaria    Naim SULEYMANOGLU            56   285.0   \n",
       "1562  Total  1983         Russia       Oksen MIRZOYAN            56   287.5   \n",
       "1563  Total  1983       Bulgaria    Naim SULEYMANOGLU            56   290.0   \n",
       "1564  Total  1983         Russia       Oksen MIRZOYAN            56   292.5   \n",
       "1618  Total  1984       Bulgaria    Naim SULEYMANOGLU            56   297.5   \n",
       "1619  Total  1984       Bulgaria    Naim SULEYMANOGLU            56   300.0   \n",
       "1893  Total  1999         Turkey          Halil MUTLU            56   302.5   \n",
       "1915  Total  2000         Turkey          Halil MUTLU            56   305.0   \n",
       "\n",
       "      Event Code  \n",
       "212            3  \n",
       "223            3  \n",
       "239            3  \n",
       "270            3  \n",
       "324            3  \n",
       "325            3  \n",
       "348            3  \n",
       "380            3  \n",
       "475            3  \n",
       "508            3  \n",
       "570            3  \n",
       "571            3  \n",
       "623            3  \n",
       "624            3  \n",
       "625            3  \n",
       "731            3  \n",
       "794            3  \n",
       "846            3  \n",
       "930            3  \n",
       "1022           3  \n",
       "1103           3  \n",
       "1104           3  \n",
       "1147           3  \n",
       "1234           3  \n",
       "1324           3  \n",
       "1325           3  \n",
       "1381           3  \n",
       "1382           3  \n",
       "1383           3  \n",
       "1437           3  \n",
       "1496           3  \n",
       "1560           3  \n",
       "1561           3  \n",
       "1562           3  \n",
       "1563           3  \n",
       "1564           3  \n",
       "1618           3  \n",
       "1619           3  \n",
       "1893           3  \n",
       "1915           3  "
      ]
     },
     "execution_count": 4,
     "metadata": {},
     "output_type": "execute_result"
    }
   ],
   "source": [
    "records56total"
   ]
  },
  {
   "cell_type": "code",
   "execution_count": 5,
   "metadata": {
    "collapsed": true
   },
   "outputs": [],
   "source": [
    "#save the difference in jumps from one record to the other\n",
    "#I want to keep year, max record and count of times broken that year\n",
    "#then by how much it changed from one year to the next"
   ]
  },
  {
   "cell_type": "code",
   "execution_count": 349,
   "metadata": {
    "collapsed": false
   },
   "outputs": [],
   "source": [
    "import pandas as pd\n",
    "\n",
    "from bokeh.plotting import figure, show, output_file\n",
    "\n",
    "\n",
    "\n",
    "\n",
    "palette = [\"#053061\", \"#2126ac\", \"#4353c3\", \"#92c7de\", \"#d1e5f0\",\n",
    "           \"#f7f1c7\", \"#fddbc7\", \"#f4a582\", \"#d6104d\", \"#b2182b\", \"#67e01f\",\n",
    "          \"#023061\", \"#2162ac\", \"#4392c3\", \"#92c2de\", \"#a1e2f0\",\n",
    "           \"#f3a7f7\", \"#fddbc3\", \"#f4a523\", \"#d6603a\", \"#b3182b\", \"#370d1f\",\n",
    "          \"#053061\", \"#2166ac\", \"#4393c3\", \"#92c5de\", \"#d1e5f0\",\n",
    "           \"#f4f7f4\", \"#fdd3c7\", \"#f4a512\", \"#d2344d\", \"#b2382a\", \"#61001f\"]\n",
    "\n",
    "colormap = {}\n",
    "k = 0\n",
    "for lifter in records56total['Lifter']:\n",
    "    if lifter not in colormap:\n",
    "        k = k+1\n",
    "        colormap[lifter]=k\n",
    "\n",
    "colors = [colormap[x] for x in records56total['Lifter']]\n",
    "\n",
    "\n",
    "melting_colors = [palette[i] for i in colors]\n",
    "\n",
    "TOOLS = \"pan,wheel_zoom,box_zoom,reset,resize,save\"\n",
    "\n",
    "p = figure(tools=TOOLS, toolbar_location=\"left\", logo=\"grey\", plot_width=1200)\n",
    "\n",
    "p.title = \"56kg Weight Class World Records Through Time.\"\n",
    "\n",
    "p.xaxis.axis_label=\"Year\"\n",
    "p.yaxis.axis_label=\"Total\"\n",
    "p.grid.grid_line_color=\"white\"\n",
    "\n",
    "p.circle(records56total['Year'], records56total['Record'], size=12,\n",
    "         color=melting_colors, line_color=\"black\", fill_alpha=0.8)\n",
    "\n",
    "p.text(records56total['Year']+2, records56total['Record'],\n",
    "       text=records56total['Lifter'],text_color=\"#333333\",\n",
    "       text_align=\"center\", text_font_size=\"7pt\")\n",
    "\n",
    "output_file(\"elements.html\", title=\"elements.py example\")\n",
    "\n",
    "show(p)\n"
   ]
  },
  {
   "cell_type": "code",
   "execution_count": 76,
   "metadata": {
    "collapsed": false
   },
   "outputs": [],
   "source": [
    "colormap = {}\n",
    "k = 0\n",
    "for lifter in records56total['Lifter']:\n",
    "    if lifter not in colormap:\n",
    "        k = k+1\n",
    "        colormap[lifter]=k"
   ]
  },
  {
   "cell_type": "code",
   "execution_count": 77,
   "metadata": {
    "collapsed": false
   },
   "outputs": [
    {
     "data": {
      "text/plain": [
       "{'Alexey VAKHONIN': 7,\n",
       " 'Andreas LETZ': 16,\n",
       " 'Anton KODZHABASHEV': 12,\n",
       " 'Atanas KIROV': 10,\n",
       " 'Charles VINCI': 4,\n",
       " 'Daniel NUNEZ': 15,\n",
       " 'Gennady CHETIN': 9,\n",
       " 'Halil MUTLU': 19,\n",
       " 'Imre FOLDI': 6,\n",
       " 'Ivan UDODOV': 2,\n",
       " 'Mahmoud NAMJOU': 1,\n",
       " 'Naim SULEYMANOGLU': 18,\n",
       " 'Norair NURIKIAN': 11,\n",
       " 'Oksen MIRZOYAN': 17,\n",
       " 'Shiro ICHINOSEKI': 8,\n",
       " 'Victor VERETENNIKOV': 14,\n",
       " 'Vladimir STOGOV': 3,\n",
       " 'Yoshinobu MIYAKE': 5,\n",
       " 'Yurik SARKISYAN': 13}"
      ]
     },
     "execution_count": 77,
     "metadata": {},
     "output_type": "execute_result"
    }
   ],
   "source": [
    "colormap"
   ]
  },
  {
   "cell_type": "code",
   "execution_count": 96,
   "metadata": {
    "collapsed": false
   },
   "outputs": [],
   "source": [
    "dense = records56total.groupby('Year')['Record'].count()"
   ]
  },
  {
   "cell_type": "code",
   "execution_count": 99,
   "metadata": {
    "collapsed": false
   },
   "outputs": [],
   "source": [
    "density_val = []\n",
    "density_year = []\n",
    "for i in range(1948,2016):\n",
    "    density_year.append((i,))\n",
    "    if i not in dense.index:\n",
    "        density_val.append(0)\n",
    "    else:\n",
    "        density_val.append(dense[i])"
   ]
  },
  {
   "cell_type": "code",
   "execution_count": null,
   "metadata": {
    "collapsed": true
   },
   "outputs": [],
   "source": [
    "\n"
   ]
  },
  {
   "cell_type": "code",
   "execution_count": 105,
   "metadata": {
    "collapsed": false
   },
   "outputs": [],
   "source": [
    "from sklearn.naive_bayes import GaussianNB\n",
    "gnb = GaussianNB()"
   ]
  },
  {
   "cell_type": "code",
   "execution_count": null,
   "metadata": {
    "collapsed": false
   },
   "outputs": [],
   "source": [
    "gnb.fit(density_year, density_val)"
   ]
  },
  {
   "cell_type": "code",
   "execution_count": 163,
   "metadata": {
    "collapsed": false
   },
   "outputs": [],
   "source": [
    "records2 = records.groupby(['Event Code','Weight Class','Year'])['Record'].agg([len,max])"
   ]
  },
  {
   "cell_type": "code",
   "execution_count": 300,
   "metadata": {
    "collapsed": false
   },
   "outputs": [
    {
     "data": {
      "text/html": [
       "<div>\n",
       "<table border=\"1\" class=\"dataframe\">\n",
       "  <thead>\n",
       "    <tr style=\"text-align: right;\">\n",
       "      <th></th>\n",
       "      <th>Event</th>\n",
       "      <th>Year</th>\n",
       "      <th>Country</th>\n",
       "      <th>Lifter</th>\n",
       "      <th>Weight Class</th>\n",
       "      <th>Record</th>\n",
       "      <th>Event Code</th>\n",
       "    </tr>\n",
       "  </thead>\n",
       "  <tbody>\n",
       "    <tr>\n",
       "      <th>0</th>\n",
       "      <td>Snatch</td>\n",
       "      <td>1917</td>\n",
       "      <td>Russia</td>\n",
       "      <td>Alexander BUKHAROV</td>\n",
       "      <td>60.0</td>\n",
       "      <td>75.0</td>\n",
       "      <td>1</td>\n",
       "    </tr>\n",
       "    <tr>\n",
       "      <th>1</th>\n",
       "      <td>Snatch</td>\n",
       "      <td>1918</td>\n",
       "      <td>Germany</td>\n",
       "      <td>Hermann SHWINDT</td>\n",
       "      <td>60.0</td>\n",
       "      <td>92.5</td>\n",
       "      <td>1</td>\n",
       "    </tr>\n",
       "    <tr>\n",
       "      <th>2</th>\n",
       "      <td>Clean and Jerk</td>\n",
       "      <td>1919</td>\n",
       "      <td>Germany</td>\n",
       "      <td>Johann RENNER</td>\n",
       "      <td>67.5</td>\n",
       "      <td>102.5</td>\n",
       "      <td>2</td>\n",
       "    </tr>\n",
       "    <tr>\n",
       "      <th>3</th>\n",
       "      <td>Clean and Jerk</td>\n",
       "      <td>1919</td>\n",
       "      <td>Germany</td>\n",
       "      <td>Josef ZIMMERMANN</td>\n",
       "      <td>67.5</td>\n",
       "      <td>107.5</td>\n",
       "      <td>2</td>\n",
       "    </tr>\n",
       "    <tr>\n",
       "      <th>4</th>\n",
       "      <td>Snatch</td>\n",
       "      <td>1919</td>\n",
       "      <td>Germany</td>\n",
       "      <td>Hans GEORGI</td>\n",
       "      <td>67.5</td>\n",
       "      <td>85.0</td>\n",
       "      <td>1</td>\n",
       "    </tr>\n",
       "  </tbody>\n",
       "</table>\n",
       "</div>"
      ],
      "text/plain": [
       "            Event  Year  Country              Lifter  Weight Class  Record  \\\n",
       "0          Snatch  1917   Russia  Alexander BUKHAROV          60.0    75.0   \n",
       "1          Snatch  1918  Germany     Hermann SHWINDT          60.0    92.5   \n",
       "2  Clean and Jerk  1919  Germany       Johann RENNER          67.5   102.5   \n",
       "3  Clean and Jerk  1919  Germany    Josef ZIMMERMANN          67.5   107.5   \n",
       "4          Snatch  1919  Germany         Hans GEORGI          67.5    85.0   \n",
       "\n",
       "   Event Code  \n",
       "0           1  \n",
       "1           1  \n",
       "2           2  \n",
       "3           2  \n",
       "4           1  "
      ]
     },
     "execution_count": 300,
     "metadata": {},
     "output_type": "execute_result"
    }
   ],
   "source": [
    "records.head()"
   ]
  },
  {
   "cell_type": "code",
   "execution_count": 237,
   "metadata": {
    "collapsed": false
   },
   "outputs": [
    {
     "data": {
      "text/html": [
       "<div>\n",
       "<table border=\"1\" class=\"dataframe\">\n",
       "  <thead>\n",
       "    <tr style=\"text-align: right;\">\n",
       "      <th></th>\n",
       "      <th>Event Code</th>\n",
       "      <th>Weight Class</th>\n",
       "      <th>Year</th>\n",
       "      <th>len</th>\n",
       "      <th>max</th>\n",
       "    </tr>\n",
       "  </thead>\n",
       "  <tbody>\n",
       "    <tr>\n",
       "      <th>0</th>\n",
       "      <td>1</td>\n",
       "      <td>52</td>\n",
       "      <td>1969</td>\n",
       "      <td>1</td>\n",
       "      <td>100.0</td>\n",
       "    </tr>\n",
       "    <tr>\n",
       "      <th>1</th>\n",
       "      <td>1</td>\n",
       "      <td>52</td>\n",
       "      <td>1970</td>\n",
       "      <td>1</td>\n",
       "      <td>100.5</td>\n",
       "    </tr>\n",
       "    <tr>\n",
       "      <th>2</th>\n",
       "      <td>1</td>\n",
       "      <td>52</td>\n",
       "      <td>1971</td>\n",
       "      <td>1</td>\n",
       "      <td>102.5</td>\n",
       "    </tr>\n",
       "    <tr>\n",
       "      <th>3</th>\n",
       "      <td>1</td>\n",
       "      <td>52</td>\n",
       "      <td>1972</td>\n",
       "      <td>2</td>\n",
       "      <td>105.0</td>\n",
       "    </tr>\n",
       "    <tr>\n",
       "      <th>4</th>\n",
       "      <td>1</td>\n",
       "      <td>52</td>\n",
       "      <td>1973</td>\n",
       "      <td>1</td>\n",
       "      <td>105.5</td>\n",
       "    </tr>\n",
       "  </tbody>\n",
       "</table>\n",
       "</div>"
      ],
      "text/plain": [
       "   Event Code  Weight Class  Year  len    max\n",
       "0           1            52  1969    1  100.0\n",
       "1           1            52  1970    1  100.5\n",
       "2           1            52  1971    1  102.5\n",
       "3           1            52  1972    2  105.0\n",
       "4           1            52  1973    1  105.5"
      ]
     },
     "execution_count": 237,
     "metadata": {},
     "output_type": "execute_result"
    }
   ],
   "source": [
    "records2\n",
    "rec3 = records2.reset_index()\n",
    "rec3.head()"
   ]
  },
  {
   "cell_type": "code",
   "execution_count": 250,
   "metadata": {
    "collapsed": false
   },
   "outputs": [],
   "source": [
    "rec4 = rec3.sort_values(['Weight Class', 'Event Code', 'Year'])"
   ]
  },
  {
   "cell_type": "code",
   "execution_count": null,
   "metadata": {
    "collapsed": false
   },
   "outputs": [],
   "source": [
    "rec4['max'] - rec4['max'].shift(1)"
   ]
  },
  {
   "cell_type": "code",
   "execution_count": 292,
   "metadata": {
    "collapsed": false
   },
   "outputs": [
    {
     "data": {
      "text/html": [
       "<div>\n",
       "<table border=\"1\" class=\"dataframe\">\n",
       "  <thead>\n",
       "    <tr style=\"text-align: right;\">\n",
       "      <th></th>\n",
       "      <th>Event Code</th>\n",
       "      <th>Weight Class</th>\n",
       "      <th>Year</th>\n",
       "      <th>len</th>\n",
       "      <th>max</th>\n",
       "    </tr>\n",
       "  </thead>\n",
       "  <tbody>\n",
       "    <tr>\n",
       "      <th>0</th>\n",
       "      <td>1</td>\n",
       "      <td>52</td>\n",
       "      <td>1969</td>\n",
       "      <td>1</td>\n",
       "      <td>100.0</td>\n",
       "    </tr>\n",
       "    <tr>\n",
       "      <th>1</th>\n",
       "      <td>1</td>\n",
       "      <td>52</td>\n",
       "      <td>1970</td>\n",
       "      <td>1</td>\n",
       "      <td>100.5</td>\n",
       "    </tr>\n",
       "    <tr>\n",
       "      <th>2</th>\n",
       "      <td>1</td>\n",
       "      <td>52</td>\n",
       "      <td>1971</td>\n",
       "      <td>1</td>\n",
       "      <td>102.5</td>\n",
       "    </tr>\n",
       "    <tr>\n",
       "      <th>3</th>\n",
       "      <td>1</td>\n",
       "      <td>52</td>\n",
       "      <td>1972</td>\n",
       "      <td>2</td>\n",
       "      <td>105.0</td>\n",
       "    </tr>\n",
       "    <tr>\n",
       "      <th>4</th>\n",
       "      <td>1</td>\n",
       "      <td>52</td>\n",
       "      <td>1973</td>\n",
       "      <td>1</td>\n",
       "      <td>105.5</td>\n",
       "    </tr>\n",
       "  </tbody>\n",
       "</table>\n",
       "</div>"
      ],
      "text/plain": [
       "   Event Code  Weight Class  Year  len    max\n",
       "0           1            52  1969    1  100.0\n",
       "1           1            52  1970    1  100.5\n",
       "2           1            52  1971    1  102.5\n",
       "3           1            52  1972    2  105.0\n",
       "4           1            52  1973    1  105.5"
      ]
     },
     "execution_count": 292,
     "metadata": {},
     "output_type": "execute_result"
    }
   ],
   "source": [
    "rec4.head()"
   ]
  },
  {
   "cell_type": "code",
   "execution_count": 294,
   "metadata": {
    "collapsed": false
   },
   "outputs": [],
   "source": [
    "records_56t = rec4[(rec4['Event Code']==3) & (rec4['Weight Class']==56)& (rec4['Year']>1972)]"
   ]
  },
  {
   "cell_type": "code",
   "execution_count": 295,
   "metadata": {
    "collapsed": false
   },
   "outputs": [
    {
     "name": "stderr",
     "output_type": "stream",
     "text": [
      "//anaconda/lib/python3.4/site-packages/ipykernel/__main__.py:1: SettingWithCopyWarning: \n",
      "A value is trying to be set on a copy of a slice from a DataFrame.\n",
      "Try using .loc[row_indexer,col_indexer] = value instead\n",
      "\n",
      "See the caveats in the documentation: http://pandas.pydata.org/pandas-docs/stable/indexing.html#indexing-view-versus-copy\n",
      "  if __name__ == '__main__':\n"
     ]
    }
   ],
   "source": [
    "records_56t['diff'] = records_56t['max']-records_56t['max'].shift(1)"
   ]
  },
  {
   "cell_type": "code",
   "execution_count": 299,
   "metadata": {
    "collapsed": false
   },
   "outputs": [
    {
     "data": {
      "text/html": [
       "<div>\n",
       "<table border=\"1\" class=\"dataframe\">\n",
       "  <thead>\n",
       "    <tr style=\"text-align: right;\">\n",
       "      <th></th>\n",
       "      <th>Event Code</th>\n",
       "      <th>Weight Class</th>\n",
       "      <th>Year</th>\n",
       "      <th>len</th>\n",
       "      <th>max</th>\n",
       "      <th>diff</th>\n",
       "    </tr>\n",
       "  </thead>\n",
       "  <tbody>\n",
       "    <tr>\n",
       "      <th>625</th>\n",
       "      <td>3</td>\n",
       "      <td>56</td>\n",
       "      <td>1973</td>\n",
       "      <td>2</td>\n",
       "      <td>257.5</td>\n",
       "      <td>NaN</td>\n",
       "    </tr>\n",
       "    <tr>\n",
       "      <th>626</th>\n",
       "      <td>3</td>\n",
       "      <td>56</td>\n",
       "      <td>1974</td>\n",
       "      <td>1</td>\n",
       "      <td>260.0</td>\n",
       "      <td>2.5</td>\n",
       "    </tr>\n",
       "    <tr>\n",
       "      <th>1273</th>\n",
       "      <td>3</td>\n",
       "      <td>56</td>\n",
       "      <td>1975</td>\n",
       "      <td>0</td>\n",
       "      <td>260.0</td>\n",
       "      <td>0.0</td>\n",
       "    </tr>\n",
       "    <tr>\n",
       "      <th>627</th>\n",
       "      <td>3</td>\n",
       "      <td>56</td>\n",
       "      <td>1976</td>\n",
       "      <td>1</td>\n",
       "      <td>262.5</td>\n",
       "      <td>2.5</td>\n",
       "    </tr>\n",
       "    <tr>\n",
       "      <th>1274</th>\n",
       "      <td>3</td>\n",
       "      <td>56</td>\n",
       "      <td>1977</td>\n",
       "      <td>0</td>\n",
       "      <td>262.5</td>\n",
       "      <td>0.0</td>\n",
       "    </tr>\n",
       "  </tbody>\n",
       "</table>\n",
       "</div>"
      ],
      "text/plain": [
       "      Event Code  Weight Class  Year  len    max  diff\n",
       "625            3            56  1973    2  257.5   NaN\n",
       "626            3            56  1974    1  260.0   2.5\n",
       "1273           3            56  1975    0  260.0   0.0\n",
       "627            3            56  1976    1  262.5   2.5\n",
       "1274           3            56  1977    0  262.5   0.0"
      ]
     },
     "execution_count": 299,
     "metadata": {},
     "output_type": "execute_result"
    }
   ],
   "source": [
    "records_56t.head()"
   ]
  },
  {
   "cell_type": "code",
   "execution_count": 298,
   "metadata": {
    "collapsed": true
   },
   "outputs": [],
   "source": [
    "from sklearn.naive_bayes import GaussianNB\n",
    "gnb = GaussianNB()"
   ]
  },
  {
   "cell_type": "code",
   "execution_count": 306,
   "metadata": {
    "collapsed": false
   },
   "outputs": [],
   "source": [
    "X = records_56t[['Year','max']]\n",
    "y = records_56t['len']\n",
    "#gnb.fit(X, y)"
   ]
  },
  {
   "cell_type": "code",
   "execution_count": 307,
   "metadata": {
    "collapsed": false
   },
   "outputs": [
    {
     "data": {
      "text/plain": [
       "GaussianNB()"
      ]
     },
     "execution_count": 307,
     "metadata": {},
     "output_type": "execute_result"
    }
   ],
   "source": [
    "gnb.fit(X, y)"
   ]
  },
  {
   "cell_type": "code",
   "execution_count": 354,
   "metadata": {
    "collapsed": false
   },
   "outputs": [
    {
     "data": {
      "text/plain": [
       "array([[  1.00000000e+00,   4.06001045e-23,   0.00000000e+00,\n",
       "          0.00000000e+00,   0.00000000e+00]])"
      ]
     },
     "execution_count": 354,
     "metadata": {},
     "output_type": "execute_result"
    }
   ],
   "source": [
    "gnb.predict_proba([2,305.5])"
   ]
  },
  {
   "cell_type": "code",
   "execution_count": 347,
   "metadata": {
    "collapsed": false
   },
   "outputs": [
    {
     "data": {
      "text/plain": [
       "0.79069767441860461"
      ]
     },
     "execution_count": 347,
     "metadata": {},
     "output_type": "execute_result"
    }
   ],
   "source": [
    "gnb.score(X,y)"
   ]
  },
  {
   "cell_type": "code",
   "execution_count": 2,
   "metadata": {
    "collapsed": true
   },
   "outputs": [],
   "source": [
    "#openning the file after closing the notebook \n",
    "import pickle\n",
    "class Company(object):\n",
    "    def __init__(self, rec):\n",
    "        self.rec = rec\n",
    "        \n",
    "with open('recent_comp.pkl', 'rb') as input:\n",
    "    rdatar = pickle.load(input, encoding='latin1')    \n",
    "\n",
    "recent_data = rdatar.rec   "
   ]
  },
  {
   "cell_type": "code",
   "execution_count": 3,
   "metadata": {
    "collapsed": true
   },
   "outputs": [],
   "source": [
    "recent_data = recent_data.dropna()"
   ]
  },
  {
   "cell_type": "code",
   "execution_count": 4,
   "metadata": {
    "collapsed": false
   },
   "outputs": [],
   "source": [
    "#Since my data has been normalized by the NSC Im not concerned with body weight, so for a given\n",
    "#lifter, I'll use his country of origin, age and the years he has competed and plot that\n",
    "#against his coefficient.\n",
    "X = np.array(recent_data[['LC', 'CC', 'Birth', 'Age', 'Year']])\n",
    "y = np.array(recent_data['NSC'])"
   ]
  },
  {
   "cell_type": "code",
   "execution_count": 5,
   "metadata": {
    "collapsed": false
   },
   "outputs": [],
   "source": [
    "#Choosing my ML method\n",
    "from sklearn.neighbors import KNeighborsRegressor"
   ]
  },
  {
   "cell_type": "code",
   "execution_count": 375,
   "metadata": {
    "collapsed": true
   },
   "outputs": [],
   "source": [
    "nei = KNeighborsRegressor(n_neighbors=100, weights='distance',\n",
    "                          algorithm='ball_tree', leaf_size=1000, metric='manhattan')"
   ]
  },
  {
   "cell_type": "code",
   "execution_count": 376,
   "metadata": {
    "collapsed": true
   },
   "outputs": [],
   "source": [
    "from sklearn.cross_validation import train_test_split"
   ]
  },
  {
   "cell_type": "code",
   "execution_count": 377,
   "metadata": {
    "collapsed": true
   },
   "outputs": [],
   "source": [
    "X_train, X_test, y_train, y_test = train_test_split(X, y, test_size=0.3, random_state=100)"
   ]
  },
  {
   "cell_type": "code",
   "execution_count": 378,
   "metadata": {
    "collapsed": false
   },
   "outputs": [
    {
     "data": {
      "text/plain": [
       "KNeighborsRegressor(algorithm='ball_tree', leaf_size=1000, metric='manhattan',\n",
       "          metric_params=None, n_neighbors=100, p=2, weights='distance')"
      ]
     },
     "execution_count": 378,
     "metadata": {},
     "output_type": "execute_result"
    }
   ],
   "source": [
    "nei.fit(X_train, y_train)"
   ]
  },
  {
   "cell_type": "code",
   "execution_count": 379,
   "metadata": {
    "collapsed": false
   },
   "outputs": [
    {
     "data": {
      "text/plain": [
       "array([-160.48709214])"
      ]
     },
     "execution_count": 379,
     "metadata": {},
     "output_type": "execute_result"
    }
   ],
   "source": [
    "nei.predict([6261,48,1998,18,2016])"
   ]
  },
  {
   "cell_type": "code",
   "execution_count": 380,
   "metadata": {
    "collapsed": false
   },
   "outputs": [
    {
     "data": {
      "text/plain": [
       "array([-167.15619991])"
      ]
     },
     "execution_count": 380,
     "metadata": {},
     "output_type": "execute_result"
    }
   ],
   "source": [
    "nei.predict([5810,90,1999,17,2016])"
   ]
  },
  {
   "cell_type": "code",
   "execution_count": 381,
   "metadata": {
    "collapsed": false
   },
   "outputs": [
    {
     "data": {
      "text/plain": [
       "array([-72.12802443])"
      ]
     },
     "execution_count": 381,
     "metadata": {},
     "output_type": "execute_result"
    }
   ],
   "source": [
    "nei.predict([3120,2,1993,23,2016])"
   ]
  },
  {
   "cell_type": "code",
   "execution_count": 382,
   "metadata": {
    "collapsed": false
   },
   "outputs": [
    {
     "data": {
      "text/plain": [
       "array([-128.25262875])"
      ]
     },
     "execution_count": 382,
     "metadata": {},
     "output_type": "execute_result"
    }
   ],
   "source": [
    "nei.predict([4846,88,1999,16,2016])"
   ]
  },
  {
   "cell_type": "code",
   "execution_count": 383,
   "metadata": {
    "collapsed": false
   },
   "outputs": [
    {
     "data": {
      "text/plain": [
       "array([-109.01232508])"
      ]
     },
     "execution_count": 383,
     "metadata": {},
     "output_type": "execute_result"
    }
   ],
   "source": [
    "nei.predict([5968,54,1995,21,2016])"
   ]
  },
  {
   "cell_type": "code",
   "execution_count": 384,
   "metadata": {
    "collapsed": true
   },
   "outputs": [],
   "source": [
    "import dill\n",
    "with open('nei_model.dill', 'wb') as output:\n",
    "    dill.dump(nei,output)"
   ]
  },
  {
   "cell_type": "code",
   "execution_count": 385,
   "metadata": {
    "collapsed": true
   },
   "outputs": [],
   "source": [
    "with open('nei_model.dill', 'rb') as input:\n",
    "    nei_model_pred = dill.load(input)"
   ]
  },
  {
   "cell_type": "code",
   "execution_count": 386,
   "metadata": {
    "collapsed": false
   },
   "outputs": [
    {
     "data": {
      "text/plain": [
       "array([-109.01232508])"
      ]
     },
     "execution_count": 386,
     "metadata": {},
     "output_type": "execute_result"
    }
   ],
   "source": [
    "nei_model_pred.predict([5968,54,1995,21,2016])"
   ]
  },
  {
   "cell_type": "code",
   "execution_count": null,
   "metadata": {
    "collapsed": true
   },
   "outputs": [],
   "source": []
  }
 ],
 "metadata": {
  "kernelspec": {
   "display_name": "Python 3",
   "language": "python",
   "name": "python3"
  },
  "language_info": {
   "codemirror_mode": {
    "name": "ipython",
    "version": 3
   },
   "file_extension": ".py",
   "mimetype": "text/x-python",
   "name": "python",
   "nbconvert_exporter": "python",
   "pygments_lexer": "ipython3",
   "version": "3.4.4"
  }
 },
 "nbformat": 4,
 "nbformat_minor": 0
}
