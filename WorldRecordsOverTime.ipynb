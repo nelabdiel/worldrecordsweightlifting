{
 "cells": [
  {
   "cell_type": "code",
   "execution_count": 2,
   "metadata": {
    "collapsed": true
   },
   "outputs": [],
   "source": [
    "from bs4 import BeautifulSoup\n",
    "import requests\n",
    "import pickle\n",
    "import pandas as pd\n",
    "import matplotlib\n",
    "import matplotlib.pylab as plt\n",
    "import scipy as sp\n",
    "%matplotlib inline\n",
    "import math\n",
    "import matplotlib.pyplot as plt\n",
    "import numpy as np"
   ]
  },
  {
   "cell_type": "code",
   "execution_count": 2,
   "metadata": {
    "collapsed": true
   },
   "outputs": [],
   "source": [
    "#List of pages to scrape from\n",
    "\n",
    "LLS = []\n",
    "\n",
    "for i in range(1917,2016):\n",
    "    link = \"%s%s\" %('http://www.chidlovski.net/liftup/l_recResult_by_Year.asp?wyear=',i)\n",
    "    LLS.append(link)\n",
    "    \n",
    "    "
   ]
  },
  {
   "cell_type": "code",
   "execution_count": 3,
   "metadata": {
    "collapsed": false
   },
   "outputs": [
    {
     "data": {
      "text/plain": [
       "99"
      ]
     },
     "execution_count": 3,
     "metadata": {},
     "output_type": "execute_result"
    }
   ],
   "source": [
    "len(LLS)"
   ]
  },
  {
   "cell_type": "code",
   "execution_count": 4,
   "metadata": {
    "collapsed": false
   },
   "outputs": [],
   "source": [
    "#Getting all the information from previous world records.\n",
    "\n",
    "recordslist = []\n",
    "for i in range(len(LLS)):\n",
    "    recordentries = []\n",
    "    r= requests.get(LLS[i])\n",
    "    soup = BeautifulSoup(r.content)\n",
    "    rows = soup.find_all(\"tr\")\n",
    "    for row in rows:\n",
    "        cells = row.find_all('td')\n",
    "        texcell = []\n",
    "        for td in cells:    \n",
    "            texcell.append(td.text)\n",
    "        recordentries.append(texcell)\n",
    "    recordslist.append(recordentries) "
   ]
  },
  {
   "cell_type": "code",
   "execution_count": 6,
   "metadata": {
    "collapsed": false
   },
   "outputs": [],
   "source": [
    "#Creating a coherent list of all world records.\n",
    "allrecords = []\n",
    "for record in recordslist:\n",
    "    y = 1917+recordslist.index(record)\n",
    "    for lifter in record[1:]:\n",
    "        if lifter[0] !='' and lifter[2] !='' and lifter[3] !='' and lifter[4] !='':\n",
    "            goodyears = [1920, 1921, 1922, 1923, 1924, 1928, 1932, 1936, 1937, 1938]\n",
    "            \n",
    "            \n",
    "#If the caption does not contain the numeric value of the weight class assign it to it.            \n",
    "            if y <1946 and (y not in goodyears):\n",
    "                \n",
    "                bwc = lifter[0].replace(u\"\\xa0\",u'')\n",
    "                if bwc == 'Featherweight':\n",
    "                    bw = 60\n",
    "                elif bwc == 'Lightweight':\n",
    "                    bw = 67.5\n",
    "                elif bwc == 'Middleweight':\n",
    "                    bw = 75\n",
    "                elif bwc == 'Light HeavyWeight':\n",
    "                    bw = 82.5\n",
    "                elif bwc == 'Heavyweight' or bwc =='Super Heavyweight':\n",
    "                    bw = 93.5\n",
    "#turning the number in the caption to a float            \n",
    "            else:\n",
    "                bw = lifter[0].replace(u\"\\xa0\",u' ')\n",
    "                bw = bw.split(' ')\n",
    "                k =len(bw)-1\n",
    "                bw = bw[k][1:-3]\n",
    "                if '+' in bw:\n",
    "                    bw = float(bw[:-1])+11\n",
    "                elif '' == bw:\n",
    "                    bw = 100\n",
    "                else:\n",
    "                    bw =float(bw)\n",
    "             \n",
    "            \n",
    "#name and country are on the same text line so we have to split them            \n",
    "            namecountry = lifter[2].split(' ')\n",
    "#Some special cases            \n",
    "            if 'Cuba' == namecountry[len(namecountry)-1]:\n",
    "                country = 'Cuba'\n",
    "                name = namecountry[0].replace(u\"\\xa0\",u' ')\n",
    "                for i in range(1,len(namecountry)-1):\n",
    "                    name = name + namecountry[i]\n",
    "                \n",
    "                \n",
    "            elif 'Egypt' == namecountry[len(namecountry)-1]:\n",
    "                country = 'Egypt'\n",
    "                name = namecountry[0].replace(u\"\\xa0\",u' ')\n",
    "                for i in range(1,len(namecountry)-1):\n",
    "                    name = name + namecountry[i]\n",
    "                    \n",
    "            elif 'Korea' == namecountry[len(namecountry)-1]:\n",
    "                country = \"%s %s\" % (namecountry[len(namecountry)-2],namecountry[len(namecountry)-1])\n",
    "                name = namecountry[0].replace(u\"\\xa0\",u' ')\n",
    "                for i in range(1,len(namecountry)-2):\n",
    "                    name = name + namecountry[i]\n",
    "                    \n",
    "            elif 'Belgium' == namecountry[len(namecountry)-1]:\n",
    "                country = namecountry[len(namecountry)-1]\n",
    "                name = namecountry[0].replace(u\"\\xa0\",u' ')\n",
    "                for i in range(1,len(namecountry)-1):\n",
    "                    name = name + namecountry[i] \n",
    "                    \n",
    "                    \n",
    "#general case                \n",
    "            elif len(namecountry) >2:    \n",
    "                n = len(namecountry)-1\n",
    "                country = \"%s %s\" % (namecountry[n-1],namecountry[n])\n",
    "                name = namecountry[0].replace(u\"\\xa0\",u' ')  \n",
    "                \n",
    "            else:\n",
    "                \n",
    "                country = namecountry[1]\n",
    "                name = namecountry[0].replace(u\"\\xa0\",u' ')\n",
    "                \n",
    "#fixing old country names and a few glitches\n",
    "\n",
    "            if country == 'East Germany' or country =='West Germany':\n",
    "                country = 'Germany'\n",
    "            \n",
    "            elif country == 'Soviet Union':\n",
    "                country = 'Russia'\n",
    "                \n",
    "            elif country == 'TRZEBIATOWSKI Germany':\n",
    "                country = 'Germany'\n",
    "                name = 'Hans VON TRZEBIATOWSKI'\n",
    "            \n",
    "            if name == 'Ming':\n",
    "                country = 'China'\n",
    "                name ='Ming Siang HSIAO'\n",
    "                \n",
    "                \n",
    "#fixing names of events            \n",
    "            event = lifter[3].replace(u\"\\xa0\",u'').split(' ')\n",
    "            if event[0] == 'Total2' or event[0]=='Total3':\n",
    "                event = 'Total'\n",
    "              \n",
    "            elif event[0]=='Clean':\n",
    "                event = 'Clean and Jerk'\n",
    "                \n",
    "            elif event[0] =='Snatch':\n",
    "                event = 'Snatch'\n",
    "                \n",
    "            elif event[0] =='Press':\n",
    "                event = 'Press'\n",
    "        \n",
    "            result = lifter[4].replace(u\"\\xa0\",u'')\n",
    "            if result !='':    \n",
    "                result = float(result)\n",
    "#creating full clean table            \n",
    "                allrecords.append((event ,y , country, name, bw, result))"
   ]
  },
  {
   "cell_type": "code",
   "execution_count": 7,
   "metadata": {
    "collapsed": false
   },
   "outputs": [
    {
     "data": {
      "text/plain": [
       "1991"
      ]
     },
     "execution_count": 7,
     "metadata": {},
     "output_type": "execute_result"
    }
   ],
   "source": [
    "len(allrecords)"
   ]
  },
  {
   "cell_type": "code",
   "execution_count": 8,
   "metadata": {
    "collapsed": false
   },
   "outputs": [],
   "source": [
    "#Passing the information onto Pandas to facilitate the analysis.\n",
    "records = pd.DataFrame(allrecords, columns=['Event', 'Year', 'Country','Lifter', 'Weight Class', 'Record'])"
   ]
  },
  {
   "cell_type": "code",
   "execution_count": 10,
   "metadata": {
    "collapsed": false
   },
   "outputs": [
    {
     "data": {
      "text/html": [
       "<div>\n",
       "<table border=\"1\" class=\"dataframe\">\n",
       "  <thead>\n",
       "    <tr style=\"text-align: right;\">\n",
       "      <th></th>\n",
       "      <th>Event</th>\n",
       "      <th>Year</th>\n",
       "      <th>Country</th>\n",
       "      <th>Lifter</th>\n",
       "      <th>Weight Class</th>\n",
       "      <th>Record</th>\n",
       "    </tr>\n",
       "  </thead>\n",
       "  <tbody>\n",
       "    <tr>\n",
       "      <th>0</th>\n",
       "      <td>Snatch</td>\n",
       "      <td>1917</td>\n",
       "      <td>Russia</td>\n",
       "      <td>Alexander BUKHAROV</td>\n",
       "      <td>60.0</td>\n",
       "      <td>75.0</td>\n",
       "    </tr>\n",
       "    <tr>\n",
       "      <th>1</th>\n",
       "      <td>Snatch</td>\n",
       "      <td>1918</td>\n",
       "      <td>Germany</td>\n",
       "      <td>Hermann SHWINDT</td>\n",
       "      <td>60.0</td>\n",
       "      <td>92.5</td>\n",
       "    </tr>\n",
       "    <tr>\n",
       "      <th>2</th>\n",
       "      <td>Clean and Jerk</td>\n",
       "      <td>1919</td>\n",
       "      <td>Germany</td>\n",
       "      <td>Johann RENNER</td>\n",
       "      <td>67.5</td>\n",
       "      <td>102.5</td>\n",
       "    </tr>\n",
       "    <tr>\n",
       "      <th>3</th>\n",
       "      <td>Clean and Jerk</td>\n",
       "      <td>1919</td>\n",
       "      <td>Germany</td>\n",
       "      <td>Josef ZIMMERMANN</td>\n",
       "      <td>67.5</td>\n",
       "      <td>107.5</td>\n",
       "    </tr>\n",
       "    <tr>\n",
       "      <th>4</th>\n",
       "      <td>Snatch</td>\n",
       "      <td>1919</td>\n",
       "      <td>Germany</td>\n",
       "      <td>Hans GEORGI</td>\n",
       "      <td>67.5</td>\n",
       "      <td>85.0</td>\n",
       "    </tr>\n",
       "  </tbody>\n",
       "</table>\n",
       "</div>"
      ],
      "text/plain": [
       "            Event  Year  Country              Lifter  Weight Class  Record\n",
       "0          Snatch  1917   Russia  Alexander BUKHAROV          60.0    75.0\n",
       "1          Snatch  1918  Germany     Hermann SHWINDT          60.0    92.5\n",
       "2  Clean and Jerk  1919  Germany       Johann RENNER          67.5   102.5\n",
       "3  Clean and Jerk  1919  Germany    Josef ZIMMERMANN          67.5   107.5\n",
       "4          Snatch  1919  Germany         Hans GEORGI          67.5    85.0"
      ]
     },
     "execution_count": 10,
     "metadata": {},
     "output_type": "execute_result"
    }
   ],
   "source": [
    "records.head()"
   ]
  },
  {
   "cell_type": "code",
   "execution_count": 381,
   "metadata": {
    "collapsed": true
   },
   "outputs": [],
   "source": [
    "def eventnumber(row):\n",
    "    if row['Event'] == 'Snatch':\n",
    "        return 1\n",
    "    elif row['Event'] == 'Clean and Jerk':\n",
    "        return 2\n",
    "    elif row['Event'] == 'Total':\n",
    "        return 3\n",
    "    else:\n",
    "        return 4"
   ]
  },
  {
   "cell_type": "code",
   "execution_count": 13,
   "metadata": {
    "collapsed": true
   },
   "outputs": [],
   "source": [
    "records['Event Code'] = records.apply(lambda row: eventnumber(row),axis=1)"
   ]
  },
  {
   "cell_type": "code",
   "execution_count": 14,
   "metadata": {
    "collapsed": false
   },
   "outputs": [
    {
     "data": {
      "text/html": [
       "<div>\n",
       "<table border=\"1\" class=\"dataframe\">\n",
       "  <thead>\n",
       "    <tr style=\"text-align: right;\">\n",
       "      <th></th>\n",
       "      <th>Event</th>\n",
       "      <th>Year</th>\n",
       "      <th>Country</th>\n",
       "      <th>Lifter</th>\n",
       "      <th>Weight Class</th>\n",
       "      <th>Record</th>\n",
       "      <th>Event Code</th>\n",
       "    </tr>\n",
       "  </thead>\n",
       "  <tbody>\n",
       "    <tr>\n",
       "      <th>0</th>\n",
       "      <td>Snatch</td>\n",
       "      <td>1917</td>\n",
       "      <td>Russia</td>\n",
       "      <td>Alexander BUKHAROV</td>\n",
       "      <td>60.0</td>\n",
       "      <td>75.0</td>\n",
       "      <td>1</td>\n",
       "    </tr>\n",
       "    <tr>\n",
       "      <th>1</th>\n",
       "      <td>Snatch</td>\n",
       "      <td>1918</td>\n",
       "      <td>Germany</td>\n",
       "      <td>Hermann SHWINDT</td>\n",
       "      <td>60.0</td>\n",
       "      <td>92.5</td>\n",
       "      <td>1</td>\n",
       "    </tr>\n",
       "    <tr>\n",
       "      <th>2</th>\n",
       "      <td>Clean and Jerk</td>\n",
       "      <td>1919</td>\n",
       "      <td>Germany</td>\n",
       "      <td>Johann RENNER</td>\n",
       "      <td>67.5</td>\n",
       "      <td>102.5</td>\n",
       "      <td>2</td>\n",
       "    </tr>\n",
       "    <tr>\n",
       "      <th>3</th>\n",
       "      <td>Clean and Jerk</td>\n",
       "      <td>1919</td>\n",
       "      <td>Germany</td>\n",
       "      <td>Josef ZIMMERMANN</td>\n",
       "      <td>67.5</td>\n",
       "      <td>107.5</td>\n",
       "      <td>2</td>\n",
       "    </tr>\n",
       "    <tr>\n",
       "      <th>4</th>\n",
       "      <td>Snatch</td>\n",
       "      <td>1919</td>\n",
       "      <td>Germany</td>\n",
       "      <td>Hans GEORGI</td>\n",
       "      <td>67.5</td>\n",
       "      <td>85.0</td>\n",
       "      <td>1</td>\n",
       "    </tr>\n",
       "  </tbody>\n",
       "</table>\n",
       "</div>"
      ],
      "text/plain": [
       "            Event  Year  Country              Lifter  Weight Class  Record  \\\n",
       "0          Snatch  1917   Russia  Alexander BUKHAROV          60.0    75.0   \n",
       "1          Snatch  1918  Germany     Hermann SHWINDT          60.0    92.5   \n",
       "2  Clean and Jerk  1919  Germany       Johann RENNER          67.5   102.5   \n",
       "3  Clean and Jerk  1919  Germany    Josef ZIMMERMANN          67.5   107.5   \n",
       "4          Snatch  1919  Germany         Hans GEORGI          67.5    85.0   \n",
       "\n",
       "   Event Code  \n",
       "0           1  \n",
       "1           1  \n",
       "2           2  \n",
       "3           2  \n",
       "4           1  "
      ]
     },
     "execution_count": 14,
     "metadata": {},
     "output_type": "execute_result"
    }
   ],
   "source": [
    "records.head()"
   ]
  },
  {
   "cell_type": "code",
   "execution_count": 15,
   "metadata": {
    "collapsed": false
   },
   "outputs": [
    {
     "data": {
      "text/html": [
       "<div>\n",
       "<table border=\"1\" class=\"dataframe\">\n",
       "  <thead>\n",
       "    <tr style=\"text-align: right;\">\n",
       "      <th></th>\n",
       "      <th>Event</th>\n",
       "      <th>Year</th>\n",
       "      <th>Country</th>\n",
       "      <th>Lifter</th>\n",
       "      <th>Weight Class</th>\n",
       "      <th>Record</th>\n",
       "      <th>Event Code</th>\n",
       "    </tr>\n",
       "  </thead>\n",
       "  <tbody>\n",
       "    <tr>\n",
       "      <th>572</th>\n",
       "      <td>Press</td>\n",
       "      <td>1964</td>\n",
       "      <td>Puerto Rico</td>\n",
       "      <td>Fernando BAEZ</td>\n",
       "      <td>56</td>\n",
       "      <td>117.5</td>\n",
       "      <td>4</td>\n",
       "    </tr>\n",
       "    <tr>\n",
       "      <th>661</th>\n",
       "      <td>Press</td>\n",
       "      <td>1966</td>\n",
       "      <td>Puerto Rico</td>\n",
       "      <td>Fernando BAEZ</td>\n",
       "      <td>56</td>\n",
       "      <td>120.0</td>\n",
       "      <td>4</td>\n",
       "    </tr>\n",
       "    <tr>\n",
       "      <th>691</th>\n",
       "      <td>Press</td>\n",
       "      <td>1967</td>\n",
       "      <td>Puerto Rico</td>\n",
       "      <td>Fernando BAEZ</td>\n",
       "      <td>56</td>\n",
       "      <td>122.5</td>\n",
       "      <td>4</td>\n",
       "    </tr>\n",
       "  </tbody>\n",
       "</table>\n",
       "</div>"
      ],
      "text/plain": [
       "     Event  Year      Country         Lifter  Weight Class  Record  Event Code\n",
       "572  Press  1964  Puerto Rico  Fernando BAEZ            56   117.5           4\n",
       "661  Press  1966  Puerto Rico  Fernando BAEZ            56   120.0           4\n",
       "691  Press  1967  Puerto Rico  Fernando BAEZ            56   122.5           4"
      ]
     },
     "execution_count": 15,
     "metadata": {},
     "output_type": "execute_result"
    }
   ],
   "source": [
    "#Didn't know we had world records\n",
    "records[records['Country']=='Puerto Rico']"
   ]
  },
  {
   "cell_type": "code",
   "execution_count": 105,
   "metadata": {
    "collapsed": false
   },
   "outputs": [
    {
     "data": {
      "text/plain": [
       "Country\n",
       "Argentina                 1\n",
       "Armenia                   4\n",
       "Austria                  30\n",
       "Belarus                  18\n",
       "Belgium                   7\n",
       "Bulgaria                240\n",
       "Burma                     2\n",
       "Canada                    8\n",
       "China                    60\n",
       "Croatia                   1\n",
       "Cuba                     22\n",
       "Czechoslovakia            3\n",
       "Denmark                   2\n",
       "Egypt                    37\n",
       "Estonia                   6\n",
       "Finland                  31\n",
       "France                   37\n",
       "Georgia                   4\n",
       "Germany                  87\n",
       "Great Britain             3\n",
       "Greece                   22\n",
       "Hungary                  42\n",
       "Indonesia                 2\n",
       "Iran                     28\n",
       "Italy                     6\n",
       "Japan                    49\n",
       "Kazakhstan                8\n",
       "Luxembourg                1\n",
       "Netherlands Antilles      1\n",
       "North Korea              13\n",
       "Norway                    1\n",
       "Poland                   47\n",
       "Puerto Rico               3\n",
       "Romania                   2\n",
       "Russia                  974\n",
       "Singapore                 1\n",
       "South Korea               4\n",
       "Sweden                   17\n",
       "Turkey                   47\n",
       "Turkmenistan              1\n",
       "Ukraine                   9\n",
       "United States           109\n",
       "Uzbekistan                1\n",
       "Name: Record, dtype: int64"
      ]
     },
     "execution_count": 105,
     "metadata": {},
     "output_type": "execute_result"
    }
   ],
   "source": [
    "#Amount of world Records broken by the different countries.\n",
    "records.groupby('Country')['Record'].count()"
   ]
  },
  {
   "cell_type": "code",
   "execution_count": 436,
   "metadata": {
    "collapsed": false
   },
   "outputs": [
    {
     "data": {
      "text/html": [
       "<div>\n",
       "<table border=\"1\" class=\"dataframe\">\n",
       "  <thead>\n",
       "    <tr style=\"text-align: right;\">\n",
       "      <th></th>\n",
       "      <th>Event</th>\n",
       "      <th>Year</th>\n",
       "      <th>Country</th>\n",
       "      <th>Lifter</th>\n",
       "      <th>Weight Class</th>\n",
       "      <th>Record</th>\n",
       "      <th>Event Code</th>\n",
       "    </tr>\n",
       "  </thead>\n",
       "  <tbody>\n",
       "    <tr>\n",
       "      <th>781</th>\n",
       "      <td>Clean and Jerk</td>\n",
       "      <td>1969</td>\n",
       "      <td>Russia</td>\n",
       "      <td>Vladislav KRISHCHISHIN</td>\n",
       "      <td>52</td>\n",
       "      <td>125.5</td>\n",
       "      <td>2</td>\n",
       "    </tr>\n",
       "    <tr>\n",
       "      <th>782</th>\n",
       "      <td>Clean and Jerk</td>\n",
       "      <td>1969</td>\n",
       "      <td>Russia</td>\n",
       "      <td>Vladislav KRISHCHISHIN</td>\n",
       "      <td>52</td>\n",
       "      <td>127.0</td>\n",
       "      <td>2</td>\n",
       "    </tr>\n",
       "    <tr>\n",
       "      <th>783</th>\n",
       "      <td>Clean and Jerk</td>\n",
       "      <td>1969</td>\n",
       "      <td>Indonesia</td>\n",
       "      <td>Charlie DEPHTIOS</td>\n",
       "      <td>52</td>\n",
       "      <td>127.5</td>\n",
       "      <td>2</td>\n",
       "    </tr>\n",
       "    <tr>\n",
       "      <th>784</th>\n",
       "      <td>Clean and Jerk</td>\n",
       "      <td>1969</td>\n",
       "      <td>Russia</td>\n",
       "      <td>Vladislav KRISHCHISHIN</td>\n",
       "      <td>52</td>\n",
       "      <td>128.5</td>\n",
       "      <td>2</td>\n",
       "    </tr>\n",
       "    <tr>\n",
       "      <th>843</th>\n",
       "      <td>Clean and Jerk</td>\n",
       "      <td>1970</td>\n",
       "      <td>Russia</td>\n",
       "      <td>Vladislav KRISHCHISHIN</td>\n",
       "      <td>52</td>\n",
       "      <td>130.0</td>\n",
       "      <td>2</td>\n",
       "    </tr>\n",
       "  </tbody>\n",
       "</table>\n",
       "</div>"
      ],
      "text/plain": [
       "              Event  Year    Country                  Lifter  Weight Class  \\\n",
       "781  Clean and Jerk  1969     Russia  Vladislav KRISHCHISHIN            52   \n",
       "782  Clean and Jerk  1969     Russia  Vladislav KRISHCHISHIN            52   \n",
       "783  Clean and Jerk  1969  Indonesia        Charlie DEPHTIOS            52   \n",
       "784  Clean and Jerk  1969     Russia  Vladislav KRISHCHISHIN            52   \n",
       "843  Clean and Jerk  1970     Russia  Vladislav KRISHCHISHIN            52   \n",
       "\n",
       "     Record  Event Code  \n",
       "781   125.5           2  \n",
       "782   127.0           2  \n",
       "783   127.5           2  \n",
       "784   128.5           2  \n",
       "843   130.0           2  "
      ]
     },
     "execution_count": 436,
     "metadata": {},
     "output_type": "execute_result"
    }
   ],
   "source": [
    "#Records sorted by body weight and record to see the progression a bit better.\n",
    "records.sort(['Weight Class', 'Event', 'Record'], ascending=True).head()"
   ]
  },
  {
   "cell_type": "code",
   "execution_count": 431,
   "metadata": {
    "collapsed": false
   },
   "outputs": [],
   "source": [
    "#let's look at some graphs\n",
    "class56 = records[(records['Event'] == 'Total') & (records['Weight Class'] == 56) & (records['Year'] > 1973)]"
   ]
  },
  {
   "cell_type": "code",
   "execution_count": 432,
   "metadata": {
    "collapsed": false
   },
   "outputs": [
    {
     "data": {
      "text/html": [
       "<div>\n",
       "<table border=\"1\" class=\"dataframe\">\n",
       "  <thead>\n",
       "    <tr style=\"text-align: right;\">\n",
       "      <th></th>\n",
       "      <th>Event</th>\n",
       "      <th>Year</th>\n",
       "      <th>Country</th>\n",
       "      <th>Lifter</th>\n",
       "      <th>Weight Class</th>\n",
       "      <th>Record</th>\n",
       "      <th>Event Code</th>\n",
       "    </tr>\n",
       "  </thead>\n",
       "  <tbody>\n",
       "    <tr>\n",
       "      <th>1147</th>\n",
       "      <td>Total</td>\n",
       "      <td>1974</td>\n",
       "      <td>Bulgaria</td>\n",
       "      <td>Atanas KIROV</td>\n",
       "      <td>56</td>\n",
       "      <td>260.0</td>\n",
       "      <td>3</td>\n",
       "    </tr>\n",
       "    <tr>\n",
       "      <th>1234</th>\n",
       "      <td>Total</td>\n",
       "      <td>1976</td>\n",
       "      <td>Bulgaria</td>\n",
       "      <td>Norair NURIKIAN</td>\n",
       "      <td>56</td>\n",
       "      <td>262.5</td>\n",
       "      <td>3</td>\n",
       "    </tr>\n",
       "    <tr>\n",
       "      <th>1324</th>\n",
       "      <td>Total</td>\n",
       "      <td>1979</td>\n",
       "      <td>Bulgaria</td>\n",
       "      <td>Anton KODZHABASHEV</td>\n",
       "      <td>56</td>\n",
       "      <td>265.0</td>\n",
       "      <td>3</td>\n",
       "    </tr>\n",
       "    <tr>\n",
       "      <th>1325</th>\n",
       "      <td>Total</td>\n",
       "      <td>1979</td>\n",
       "      <td>Russia</td>\n",
       "      <td>Yurik SARKISYAN</td>\n",
       "      <td>56</td>\n",
       "      <td>267.5</td>\n",
       "      <td>3</td>\n",
       "    </tr>\n",
       "    <tr>\n",
       "      <th>1381</th>\n",
       "      <td>Total</td>\n",
       "      <td>1980</td>\n",
       "      <td>Russia</td>\n",
       "      <td>Victor VERETENNIKOV</td>\n",
       "      <td>56</td>\n",
       "      <td>270.0</td>\n",
       "      <td>3</td>\n",
       "    </tr>\n",
       "    <tr>\n",
       "      <th>1382</th>\n",
       "      <td>Total</td>\n",
       "      <td>1980</td>\n",
       "      <td>Russia</td>\n",
       "      <td>Yurik SARKISYAN</td>\n",
       "      <td>56</td>\n",
       "      <td>272.5</td>\n",
       "      <td>3</td>\n",
       "    </tr>\n",
       "    <tr>\n",
       "      <th>1383</th>\n",
       "      <td>Total</td>\n",
       "      <td>1980</td>\n",
       "      <td>Cuba</td>\n",
       "      <td>Daniel NUNEZ</td>\n",
       "      <td>56</td>\n",
       "      <td>275.0</td>\n",
       "      <td>3</td>\n",
       "    </tr>\n",
       "    <tr>\n",
       "      <th>1437</th>\n",
       "      <td>Total</td>\n",
       "      <td>1981</td>\n",
       "      <td>Germany</td>\n",
       "      <td>Andreas LETZ</td>\n",
       "      <td>56</td>\n",
       "      <td>277.5</td>\n",
       "      <td>3</td>\n",
       "    </tr>\n",
       "    <tr>\n",
       "      <th>1496</th>\n",
       "      <td>Total</td>\n",
       "      <td>1982</td>\n",
       "      <td>Bulgaria</td>\n",
       "      <td>Anton KODZHABASHEV</td>\n",
       "      <td>56</td>\n",
       "      <td>280.0</td>\n",
       "      <td>3</td>\n",
       "    </tr>\n",
       "    <tr>\n",
       "      <th>1560</th>\n",
       "      <td>Total</td>\n",
       "      <td>1983</td>\n",
       "      <td>Russia</td>\n",
       "      <td>Oksen MIRZOYAN</td>\n",
       "      <td>56</td>\n",
       "      <td>282.5</td>\n",
       "      <td>3</td>\n",
       "    </tr>\n",
       "    <tr>\n",
       "      <th>1561</th>\n",
       "      <td>Total</td>\n",
       "      <td>1983</td>\n",
       "      <td>Bulgaria</td>\n",
       "      <td>Naim SULEYMANOGLU</td>\n",
       "      <td>56</td>\n",
       "      <td>285.0</td>\n",
       "      <td>3</td>\n",
       "    </tr>\n",
       "    <tr>\n",
       "      <th>1562</th>\n",
       "      <td>Total</td>\n",
       "      <td>1983</td>\n",
       "      <td>Russia</td>\n",
       "      <td>Oksen MIRZOYAN</td>\n",
       "      <td>56</td>\n",
       "      <td>287.5</td>\n",
       "      <td>3</td>\n",
       "    </tr>\n",
       "    <tr>\n",
       "      <th>1563</th>\n",
       "      <td>Total</td>\n",
       "      <td>1983</td>\n",
       "      <td>Bulgaria</td>\n",
       "      <td>Naim SULEYMANOGLU</td>\n",
       "      <td>56</td>\n",
       "      <td>290.0</td>\n",
       "      <td>3</td>\n",
       "    </tr>\n",
       "    <tr>\n",
       "      <th>1564</th>\n",
       "      <td>Total</td>\n",
       "      <td>1983</td>\n",
       "      <td>Russia</td>\n",
       "      <td>Oksen MIRZOYAN</td>\n",
       "      <td>56</td>\n",
       "      <td>292.5</td>\n",
       "      <td>3</td>\n",
       "    </tr>\n",
       "    <tr>\n",
       "      <th>1618</th>\n",
       "      <td>Total</td>\n",
       "      <td>1984</td>\n",
       "      <td>Bulgaria</td>\n",
       "      <td>Naim SULEYMANOGLU</td>\n",
       "      <td>56</td>\n",
       "      <td>297.5</td>\n",
       "      <td>3</td>\n",
       "    </tr>\n",
       "    <tr>\n",
       "      <th>1619</th>\n",
       "      <td>Total</td>\n",
       "      <td>1984</td>\n",
       "      <td>Bulgaria</td>\n",
       "      <td>Naim SULEYMANOGLU</td>\n",
       "      <td>56</td>\n",
       "      <td>300.0</td>\n",
       "      <td>3</td>\n",
       "    </tr>\n",
       "    <tr>\n",
       "      <th>1893</th>\n",
       "      <td>Total</td>\n",
       "      <td>1999</td>\n",
       "      <td>Turkey</td>\n",
       "      <td>Halil MUTLU</td>\n",
       "      <td>56</td>\n",
       "      <td>302.5</td>\n",
       "      <td>3</td>\n",
       "    </tr>\n",
       "    <tr>\n",
       "      <th>1915</th>\n",
       "      <td>Total</td>\n",
       "      <td>2000</td>\n",
       "      <td>Turkey</td>\n",
       "      <td>Halil MUTLU</td>\n",
       "      <td>56</td>\n",
       "      <td>305.0</td>\n",
       "      <td>3</td>\n",
       "    </tr>\n",
       "  </tbody>\n",
       "</table>\n",
       "</div>"
      ],
      "text/plain": [
       "      Event  Year   Country               Lifter  Weight Class  Record  \\\n",
       "1147  Total  1974  Bulgaria         Atanas KIROV            56   260.0   \n",
       "1234  Total  1976  Bulgaria      Norair NURIKIAN            56   262.5   \n",
       "1324  Total  1979  Bulgaria   Anton KODZHABASHEV            56   265.0   \n",
       "1325  Total  1979    Russia      Yurik SARKISYAN            56   267.5   \n",
       "1381  Total  1980    Russia  Victor VERETENNIKOV            56   270.0   \n",
       "1382  Total  1980    Russia      Yurik SARKISYAN            56   272.5   \n",
       "1383  Total  1980      Cuba         Daniel NUNEZ            56   275.0   \n",
       "1437  Total  1981   Germany         Andreas LETZ            56   277.5   \n",
       "1496  Total  1982  Bulgaria   Anton KODZHABASHEV            56   280.0   \n",
       "1560  Total  1983    Russia       Oksen MIRZOYAN            56   282.5   \n",
       "1561  Total  1983  Bulgaria    Naim SULEYMANOGLU            56   285.0   \n",
       "1562  Total  1983    Russia       Oksen MIRZOYAN            56   287.5   \n",
       "1563  Total  1983  Bulgaria    Naim SULEYMANOGLU            56   290.0   \n",
       "1564  Total  1983    Russia       Oksen MIRZOYAN            56   292.5   \n",
       "1618  Total  1984  Bulgaria    Naim SULEYMANOGLU            56   297.5   \n",
       "1619  Total  1984  Bulgaria    Naim SULEYMANOGLU            56   300.0   \n",
       "1893  Total  1999    Turkey          Halil MUTLU            56   302.5   \n",
       "1915  Total  2000    Turkey          Halil MUTLU            56   305.0   \n",
       "\n",
       "      Event Code  \n",
       "1147           3  \n",
       "1234           3  \n",
       "1324           3  \n",
       "1325           3  \n",
       "1381           3  \n",
       "1382           3  \n",
       "1383           3  \n",
       "1437           3  \n",
       "1496           3  \n",
       "1560           3  \n",
       "1561           3  \n",
       "1562           3  \n",
       "1563           3  \n",
       "1564           3  \n",
       "1618           3  \n",
       "1619           3  \n",
       "1893           3  \n",
       "1915           3  "
      ]
     },
     "execution_count": 432,
     "metadata": {},
     "output_type": "execute_result"
    }
   ],
   "source": [
    "class56"
   ]
  },
  {
   "cell_type": "code",
   "execution_count": 434,
   "metadata": {
    "collapsed": false
   },
   "outputs": [
    {
     "data": {
      "text/plain": [
       "Year\n",
       "1974    260.0\n",
       "1976    262.5\n",
       "1979    267.5\n",
       "1980    275.0\n",
       "1981    277.5\n",
       "1982    280.0\n",
       "1983    292.5\n",
       "1984    300.0\n",
       "1999    302.5\n",
       "2000    305.0\n",
       "Name: Record, dtype: float64"
      ]
     },
     "execution_count": 434,
     "metadata": {},
     "output_type": "execute_result"
    }
   ],
   "source": [
    "class56.groupby('Year')['Record'].max()"
   ]
  },
  {
   "cell_type": "code",
   "execution_count": 21,
   "metadata": {
    "collapsed": false
   },
   "outputs": [
    {
     "data": {
      "image/png": "[encoded data removed]",
      "text/plain": [
       "<matplotlib.figure.Figure at 0x7fbe2417e4d0>"
      ]
     },
     "metadata": {},
     "output_type": "display_data"
    }
   ],
   "source": [
    "plt.plot(class56['Year'], class56['Record'], 'ro')\n",
    "plt.axis([1948, 2017, 90, 150])\n",
    "plt.xlabel('Year')\n",
    "plt.ylabel('Total')\n",
    "plt.savefig('YvsT.png')\n",
    "plt.savefig('YvsT.pdf')\n",
    "plt.show()"
   ]
  },
  {
   "cell_type": "code",
   "execution_count": 17,
   "metadata": {
    "collapsed": true
   },
   "outputs": [],
   "source": [
    "#saving records so that I don't have to scrape again\n",
    "class Company(object):\n",
    "    def __init__(self, worldrec):\n",
    "        self.worldrec = worldrec\n",
    "\n",
    "with open('worldrecords_data.pkl', 'wb') as output:\n",
    "    wrdata = Company(records)\n",
    "    pickle.dump(wrdata, output, pickle.HIGHEST_PROTOCOL)\n",
    "\n",
    "#opens the file to make sure it worked    \n",
    "with open('worldrecords_data.pkl', 'rb') as input:\n",
    "    wrdatar = pickle.load(input)    \n",
    "\n",
    "wrdata_load = wrdatar.worldrec    "
   ]
  },
  {
   "cell_type": "code",
   "execution_count": 7,
   "metadata": {
    "collapsed": false
   },
   "outputs": [],
   "source": [
    "#openning the file after closing the notebook \n",
    "import pickle\n",
    "class Company(object):\n",
    "    def __init__(self, worldrec):\n",
    "        self.worldrec = worldrec\n",
    "        \n",
    "with open('worldrecords_data.pkl', 'rb') as input:\n",
    "    wrdatar = pickle.load(input)    \n",
    "\n",
    "records = wrdatar.worldrec  "
   ]
  },
  {
   "cell_type": "code",
   "execution_count": 435,
   "metadata": {
    "collapsed": false
   },
   "outputs": [
    {
     "data": {
      "text/html": [
       "<div>\n",
       "<table border=\"1\" class=\"dataframe\">\n",
       "  <thead>\n",
       "    <tr style=\"text-align: right;\">\n",
       "      <th></th>\n",
       "      <th>Event</th>\n",
       "      <th>Year</th>\n",
       "      <th>Country</th>\n",
       "      <th>Lifter</th>\n",
       "      <th>Weight Class</th>\n",
       "      <th>Record</th>\n",
       "      <th>Event Code</th>\n",
       "    </tr>\n",
       "  </thead>\n",
       "  <tbody>\n",
       "    <tr>\n",
       "      <th>1097</th>\n",
       "      <td>Total</td>\n",
       "      <td>1973</td>\n",
       "      <td>Russia</td>\n",
       "      <td>Vladimir SMETANIN</td>\n",
       "      <td>52</td>\n",
       "      <td>232.5</td>\n",
       "      <td>3</td>\n",
       "    </tr>\n",
       "    <tr>\n",
       "      <th>1098</th>\n",
       "      <td>Total</td>\n",
       "      <td>1973</td>\n",
       "      <td>Iran</td>\n",
       "      <td>Mohammad NASSIRI</td>\n",
       "      <td>52</td>\n",
       "      <td>235.0</td>\n",
       "      <td>3</td>\n",
       "    </tr>\n",
       "    <tr>\n",
       "      <th>1099</th>\n",
       "      <td>Total</td>\n",
       "      <td>1973</td>\n",
       "      <td>Iran</td>\n",
       "      <td>Mohammad NASSIRI</td>\n",
       "      <td>52</td>\n",
       "      <td>240.0</td>\n",
       "      <td>3</td>\n",
       "    </tr>\n",
       "    <tr>\n",
       "      <th>1187</th>\n",
       "      <td>Total</td>\n",
       "      <td>1975</td>\n",
       "      <td>Russia</td>\n",
       "      <td>Alexander VORONIN</td>\n",
       "      <td>52</td>\n",
       "      <td>242.5</td>\n",
       "      <td>3</td>\n",
       "    </tr>\n",
       "    <tr>\n",
       "      <th>1272</th>\n",
       "      <td>Total</td>\n",
       "      <td>1977</td>\n",
       "      <td>Russia</td>\n",
       "      <td>Alexander VORONIN</td>\n",
       "      <td>52</td>\n",
       "      <td>245.0</td>\n",
       "      <td>3</td>\n",
       "    </tr>\n",
       "  </tbody>\n",
       "</table>\n",
       "</div>"
      ],
      "text/plain": [
       "      Event  Year Country             Lifter  Weight Class  Record  Event Code\n",
       "1097  Total  1973  Russia  Vladimir SMETANIN            52   232.5           3\n",
       "1098  Total  1973    Iran   Mohammad NASSIRI            52   235.0           3\n",
       "1099  Total  1973    Iran   Mohammad NASSIRI            52   240.0           3\n",
       "1187  Total  1975  Russia  Alexander VORONIN            52   242.5           3\n",
       "1272  Total  1977  Russia  Alexander VORONIN            52   245.0           3"
      ]
     },
     "execution_count": 435,
     "metadata": {},
     "output_type": "execute_result"
    }
   ],
   "source": [
    "records[records['Event'] == 'Total'].sort('Record', ascending=True).head()"
   ]
  },
  {
   "cell_type": "code",
   "execution_count": 174,
   "metadata": {
    "collapsed": false
   },
   "outputs": [],
   "source": [
    "P = records[(records['Event Code']==1) & (records['Weight Class']==56)].groupby('Year')['Record'].max()\n"
   ]
  },
  {
   "cell_type": "code",
   "execution_count": 296,
   "metadata": {
    "collapsed": false
   },
   "outputs": [
    {
     "name": "stdout",
     "output_type": "stream",
     "text": [
      "[1950, 1952, 1954, 1955, 1957, 1959, 1963, 1965, 1972, 1973, 1976, 1979, 1980, 1981, 1983, 1988, 1989, 1991, 1999, 2000, 2001, 2015] [97.5, 98.0, 100.0, 102.5, 105.0, 107.5, 108.0, 112.5, 115.0, 117.5, 120.5, 121.5, 125.0, 126.5, 131.0, 133.5, 134.5, 135.0, 137.5, 138.0, 138.5, 139.0]\n"
     ]
    }
   ],
   "source": [
    "X = []\n",
    "for element in P.index:\n",
    "    if element !=1984:\n",
    "        X.append(element)\n",
    "\n",
    "y =[]\n",
    "for item in P:\n",
    "    if item !=134:\n",
    "        y.append(item)\n",
    "        \n",
    "print X, y        \n",
    "\n"
   ]
  },
  {
   "cell_type": "code",
   "execution_count": 299,
   "metadata": {
    "collapsed": false
   },
   "outputs": [
    {
     "name": "stdout",
     "output_type": "stream",
     "text": [
      "[ -5.38656952e+01   1.96044149e+03   1.98184894e-02   1.61837065e+02]\n"
     ]
    },
    {
     "data": {
      "image/png": "[encoded data removed]",
      "text/plain": [
       "<matplotlib.figure.Figure at 0x7f3fd0d17310>"
      ]
     },
     "metadata": {},
     "output_type": "display_data"
    }
   ],
   "source": [
    "from pylab import *\n",
    "from scipy.optimize import curve_fit\n",
    "\n",
    "x = np.array(X)\n",
    "y = np.array(y)\n",
    "\n",
    "def func(x, a, b, c, d):\n",
    "    return a*np.exp(-c*(x-b))+d\n",
    "\n",
    "popt, pcov = curve_fit(func, x, y, [1948,2016,2,1900])\n",
    "print(popt)\n",
    "\n",
    "plot(x,y)\n",
    "x=linspace(1948,2017,100)\n",
    "plot(x,func(x,*popt))\n",
    "plt.xlabel('Year')\n",
    "plt.ylabel('Best Record')\n",
    "plt.savefig('approxexp.png')\n",
    "plt.savefig('approxexp.pdf')\n",
    "show()"
   ]
  },
  {
   "cell_type": "code",
   "execution_count": 319,
   "metadata": {
    "collapsed": false
   },
   "outputs": [
    {
     "data": {
      "text/html": [
       "<div>\n",
       "<table border=\"1\" class=\"dataframe\">\n",
       "  <thead>\n",
       "    <tr style=\"text-align: right;\">\n",
       "      <th></th>\n",
       "      <th>Event</th>\n",
       "      <th>Year</th>\n",
       "      <th>Country</th>\n",
       "      <th>Lifter</th>\n",
       "      <th>Weight Class</th>\n",
       "      <th>Record</th>\n",
       "      <th>Event Code</th>\n",
       "    </tr>\n",
       "  </thead>\n",
       "  <tbody>\n",
       "    <tr>\n",
       "      <th>1888</th>\n",
       "      <td>Clean and Jerk</td>\n",
       "      <td>1998</td>\n",
       "      <td>China</td>\n",
       "      <td>Yong ZHANG</td>\n",
       "      <td>85</td>\n",
       "      <td>218</td>\n",
       "      <td>2</td>\n",
       "    </tr>\n",
       "  </tbody>\n",
       "</table>\n",
       "</div>"
      ],
      "text/plain": [
       "               Event  Year Country      Lifter  Weight Class  Record  \\\n",
       "1888  Clean and Jerk  1998   China  Yong ZHANG            85     218   \n",
       "\n",
       "      Event Code  \n",
       "1888           2  "
      ]
     },
     "execution_count": 319,
     "metadata": {},
     "output_type": "execute_result"
    }
   ],
   "source": [
    "records[(records['Weight Class']==85) & (records['Event Code']==2)]"
   ]
  },
  {
   "cell_type": "code",
   "execution_count": 3,
   "metadata": {
    "collapsed": false
   },
   "outputs": [],
   "source": [
    "LLS2 = []\n",
    "url1 = 'http://www.iwf.net/results/ranking-list/?ranking_year='    \n",
    "url2 = '&ranking_agegroup=Senior&ranking_gender=M&ranking_category='\n",
    "url3 = '&ranking_lifter=all&x=13&y=10'\n",
    "for i in range(1998,2016):\n",
    "    for bw in ['56', '62', '69', '77', '85', '94', '105', '%2B105']:\n",
    "        add = '%s%s%s%s%s' % (url1, i, url2, bw, url3)\n",
    "        LLS2.append(add)"
   ]
  },
  {
   "cell_type": "code",
   "execution_count": 4,
   "metadata": {
    "collapsed": false
   },
   "outputs": [],
   "source": [
    "#Scraping the IWF website for results since 1998 *as far as their data goes*\n",
    "recent = []\n",
    "for i in range(len(LLS2)):\n",
    "    recententries = []\n",
    "    r= requests.get(LLS2[i])\n",
    "    soup = BeautifulSoup(r.content)\n",
    "    rows = soup.find_all(\"tr\")\n",
    "    for row in rows:\n",
    "        cells = row.find_all('td')\n",
    "        texcell = []\n",
    "        for td in cells:    \n",
    "            texcell.append(td.text)\n",
    "        recententries.append(texcell)\n",
    "    recent.append(recententries) "
   ]
  },
  {
   "cell_type": "code",
   "execution_count": 5,
   "metadata": {
    "collapsed": false
   },
   "outputs": [],
   "source": [
    "#cleaning up the results from the previous scraping\n",
    "r_attempts = []\n",
    "for i in range(len(recent)):\n",
    "    for j in range(1,len(recent[i])):\n",
    "        if len(recent[i][j])==9:\n",
    "            name = recent[i][j][1]\n",
    "            birth = recent[i][j][2]\n",
    "            country = recent[i][j][3]\n",
    "            bweight = recent[i][j][4] \n",
    "            snatch = recent[i][j][5]\n",
    "            \n",
    "            try:    \n",
    "                snatch = float(snatch)\n",
    "            except:\n",
    "                snatch = 0\n",
    "                \n",
    "            clean = recent[i][j][6]\n",
    "            try:    \n",
    "                clean = float(clean)\n",
    "            except:\n",
    "                clean = 0\n",
    "                \n",
    "            total = recent[i][j][7]\n",
    "            try:    \n",
    "                total = float(total)\n",
    "            except:\n",
    "                total = 0\n",
    "                \n",
    "            try:    \n",
    "                placeyear = recent[i][j][8].split('.')\n",
    "                year = float(placeyear[1])\n",
    "            except:\n",
    "                year = 0\n",
    "            try:     \n",
    "                birth = float(birth.split('.')[2])\n",
    "            except:    \n",
    "                birth = 0\n",
    "                \n",
    "            info = (year, country, name, birth, float(bweight), snatch, clean, total)\n",
    "            r_attempts.append(info)           "
   ]
  },
  {
   "cell_type": "code",
   "execution_count": 6,
   "metadata": {
    "collapsed": false
   },
   "outputs": [
    {
     "data": {
      "text/plain": [
       "(1998.0, u'BUL', u'IVANOV Ivan', 1971.0, 55.86, 122.5, 160.0, 282.5)"
      ]
     },
     "execution_count": 6,
     "metadata": {},
     "output_type": "execute_result"
    }
   ],
   "source": [
    "r_attempts[0]"
   ]
  },
  {
   "cell_type": "code",
   "execution_count": 7,
   "metadata": {
    "collapsed": false
   },
   "outputs": [
    {
     "data": {
      "text/plain": [
       "14156"
      ]
     },
     "execution_count": 7,
     "metadata": {},
     "output_type": "execute_result"
    }
   ],
   "source": [
    "len(r_attempts)"
   ]
  },
  {
   "cell_type": "code",
   "execution_count": 9,
   "metadata": {
    "collapsed": false
   },
   "outputs": [],
   "source": [
    "#Passing the information onto Pandas to facilitate the analysis.\n",
    "recents = pd.DataFrame(r_attempts, columns=['Year', 'Country','Lifter', 'Birth', 'Weight', 'Snatch', 'Clean and Jerk', 'Total'])"
   ]
  },
  {
   "cell_type": "code",
   "execution_count": 10,
   "metadata": {
    "collapsed": false
   },
   "outputs": [
    {
     "data": {
      "text/html": [
       "<div>\n",
       "<table border=\"1\" class=\"dataframe\">\n",
       "  <thead>\n",
       "    <tr style=\"text-align: right;\">\n",
       "      <th></th>\n",
       "      <th>Year</th>\n",
       "      <th>Country</th>\n",
       "      <th>Lifter</th>\n",
       "      <th>Birth</th>\n",
       "      <th>Weight</th>\n",
       "      <th>Snatch</th>\n",
       "      <th>Clean and Jerk</th>\n",
       "      <th>Total</th>\n",
       "    </tr>\n",
       "  </thead>\n",
       "  <tbody>\n",
       "    <tr>\n",
       "      <th>0</th>\n",
       "      <td>1998</td>\n",
       "      <td>BUL</td>\n",
       "      <td>IVANOV Ivan</td>\n",
       "      <td>1971</td>\n",
       "      <td>55.86</td>\n",
       "      <td>122.5</td>\n",
       "      <td>160.0</td>\n",
       "      <td>282.5</td>\n",
       "    </tr>\n",
       "    <tr>\n",
       "      <th>1</th>\n",
       "      <td>1998</td>\n",
       "      <td>CUB</td>\n",
       "      <td>VARGAS William Trujillo</td>\n",
       "      <td>1970</td>\n",
       "      <td>55.94</td>\n",
       "      <td>127.5</td>\n",
       "      <td>155.0</td>\n",
       "      <td>282.5</td>\n",
       "    </tr>\n",
       "    <tr>\n",
       "      <th>2</th>\n",
       "      <td>1998</td>\n",
       "      <td>ROU</td>\n",
       "      <td>JIGAU Adrian Ioan</td>\n",
       "      <td>1970</td>\n",
       "      <td>55.79</td>\n",
       "      <td>117.5</td>\n",
       "      <td>145.0</td>\n",
       "      <td>262.5</td>\n",
       "    </tr>\n",
       "    <tr>\n",
       "      <th>3</th>\n",
       "      <td>1998</td>\n",
       "      <td>CUB</td>\n",
       "      <td>ALVAREZ BOULET Sergio</td>\n",
       "      <td>1979</td>\n",
       "      <td>55.75</td>\n",
       "      <td>115.0</td>\n",
       "      <td>142.5</td>\n",
       "      <td>257.5</td>\n",
       "    </tr>\n",
       "    <tr>\n",
       "      <th>4</th>\n",
       "      <td>1998</td>\n",
       "      <td>FRA</td>\n",
       "      <td>BONNEL Eric</td>\n",
       "      <td>1974</td>\n",
       "      <td>55.50</td>\n",
       "      <td>110.0</td>\n",
       "      <td>142.5</td>\n",
       "      <td>252.5</td>\n",
       "    </tr>\n",
       "  </tbody>\n",
       "</table>\n",
       "</div>"
      ],
      "text/plain": [
       "   Year Country                   Lifter  Birth  Weight  Snatch  \\\n",
       "0  1998     BUL              IVANOV Ivan   1971   55.86   122.5   \n",
       "1  1998     CUB  VARGAS William Trujillo   1970   55.94   127.5   \n",
       "2  1998     ROU        JIGAU Adrian Ioan   1970   55.79   117.5   \n",
       "3  1998     CUB    ALVAREZ BOULET Sergio   1979   55.75   115.0   \n",
       "4  1998     FRA              BONNEL Eric   1974   55.50   110.0   \n",
       "\n",
       "   Clean and Jerk  Total  \n",
       "0           160.0  282.5  \n",
       "1           155.0  282.5  \n",
       "2           145.0  262.5  \n",
       "3           142.5  257.5  \n",
       "4           142.5  252.5  "
      ]
     },
     "execution_count": 10,
     "metadata": {},
     "output_type": "execute_result"
    }
   ],
   "source": [
    "recents.head()"
   ]
  },
  {
   "cell_type": "code",
   "execution_count": 13,
   "metadata": {
    "collapsed": false
   },
   "outputs": [
    {
     "data": {
      "text/html": [
       "<div>\n",
       "<table border=\"1\" class=\"dataframe\">\n",
       "  <thead>\n",
       "    <tr style=\"text-align: right;\">\n",
       "      <th></th>\n",
       "      <th>Year</th>\n",
       "      <th>Country</th>\n",
       "      <th>Lifter</th>\n",
       "      <th>Birth</th>\n",
       "      <th>Weight</th>\n",
       "      <th>Total</th>\n",
       "    </tr>\n",
       "  </thead>\n",
       "  <tbody>\n",
       "    <tr>\n",
       "      <th>888</th>\n",
       "      <td>2000</td>\n",
       "      <td>TUR</td>\n",
       "      <td>MUTLU Halil</td>\n",
       "      <td>1973</td>\n",
       "      <td>55.62</td>\n",
       "      <td>305.0</td>\n",
       "    </tr>\n",
       "    <tr>\n",
       "      <th>393</th>\n",
       "      <td>1999</td>\n",
       "      <td>TUR</td>\n",
       "      <td>MUTLU Halil</td>\n",
       "      <td>1973</td>\n",
       "      <td>55.83</td>\n",
       "      <td>302.5</td>\n",
       "    </tr>\n",
       "    <tr>\n",
       "      <th>12839</th>\n",
       "      <td>2015</td>\n",
       "      <td>PRK</td>\n",
       "      <td>OM Yun Chol</td>\n",
       "      <td>1991</td>\n",
       "      <td>55.78</td>\n",
       "      <td>302.0</td>\n",
       "    </tr>\n",
       "    <tr>\n",
       "      <th>12840</th>\n",
       "      <td>2015</td>\n",
       "      <td>CHN</td>\n",
       "      <td>WU Jingbiao</td>\n",
       "      <td>1989</td>\n",
       "      <td>55.93</td>\n",
       "      <td>302.0</td>\n",
       "    </tr>\n",
       "    <tr>\n",
       "      <th>1234</th>\n",
       "      <td>2001</td>\n",
       "      <td>TUR</td>\n",
       "      <td>MUTLU Halil</td>\n",
       "      <td>1973</td>\n",
       "      <td>55.96</td>\n",
       "      <td>300.0</td>\n",
       "    </tr>\n",
       "  </tbody>\n",
       "</table>\n",
       "</div>"
      ],
      "text/plain": [
       "       Year Country       Lifter  Birth  Weight  Total\n",
       "888    2000     TUR  MUTLU Halil   1973   55.62  305.0\n",
       "393    1999     TUR  MUTLU Halil   1973   55.83  302.5\n",
       "12839  2015     PRK  OM Yun Chol   1991   55.78  302.0\n",
       "12840  2015     CHN  WU Jingbiao   1989   55.93  302.0\n",
       "1234   2001     TUR  MUTLU Halil   1973   55.96  300.0"
      ]
     },
     "execution_count": 13,
     "metadata": {},
     "output_type": "execute_result"
    }
   ],
   "source": [
    "#looking at the data of the 56 from the IWF\n",
    "recents[recents['Weight']<=56][['Year', 'Country', 'Lifter', 'Birth', 'Weight', 'Total']].sort(['Total','Year'], ascending=False).head()"
   ]
  },
  {
   "cell_type": "code",
   "execution_count": 14,
   "metadata": {
    "collapsed": false
   },
   "outputs": [],
   "source": [
    "#saving recents so that I don't have to scrape again\n",
    "class Company(object):\n",
    "    def __init__(self, rec):\n",
    "        self.rec = rec\n",
    "\n",
    "with open('recent_data.pkl', 'wb') as output:\n",
    "    recent_data = Company(recents)\n",
    "    pickle.dump(recent_data, output, pickle.HIGHEST_PROTOCOL)\n",
    "\n",
    "#opens the file to make sure it worked    \n",
    "with open('recent_data.pkl', 'rb') as input:\n",
    "    rdatar = pickle.load(input)    \n",
    "\n",
    "recent_data_load = rdatar.rec "
   ]
  },
  {
   "cell_type": "code",
   "execution_count": null,
   "metadata": {
    "collapsed": false
   },
   "outputs": [],
   "source": [
    "#openning the file after closing the notebook \n",
    "import pickle\n",
    "class Company(object):\n",
    "    def __init__(self, rec):\n",
    "        self.rec = rec\n",
    "        \n",
    "with open('recent_data.pkl', 'rb') as input:\n",
    "    rdatar = pickle.load(input)    \n",
    "\n",
    "recent_data_load = rdatar.rec  "
   ]
  },
  {
   "cell_type": "code",
   "execution_count": 15,
   "metadata": {
    "collapsed": false
   },
   "outputs": [],
   "source": [
    "#looking at people on the 56 with at least a 210 total\n",
    "recent56 = recents[(recents['Weight']<=56) & (recents['Weight'] >52) & (recents['Total']>210)][['Year', 'Country', 'Lifter', 'Birth', 'Weight', 'Total']]"
   ]
  },
  {
   "cell_type": "code",
   "execution_count": 16,
   "metadata": {
    "collapsed": false
   },
   "outputs": [],
   "source": [
    "#of those people choose their best total.\n",
    "liftermax = pd.DataFrame(recent56.groupby('Lifter')['Total'].max(), columns= ['Total'])"
   ]
  },
  {
   "cell_type": "code",
   "execution_count": 17,
   "metadata": {
    "collapsed": false
   },
   "outputs": [
    {
     "data": {
      "text/html": [
       "<div>\n",
       "<table border=\"1\" class=\"dataframe\">\n",
       "  <thead>\n",
       "    <tr style=\"text-align: right;\">\n",
       "      <th></th>\n",
       "      <th>Total</th>\n",
       "    </tr>\n",
       "    <tr>\n",
       "      <th>Lifter</th>\n",
       "      <th></th>\n",
       "    </tr>\n",
       "  </thead>\n",
       "  <tbody>\n",
       "    <tr>\n",
       "      <th>ABD EL Maksoud Ahmed</th>\n",
       "      <td>227.5</td>\n",
       "    </tr>\n",
       "    <tr>\n",
       "      <th>ABDALLAH Zaki</th>\n",
       "      <td>231.0</td>\n",
       "    </tr>\n",
       "    <tr>\n",
       "      <th>ABDELBAKI Mohamed Abdeltawwab I.</th>\n",
       "      <td>227.5</td>\n",
       "    </tr>\n",
       "    <tr>\n",
       "      <th>ABDULGASHUMOV Asali</th>\n",
       "      <td>224.0</td>\n",
       "    </tr>\n",
       "    <tr>\n",
       "      <th>ABDULHAMEED Marwan Saeed</th>\n",
       "      <td>230.0</td>\n",
       "    </tr>\n",
       "  </tbody>\n",
       "</table>\n",
       "</div>"
      ],
      "text/plain": [
       "                                  Total\n",
       "Lifter                                 \n",
       "ABD EL Maksoud Ahmed              227.5\n",
       "ABDALLAH Zaki                     231.0\n",
       "ABDELBAKI Mohamed Abdeltawwab I.  227.5\n",
       "ABDULGASHUMOV Asali               224.0\n",
       "ABDULHAMEED Marwan Saeed          230.0"
      ]
     },
     "execution_count": 17,
     "metadata": {},
     "output_type": "execute_result"
    }
   ],
   "source": [
    "liftermax.head()"
   ]
  },
  {
   "cell_type": "code",
   "execution_count": 18,
   "metadata": {
    "collapsed": false
   },
   "outputs": [
    {
     "name": "stdout",
     "output_type": "stream",
     "text": [
      "238.64889336 20.6626602355 497\n"
     ]
    }
   ],
   "source": [
    "print liftermax['Total'].mean(), liftermax['Total'].std(), len(liftermax)"
   ]
  },
  {
   "cell_type": "code",
   "execution_count": 19,
   "metadata": {
    "collapsed": false
   },
   "outputs": [],
   "source": [
    "#Grouping them by 5 kilo ranges to see how these are distributed.\n",
    "int_dist_56 = liftermax['Total'].groupby(pd.cut(liftermax['Total'], np.arange(207, 307, .5))).count()"
   ]
  },
  {
   "cell_type": "code",
   "execution_count": 20,
   "metadata": {
    "collapsed": false
   },
   "outputs": [],
   "source": [
    "density = liftermax.groupby('Total')['Total'].count()"
   ]
  },
  {
   "cell_type": "code",
   "execution_count": 602,
   "metadata": {
    "collapsed": false
   },
   "outputs": [],
   "source": [
    "peopleamount = []\n",
    "index = []\n",
    "for element in density.index:\n",
    "    index.append(element)\n",
    "    \n",
    "    \n",
    "for element in density:\n",
    "    peopleamount.append(element)"
   ]
  },
  {
   "cell_type": "code",
   "execution_count": 614,
   "metadata": {
    "collapsed": false
   },
   "outputs": [
    {
     "data": {
      "image/png": "[encoded data removed]",
      "text/plain": [
       "<matplotlib.figure.Figure at 0x7f5ce6b28190>"
      ]
     },
     "metadata": {},
     "output_type": "display_data"
    }
   ],
   "source": [
    "#Now lets plot the daily commit count of the greater commit count week.\n",
    "x = sp.arange(len(int_dist_56))\n",
    "y = sp.array(int_dist_56)\n",
    "f = plt.figure()\n",
    "ax = f.add_axes([2, 20, 8, 9])\n",
    "ax.bar(x, y, align='center')\n",
    "ax.set_xticks(x)\n",
    "ax.set_xticklabels(index)\n",
    "f.show()"
   ]
  },
  {
   "cell_type": "code",
   "execution_count": 283,
   "metadata": {
    "collapsed": false
   },
   "outputs": [
    {
     "data": {
      "text/plain": [
       "Year\n",
       "1998    295.0\n",
       "1999    302.5\n",
       "2000    305.0\n",
       "2001    300.0\n",
       "2002    287.5\n",
       "2003    287.5\n",
       "2004    295.0\n",
       "2005    281.0\n",
       "2006    286.0\n",
       "2007    283.0\n",
       "2008    292.0\n",
       "2009    292.0\n",
       "2010    292.0\n",
       "2011    292.0\n",
       "2012    293.0\n",
       "2013    289.0\n",
       "2014    298.0\n",
       "2015    302.0\n",
       "Name: Total, dtype: float64"
      ]
     },
     "execution_count": 283,
     "metadata": {},
     "output_type": "execute_result"
    }
   ],
   "source": [
    "recents[recents['Weight']<=56].groupby('Year')['Total'].max()"
   ]
  },
  {
   "cell_type": "code",
   "execution_count": 433,
   "metadata": {
    "collapsed": false
   },
   "outputs": [],
   "source": [
    "#totals without mutlu\n",
    "TWOM = pd.DataFrame(recents[(recents['Weight']<=56)].groupby('Year')['Total'].max(),columns=['Total'])"
   ]
  },
  {
   "cell_type": "code",
   "execution_count": 435,
   "metadata": {
    "collapsed": false
   },
   "outputs": [],
   "source": [
    "data56 = recents[(recents['Weight']<=56)]"
   ]
  },
  {
   "cell_type": "code",
   "execution_count": 452,
   "metadata": {
    "collapsed": false
   },
   "outputs": [],
   "source": []
  },
  {
   "cell_type": "code",
   "execution_count": 438,
   "metadata": {
    "collapsed": false
   },
   "outputs": [],
   "source": [
    "import seaborn as sms"
   ]
  },
  {
   "cell_type": "code",
   "execution_count": 473,
   "metadata": {
    "collapsed": false,
    "scrolled": false
   },
   "outputs": [
    {
     "data": {
      "text/plain": [
       "<seaborn.axisgrid.PairGrid at 0x7f5ce4fdb210>"
      ]
     },
     "execution_count": 473,
     "metadata": {},
     "output_type": "execute_result"
    },
    {
     "data": {
      "image/png": "[encoded data removed]",
      "text/plain": [
       "<matplotlib.figure.Figure at 0x7f5ce4fdb1d0>"
      ]
     },
     "metadata": {},
     "output_type": "display_data"
    }
   ],
   "source": [
    "sms.pairplot(TWOM2, x_vars='Year', y_vars='Total', size = 7, aspect=1., kind='reg')"
   ]
  },
  {
   "cell_type": "code",
   "execution_count": 545,
   "metadata": {
    "collapsed": false
   },
   "outputs": [],
   "source": [
    "WWW = recents[(recents['Year']>1997) & (recents['Total']> 200)& (recents['Weight']<=56) & (recents['Weight']>52) ]"
   ]
  },
  {
   "cell_type": "code",
   "execution_count": 546,
   "metadata": {
    "collapsed": false
   },
   "outputs": [],
   "source": [
    "X = WWW[['Year', 'Weight']]\n",
    "\n",
    "y = WWW['Total']"
   ]
  },
  {
   "cell_type": "code",
   "execution_count": 552,
   "metadata": {
    "collapsed": true
   },
   "outputs": [],
   "source": [
    "from sklearn.linear_model import Ridge"
   ]
  },
  {
   "cell_type": "code",
   "execution_count": 553,
   "metadata": {
    "collapsed": false
   },
   "outputs": [],
   "source": [
    "clf = linear_model.Ridge(alpha=0.1)\n"
   ]
  },
  {
   "cell_type": "code",
   "execution_count": 554,
   "metadata": {
    "collapsed": false
   },
   "outputs": [
    {
     "data": {
      "text/plain": [
       "Ridge(alpha=0.1, copy_X=True, fit_intercept=True, max_iter=None,\n",
       "   normalize=False, solver='auto', tol=0.001)"
      ]
     },
     "execution_count": 554,
     "metadata": {},
     "output_type": "execute_result"
    }
   ],
   "source": [
    "clf.fit(X,y)"
   ]
  },
  {
   "cell_type": "code",
   "execution_count": 556,
   "metadata": {
    "collapsed": false
   },
   "outputs": [],
   "source": [
    "from sklearn.cross_validation import train_test_split"
   ]
  },
  {
   "cell_type": "code",
   "execution_count": 558,
   "metadata": {
    "collapsed": true
   },
   "outputs": [],
   "source": [
    "X_train, X_test, y_train, y_test = train_test_split(X, y, test_size=0.2, random_state=42)"
   ]
  },
  {
   "cell_type": "code",
   "execution_count": 559,
   "metadata": {
    "collapsed": false
   },
   "outputs": [
    {
     "data": {
      "text/plain": [
       "Ridge(alpha=0.1, copy_X=True, fit_intercept=True, max_iter=None,\n",
       "   normalize=False, solver='auto', tol=0.001)"
      ]
     },
     "execution_count": 559,
     "metadata": {},
     "output_type": "execute_result"
    }
   ],
   "source": [
    "clf.fit(X_train, y_train)"
   ]
  },
  {
   "cell_type": "code",
   "execution_count": null,
   "metadata": {
    "collapsed": true
   },
   "outputs": [],
   "source": [
    "clf.fit()"
   ]
  },
  {
   "cell_type": "code",
   "execution_count": 597,
   "metadata": {
    "collapsed": false
   },
   "outputs": [
    {
     "data": {
      "text/html": [
       "<div>\n",
       "<table border=\"1\" class=\"dataframe\">\n",
       "  <thead>\n",
       "    <tr style=\"text-align: right;\">\n",
       "      <th></th>\n",
       "      <th>Year</th>\n",
       "      <th>Country</th>\n",
       "      <th>Lifter</th>\n",
       "      <th>Weight Class</th>\n",
       "      <th>Snatch</th>\n",
       "      <th>Clean and Jerk</th>\n",
       "      <th>Total</th>\n",
       "    </tr>\n",
       "  </thead>\n",
       "  <tbody>\n",
       "    <tr>\n",
       "      <th>12943</th>\n",
       "      <td>2015</td>\n",
       "      <td>ALG</td>\n",
       "      <td>TOUAIRI Faris</td>\n",
       "      <td>55.90</td>\n",
       "      <td>91</td>\n",
       "      <td>110</td>\n",
       "      <td>201</td>\n",
       "    </tr>\n",
       "    <tr>\n",
       "      <th>10098</th>\n",
       "      <td>2013</td>\n",
       "      <td>AZE</td>\n",
       "      <td>AHMADOV Esmin</td>\n",
       "      <td>55.62</td>\n",
       "      <td>85</td>\n",
       "      <td>116</td>\n",
       "      <td>201</td>\n",
       "    </tr>\n",
       "    <tr>\n",
       "      <th>7482</th>\n",
       "      <td>2011</td>\n",
       "      <td>TPE</td>\n",
       "      <td>TSAI Ming-Chun</td>\n",
       "      <td>54.95</td>\n",
       "      <td>90</td>\n",
       "      <td>111</td>\n",
       "      <td>201</td>\n",
       "    </tr>\n",
       "    <tr>\n",
       "      <th>6078</th>\n",
       "      <td>2010</td>\n",
       "      <td>GER</td>\n",
       "      <td>PICHLER Christoph</td>\n",
       "      <td>55.72</td>\n",
       "      <td>88</td>\n",
       "      <td>113</td>\n",
       "      <td>201</td>\n",
       "    </tr>\n",
       "    <tr>\n",
       "      <th>4760</th>\n",
       "      <td>2009</td>\n",
       "      <td>EGY</td>\n",
       "      <td>ATIF Moustafa</td>\n",
       "      <td>54.73</td>\n",
       "      <td>90</td>\n",
       "      <td>111</td>\n",
       "      <td>201</td>\n",
       "    </tr>\n",
       "  </tbody>\n",
       "</table>\n",
       "</div>"
      ],
      "text/plain": [
       "       Year Country             Lifter  Weight Class  Snatch  Clean and Jerk  \\\n",
       "12943  2015     ALG      TOUAIRI Faris         55.90      91             110   \n",
       "10098  2013     AZE      AHMADOV Esmin         55.62      85             116   \n",
       "7482   2011     TPE     TSAI Ming-Chun         54.95      90             111   \n",
       "6078   2010     GER  PICHLER Christoph         55.72      88             113   \n",
       "4760   2009     EGY      ATIF Moustafa         54.73      90             111   \n",
       "\n",
       "       Total  \n",
       "12943    201  \n",
       "10098    201  \n",
       "7482     201  \n",
       "6078     201  \n",
       "4760     201  "
      ]
     },
     "execution_count": 597,
     "metadata": {},
     "output_type": "execute_result"
    }
   ],
   "source": [
    "WWW.sort('Total', ascending=True).head()"
   ]
  },
  {
   "cell_type": "code",
   "execution_count": 626,
   "metadata": {
    "collapsed": false
   },
   "outputs": [
    {
     "data": {
      "text/plain": [
       "array([ 0,  0,  0,  0,  0,  0,  0, 10,  0, 13,  0,  8,  0,  7,  0, 15,  0,\n",
       "        9,  0,  8,  6,  8,  0,  8,  0, 22,  0,  8,  0,  6,  2,  7,  0,  9,\n",
       "        0, 19,  0,  3,  0,  7, 11,  9,  0,  5,  0, 16,  0,  9,  0,  2,  5,\n",
       "       10,  0,  3,  0, 17,  0,  5,  0,  5,  3,  9,  0,  6,  0, 19,  0,  3,\n",
       "        0,  6,  4,  2,  0,  8,  0,  9,  0,  3,  0,  6,  3,  6,  0,  4,  0,\n",
       "       10,  0,  5,  0,  2,  2,  4,  0,  3,  0,  5,  0,  3,  0,  3,  5,  3,\n",
       "        0,  2,  0,  6,  0,  3,  0,  4,  2,  1,  0,  3,  0,  7,  0,  2,  0,\n",
       "        1,  1,  5,  0,  2,  0,  4,  0,  2,  0,  1,  2,  2,  0,  3,  0,  2,\n",
       "        0,  1,  0,  0,  1,  1,  0,  1,  0,  5,  0,  1,  0,  1,  3,  2,  0,\n",
       "        2,  0,  3,  0,  2,  0,  0,  3,  1,  0,  0,  0,  1,  0,  1,  0,  0,\n",
       "        0,  1,  0,  0,  0,  0,  0,  1,  0,  0,  0,  0,  0,  0,  0,  0,  0,\n",
       "        0,  0,  2,  0,  0,  0,  0,  0,  1,  0,  0,  0])"
      ]
     },
     "execution_count": 626,
     "metadata": {},
     "output_type": "execute_result"
    }
   ],
   "source": [
    "int_dist_56.values"
   ]
  },
  {
   "cell_type": "code",
   "execution_count": 643,
   "metadata": {
    "collapsed": false
   },
   "outputs": [
    {
     "data": {
      "text/plain": [
       "array([-88.43427889,  66.48860938,  -1.13270333, ..., -91.38271765,\n",
       "         2.42468072, -36.89791121])"
      ]
     },
     "execution_count": 643,
     "metadata": {},
     "output_type": "execute_result"
    }
   ],
   "source": [
    "scipy.stats.vonmises.rvs(5,size=size)*(len(int_dist_56)-1)"
   ]
  },
  {
   "cell_type": "code",
   "execution_count": null,
   "metadata": {
    "collapsed": true
   },
   "outputs": [],
   "source": []
  }
 ],
 "metadata": {
  "kernelspec": {
   "display_name": "Python 2",
   "language": "python",
   "name": "python2"
  },
  "language_info": {
   "codemirror_mode": {
    "name": "ipython",
    "version": 2
   },
   "file_extension": ".py",
   "mimetype": "text/x-python",
   "name": "python",
   "nbconvert_exporter": "python",
   "pygments_lexer": "ipython2",
   "version": "2.7.10"
  }
 },
 "nbformat": 4,
 "nbformat_minor": 0
}
