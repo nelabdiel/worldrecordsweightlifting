{
 "cells": [
  {
   "cell_type": "code",
   "execution_count": 1,
   "metadata": {
    "collapsed": true
   },
   "outputs": [],
   "source": [
    "import pickle\n",
    "import pandas as pd\n",
    "import matplotlib\n",
    "import matplotlib.pylab as plt\n",
    "import scipy as sp\n",
    "%matplotlib inline\n",
    "import math\n",
    "import numpy as np\n",
    "import seaborn as sms\n",
    "\n",
    "\n",
    "\n",
    "class Company(object):\n",
    "    def __init__(self, rec):\n",
    "        self.rec = rec\n",
    "\n",
    "\n",
    "#loading cleaned up data from previous competitions and comparison coefficient.\n",
    "with open('recent_comp.pkl', 'rb') as input:\n",
    "    rdatac = pickle.load(input)    \n",
    "\n",
    "recents = rdatac.rec "
   ]
  },
  {
   "cell_type": "code",
   "execution_count": 2,
   "metadata": {
    "collapsed": true
   },
   "outputs": [],
   "source": [
    "#Filtering to keep only those lifters who are somewhat good.\n",
    "rdata= recents[(recents['NSC']>=-250) & (recents['Weight']>52) &\n",
    "               (recents['Birth']>=1960) & (recents['Year']>1970)].sort('NSC', ascending=True)"
   ]
  },
  {
   "cell_type": "code",
   "execution_count": 3,
   "metadata": {
    "collapsed": false
   },
   "outputs": [
    {
     "data": {
      "text/html": [
       "<div>\n",
       "<table border=\"1\" class=\"dataframe\">\n",
       "  <thead>\n",
       "    <tr style=\"text-align: right;\">\n",
       "      <th></th>\n",
       "      <th>Lifter</th>\n",
       "      <th>LC</th>\n",
       "      <th>Country</th>\n",
       "      <th>CC</th>\n",
       "      <th>Age</th>\n",
       "      <th>Birth</th>\n",
       "      <th>Weight</th>\n",
       "      <th>Year</th>\n",
       "      <th>Snatch</th>\n",
       "      <th>Clean and Jerk</th>\n",
       "      <th>Total</th>\n",
       "      <th>NSC</th>\n",
       "    </tr>\n",
       "  </thead>\n",
       "  <tbody>\n",
       "    <tr>\n",
       "      <th>12825</th>\n",
       "      <td>ALMUTAIRI Hamad</td>\n",
       "      <td>5805</td>\n",
       "      <td>KUW</td>\n",
       "      <td>136</td>\n",
       "      <td>18</td>\n",
       "      <td>1996</td>\n",
       "      <td>153.48</td>\n",
       "      <td>2014</td>\n",
       "      <td>110</td>\n",
       "      <td>120</td>\n",
       "      <td>230</td>\n",
       "      <td>-249.735676</td>\n",
       "    </tr>\n",
       "    <tr>\n",
       "      <th>11132</th>\n",
       "      <td>JOLLY Ryan Alexander</td>\n",
       "      <td>5260</td>\n",
       "      <td>NZL</td>\n",
       "      <td>61</td>\n",
       "      <td>17</td>\n",
       "      <td>1996</td>\n",
       "      <td>85.25</td>\n",
       "      <td>2013</td>\n",
       "      <td>70</td>\n",
       "      <td>80</td>\n",
       "      <td>150</td>\n",
       "      <td>-249.571022</td>\n",
       "    </tr>\n",
       "    <tr>\n",
       "      <th>4407</th>\n",
       "      <td>TIAKIA P. Simon</td>\n",
       "      <td>2224</td>\n",
       "      <td>NIU</td>\n",
       "      <td>132</td>\n",
       "      <td>16</td>\n",
       "      <td>1992</td>\n",
       "      <td>82.30</td>\n",
       "      <td>2008</td>\n",
       "      <td>60</td>\n",
       "      <td>85</td>\n",
       "      <td>145</td>\n",
       "      <td>-248.623984</td>\n",
       "    </tr>\n",
       "    <tr>\n",
       "      <th>5951</th>\n",
       "      <td>AL ANSARI Issa Ibrahim A A</td>\n",
       "      <td>3110</td>\n",
       "      <td>QAT</td>\n",
       "      <td>68</td>\n",
       "      <td>23</td>\n",
       "      <td>1986</td>\n",
       "      <td>123.30</td>\n",
       "      <td>2009</td>\n",
       "      <td>95</td>\n",
       "      <td>110</td>\n",
       "      <td>205</td>\n",
       "      <td>-247.932184</td>\n",
       "    </tr>\n",
       "    <tr>\n",
       "      <th>13921</th>\n",
       "      <td>ALMURI Hamdan</td>\n",
       "      <td>6215</td>\n",
       "      <td>QAT</td>\n",
       "      <td>68</td>\n",
       "      <td>17</td>\n",
       "      <td>1998</td>\n",
       "      <td>93.50</td>\n",
       "      <td>2015</td>\n",
       "      <td>77</td>\n",
       "      <td>90</td>\n",
       "      <td>167</td>\n",
       "      <td>-247.293308</td>\n",
       "    </tr>\n",
       "  </tbody>\n",
       "</table>\n",
       "</div>"
      ],
      "text/plain": [
       "                           Lifter    LC Country   CC  Age  Birth  Weight  \\\n",
       "12825             ALMUTAIRI Hamad  5805     KUW  136   18   1996  153.48   \n",
       "11132        JOLLY Ryan Alexander  5260     NZL   61   17   1996   85.25   \n",
       "4407              TIAKIA P. Simon  2224     NIU  132   16   1992   82.30   \n",
       "5951   AL ANSARI Issa Ibrahim A A  3110     QAT   68   23   1986  123.30   \n",
       "13921               ALMURI Hamdan  6215     QAT   68   17   1998   93.50   \n",
       "\n",
       "       Year  Snatch  Clean and Jerk  Total         NSC  \n",
       "12825  2014     110             120    230 -249.735676  \n",
       "11132  2013      70              80    150 -249.571022  \n",
       "4407   2008      60              85    145 -248.623984  \n",
       "5951   2009      95             110    205 -247.932184  \n",
       "13921  2015      77              90    167 -247.293308  "
      ]
     },
     "execution_count": 3,
     "metadata": {},
     "output_type": "execute_result"
    }
   ],
   "source": [
    "rdata.head()"
   ]
  },
  {
   "cell_type": "code",
   "execution_count": 4,
   "metadata": {
    "collapsed": false
   },
   "outputs": [
    {
     "data": {
      "text/html": [
       "<div>\n",
       "<table border=\"1\" class=\"dataframe\">\n",
       "  <thead>\n",
       "    <tr style=\"text-align: right;\">\n",
       "      <th></th>\n",
       "      <th>Lifter</th>\n",
       "      <th>LC</th>\n",
       "      <th>Country</th>\n",
       "      <th>CC</th>\n",
       "      <th>Age</th>\n",
       "      <th>Birth</th>\n",
       "      <th>Weight</th>\n",
       "      <th>Year</th>\n",
       "      <th>Snatch</th>\n",
       "      <th>Clean and Jerk</th>\n",
       "      <th>Total</th>\n",
       "      <th>NSC</th>\n",
       "    </tr>\n",
       "  </thead>\n",
       "  <tbody>\n",
       "    <tr>\n",
       "      <th>2774</th>\n",
       "      <td>ILYIN Ilya</td>\n",
       "      <td>1541</td>\n",
       "      <td>KAZ</td>\n",
       "      <td>28</td>\n",
       "      <td>17</td>\n",
       "      <td>1988</td>\n",
       "      <td>84.65</td>\n",
       "      <td>2005</td>\n",
       "      <td>170</td>\n",
       "      <td>216</td>\n",
       "      <td>386</td>\n",
       "      <td>-12.394513</td>\n",
       "    </tr>\n",
       "    <tr>\n",
       "      <th>3282</th>\n",
       "      <td>ILYIN Ilya</td>\n",
       "      <td>1541</td>\n",
       "      <td>KAZ</td>\n",
       "      <td>28</td>\n",
       "      <td>18</td>\n",
       "      <td>1988</td>\n",
       "      <td>93.39</td>\n",
       "      <td>2006</td>\n",
       "      <td>176</td>\n",
       "      <td>225</td>\n",
       "      <td>401</td>\n",
       "      <td>-13.112795</td>\n",
       "    </tr>\n",
       "    <tr>\n",
       "      <th>4410</th>\n",
       "      <td>ILYIN Ilya</td>\n",
       "      <td>1541</td>\n",
       "      <td>KAZ</td>\n",
       "      <td>28</td>\n",
       "      <td>20</td>\n",
       "      <td>1988</td>\n",
       "      <td>93.64</td>\n",
       "      <td>2008</td>\n",
       "      <td>180</td>\n",
       "      <td>226</td>\n",
       "      <td>406</td>\n",
       "      <td>-8.522502</td>\n",
       "    </tr>\n",
       "    <tr>\n",
       "      <th>6938</th>\n",
       "      <td>ILYIN Ilya</td>\n",
       "      <td>1541</td>\n",
       "      <td>KAZ</td>\n",
       "      <td>28</td>\n",
       "      <td>22</td>\n",
       "      <td>1988</td>\n",
       "      <td>93.68</td>\n",
       "      <td>2010</td>\n",
       "      <td>175</td>\n",
       "      <td>219</td>\n",
       "      <td>394</td>\n",
       "      <td>-20.587873</td>\n",
       "    </tr>\n",
       "    <tr>\n",
       "      <th>8287</th>\n",
       "      <td>ILYIN Ilya</td>\n",
       "      <td>1541</td>\n",
       "      <td>KAZ</td>\n",
       "      <td>28</td>\n",
       "      <td>23</td>\n",
       "      <td>1988</td>\n",
       "      <td>93.78</td>\n",
       "      <td>2011</td>\n",
       "      <td>181</td>\n",
       "      <td>226</td>\n",
       "      <td>407</td>\n",
       "      <td>-7.751083</td>\n",
       "    </tr>\n",
       "    <tr>\n",
       "      <th>9587</th>\n",
       "      <td>ILYIN Ilya</td>\n",
       "      <td>1541</td>\n",
       "      <td>KAZ</td>\n",
       "      <td>28</td>\n",
       "      <td>24</td>\n",
       "      <td>1988</td>\n",
       "      <td>93.52</td>\n",
       "      <td>2012</td>\n",
       "      <td>185</td>\n",
       "      <td>233</td>\n",
       "      <td>418</td>\n",
       "      <td>3.673912</td>\n",
       "    </tr>\n",
       "    <tr>\n",
       "      <th>12574</th>\n",
       "      <td>ILYIN Ilya</td>\n",
       "      <td>1541</td>\n",
       "      <td>KAZ</td>\n",
       "      <td>28</td>\n",
       "      <td>26</td>\n",
       "      <td>1988</td>\n",
       "      <td>104.35</td>\n",
       "      <td>2014</td>\n",
       "      <td>190</td>\n",
       "      <td>242</td>\n",
       "      <td>432</td>\n",
       "      <td>1.548504</td>\n",
       "    </tr>\n",
       "    <tr>\n",
       "      <th>13923</th>\n",
       "      <td>ILYIN Ilya</td>\n",
       "      <td>1541</td>\n",
       "      <td>KAZ</td>\n",
       "      <td>28</td>\n",
       "      <td>27</td>\n",
       "      <td>1988</td>\n",
       "      <td>104.44</td>\n",
       "      <td>2015</td>\n",
       "      <td>191</td>\n",
       "      <td>246</td>\n",
       "      <td>437</td>\n",
       "      <td>6.426466</td>\n",
       "    </tr>\n",
       "  </tbody>\n",
       "</table>\n",
       "</div>"
      ],
      "text/plain": [
       "           Lifter    LC Country  CC  Age  Birth  Weight  Year  Snatch  \\\n",
       "2774   ILYIN Ilya  1541     KAZ  28   17   1988   84.65  2005     170   \n",
       "3282   ILYIN Ilya  1541     KAZ  28   18   1988   93.39  2006     176   \n",
       "4410   ILYIN Ilya  1541     KAZ  28   20   1988   93.64  2008     180   \n",
       "6938   ILYIN Ilya  1541     KAZ  28   22   1988   93.68  2010     175   \n",
       "8287   ILYIN Ilya  1541     KAZ  28   23   1988   93.78  2011     181   \n",
       "9587   ILYIN Ilya  1541     KAZ  28   24   1988   93.52  2012     185   \n",
       "12574  ILYIN Ilya  1541     KAZ  28   26   1988  104.35  2014     190   \n",
       "13923  ILYIN Ilya  1541     KAZ  28   27   1988  104.44  2015     191   \n",
       "\n",
       "       Clean and Jerk  Total        NSC  \n",
       "2774              216    386 -12.394513  \n",
       "3282              225    401 -13.112795  \n",
       "4410              226    406  -8.522502  \n",
       "6938              219    394 -20.587873  \n",
       "8287              226    407  -7.751083  \n",
       "9587              233    418   3.673912  \n",
       "12574             242    432   1.548504  \n",
       "13923             246    437   6.426466  "
      ]
     },
     "execution_count": 4,
     "metadata": {},
     "output_type": "execute_result"
    }
   ],
   "source": [
    "#looking up the stats of possibly the best lifter alive.\n",
    "recents[recents['LC']==1541]"
   ]
  },
  {
   "cell_type": "code",
   "execution_count": 50,
   "metadata": {
    "collapsed": false
   },
   "outputs": [],
   "source": [
    "#Since my data has been normalized by the NSC Im not concerned with body weight, so for a given\n",
    "#lifter, I'll use his country of origin, age and the years he has competed and plot that\n",
    "#against his coefficient.\n",
    "X = np.array(rdata[['LC', 'CC', 'Birth', 'Age', 'Year']])\n",
    "y = np.array(rdata['NSC'])"
   ]
  },
  {
   "cell_type": "code",
   "execution_count": 51,
   "metadata": {
    "collapsed": true
   },
   "outputs": [],
   "source": [
    "#Choosing my ML method\n",
    "from sklearn.neighbors import KNeighborsRegressor"
   ]
  },
  {
   "cell_type": "code",
   "execution_count": 52,
   "metadata": {
    "collapsed": true
   },
   "outputs": [],
   "source": [
    "nei = KNeighborsRegressor(n_neighbors=100, weights='distance',\n",
    "                          algorithm='ball_tree', leaf_size=1000, metric='manhattan')"
   ]
  },
  {
   "cell_type": "code",
   "execution_count": 53,
   "metadata": {
    "collapsed": true
   },
   "outputs": [],
   "source": [
    "from sklearn.cross_validation import train_test_split"
   ]
  },
  {
   "cell_type": "code",
   "execution_count": 54,
   "metadata": {
    "collapsed": true
   },
   "outputs": [],
   "source": [
    "X_train, X_test, y_train, y_test = train_test_split(X, y, test_size=0.2, random_state=100)"
   ]
  },
  {
   "cell_type": "code",
   "execution_count": 55,
   "metadata": {
    "collapsed": false
   },
   "outputs": [
    {
     "data": {
      "text/plain": [
       "KNeighborsRegressor(algorithm='ball_tree', leaf_size=1000, metric='manhattan',\n",
       "          metric_params=None, n_neighbors=100, p=2, weights='distance')"
      ]
     },
     "execution_count": 55,
     "metadata": {},
     "output_type": "execute_result"
    }
   ],
   "source": [
    "nei.fit(X_train, y_train)"
   ]
  },
  {
   "cell_type": "code",
   "execution_count": 56,
   "metadata": {
    "collapsed": true
   },
   "outputs": [],
   "source": [
    "#Now that we have our model let's make some predictions for a few lifters to see how it holds."
   ]
  },
  {
   "cell_type": "code",
   "execution_count": 57,
   "metadata": {
    "collapsed": false
   },
   "outputs": [
    {
     "data": {
      "text/html": [
       "<div>\n",
       "<table border=\"1\" class=\"dataframe\">\n",
       "  <thead>\n",
       "    <tr style=\"text-align: right;\">\n",
       "      <th></th>\n",
       "      <th>Lifter</th>\n",
       "      <th>LC</th>\n",
       "      <th>Country</th>\n",
       "      <th>CC</th>\n",
       "      <th>Age</th>\n",
       "      <th>Birth</th>\n",
       "      <th>Weight</th>\n",
       "      <th>Year</th>\n",
       "      <th>Snatch</th>\n",
       "      <th>Clean and Jerk</th>\n",
       "      <th>Total</th>\n",
       "      <th>NSC</th>\n",
       "    </tr>\n",
       "  </thead>\n",
       "  <tbody>\n",
       "    <tr>\n",
       "      <th>13279</th>\n",
       "      <td>REYES Bruno</td>\n",
       "      <td>5968</td>\n",
       "      <td>PUR</td>\n",
       "      <td>54</td>\n",
       "      <td>20</td>\n",
       "      <td>1995</td>\n",
       "      <td>68.35</td>\n",
       "      <td>2015</td>\n",
       "      <td>110</td>\n",
       "      <td>137</td>\n",
       "      <td>247</td>\n",
       "      <td>-111.013605</td>\n",
       "    </tr>\n",
       "  </tbody>\n",
       "</table>\n",
       "</div>"
      ],
      "text/plain": [
       "            Lifter    LC Country  CC  Age  Birth  Weight  Year  Snatch  \\\n",
       "13279  REYES Bruno  5968     PUR  54   20   1995   68.35  2015     110   \n",
       "\n",
       "       Clean and Jerk  Total         NSC  \n",
       "13279             137    247 -111.013605  "
      ]
     },
     "execution_count": 57,
     "metadata": {},
     "output_type": "execute_result"
    }
   ],
   "source": [
    "rdata[rdata['LC']==5968]"
   ]
  },
  {
   "cell_type": "code",
   "execution_count": 58,
   "metadata": {
    "collapsed": false
   },
   "outputs": [
    {
     "data": {
      "text/plain": [
       "array([-110.36782853])"
      ]
     },
     "execution_count": 58,
     "metadata": {},
     "output_type": "execute_result"
    }
   ],
   "source": [
    "nei.predict([5968,54,1995,21,2016])"
   ]
  },
  {
   "cell_type": "code",
   "execution_count": 59,
   "metadata": {
    "collapsed": false
   },
   "outputs": [
    {
     "data": {
      "text/html": [
       "<div>\n",
       "<table border=\"1\" class=\"dataframe\">\n",
       "  <thead>\n",
       "    <tr style=\"text-align: right;\">\n",
       "      <th></th>\n",
       "      <th>Lifter</th>\n",
       "      <th>LC</th>\n",
       "      <th>Country</th>\n",
       "      <th>CC</th>\n",
       "      <th>Age</th>\n",
       "      <th>Birth</th>\n",
       "      <th>Weight</th>\n",
       "      <th>Year</th>\n",
       "      <th>Snatch</th>\n",
       "      <th>Clean and Jerk</th>\n",
       "      <th>Total</th>\n",
       "      <th>NSC</th>\n",
       "    </tr>\n",
       "  </thead>\n",
       "  <tbody>\n",
       "    <tr>\n",
       "      <th>11744</th>\n",
       "      <td>LOHIA Igo</td>\n",
       "      <td>4846</td>\n",
       "      <td>PNG</td>\n",
       "      <td>88</td>\n",
       "      <td>15</td>\n",
       "      <td>1999</td>\n",
       "      <td>59.69</td>\n",
       "      <td>2014</td>\n",
       "      <td>75</td>\n",
       "      <td>100</td>\n",
       "      <td>175</td>\n",
       "      <td>-149.944312</td>\n",
       "    </tr>\n",
       "    <tr>\n",
       "      <th>11548</th>\n",
       "      <td>LOHIA Igo</td>\n",
       "      <td>4846</td>\n",
       "      <td>PNG</td>\n",
       "      <td>88</td>\n",
       "      <td>15</td>\n",
       "      <td>1999</td>\n",
       "      <td>55.40</td>\n",
       "      <td>2014</td>\n",
       "      <td>70</td>\n",
       "      <td>90</td>\n",
       "      <td>160</td>\n",
       "      <td>-142.157669</td>\n",
       "    </tr>\n",
       "    <tr>\n",
       "      <th>13135</th>\n",
       "      <td>LOHIA Igo</td>\n",
       "      <td>4846</td>\n",
       "      <td>PNG</td>\n",
       "      <td>88</td>\n",
       "      <td>16</td>\n",
       "      <td>1999</td>\n",
       "      <td>61.05</td>\n",
       "      <td>2015</td>\n",
       "      <td>87</td>\n",
       "      <td>112</td>\n",
       "      <td>199</td>\n",
       "      <td>-132.061167</td>\n",
       "    </tr>\n",
       "  </tbody>\n",
       "</table>\n",
       "</div>"
      ],
      "text/plain": [
       "          Lifter    LC Country  CC  Age  Birth  Weight  Year  Snatch  \\\n",
       "11744  LOHIA Igo  4846     PNG  88   15   1999   59.69  2014      75   \n",
       "11548  LOHIA Igo  4846     PNG  88   15   1999   55.40  2014      70   \n",
       "13135  LOHIA Igo  4846     PNG  88   16   1999   61.05  2015      87   \n",
       "\n",
       "       Clean and Jerk  Total         NSC  \n",
       "11744             100    175 -149.944312  \n",
       "11548              90    160 -142.157669  \n",
       "13135             112    199 -132.061167  "
      ]
     },
     "execution_count": 59,
     "metadata": {},
     "output_type": "execute_result"
    }
   ],
   "source": [
    "rdata[rdata['LC']==4846]"
   ]
  },
  {
   "cell_type": "code",
   "execution_count": 60,
   "metadata": {
    "collapsed": false
   },
   "outputs": [
    {
     "data": {
      "text/plain": [
       "array([-128.08396073])"
      ]
     },
     "execution_count": 60,
     "metadata": {},
     "output_type": "execute_result"
    }
   ],
   "source": [
    "nei.predict([4846,88,1999,16,2016])"
   ]
  },
  {
   "cell_type": "code",
   "execution_count": 61,
   "metadata": {
    "collapsed": false
   },
   "outputs": [
    {
     "data": {
      "text/html": [
       "<div>\n",
       "<table border=\"1\" class=\"dataframe\">\n",
       "  <thead>\n",
       "    <tr style=\"text-align: right;\">\n",
       "      <th></th>\n",
       "      <th>Lifter</th>\n",
       "      <th>LC</th>\n",
       "      <th>Country</th>\n",
       "      <th>CC</th>\n",
       "      <th>Age</th>\n",
       "      <th>Birth</th>\n",
       "      <th>Weight</th>\n",
       "      <th>Year</th>\n",
       "      <th>Snatch</th>\n",
       "      <th>Clean and Jerk</th>\n",
       "      <th>Total</th>\n",
       "      <th>NSC</th>\n",
       "    </tr>\n",
       "  </thead>\n",
       "  <tbody>\n",
       "    <tr>\n",
       "      <th>5996</th>\n",
       "      <td>CROITORU Florin Ionut</td>\n",
       "      <td>3120</td>\n",
       "      <td>ROU</td>\n",
       "      <td>2</td>\n",
       "      <td>17</td>\n",
       "      <td>1993</td>\n",
       "      <td>55.15</td>\n",
       "      <td>2010</td>\n",
       "      <td>110</td>\n",
       "      <td>132</td>\n",
       "      <td>242</td>\n",
       "      <td>-58.622239</td>\n",
       "    </tr>\n",
       "    <tr>\n",
       "      <th>7387</th>\n",
       "      <td>CROITORU Florin Ionut</td>\n",
       "      <td>3120</td>\n",
       "      <td>ROU</td>\n",
       "      <td>2</td>\n",
       "      <td>18</td>\n",
       "      <td>1993</td>\n",
       "      <td>55.95</td>\n",
       "      <td>2011</td>\n",
       "      <td>121</td>\n",
       "      <td>149</td>\n",
       "      <td>270</td>\n",
       "      <td>-35.441562</td>\n",
       "    </tr>\n",
       "    <tr>\n",
       "      <th>8718</th>\n",
       "      <td>CROITORU Florin Ionut</td>\n",
       "      <td>3120</td>\n",
       "      <td>ROU</td>\n",
       "      <td>2</td>\n",
       "      <td>19</td>\n",
       "      <td>1993</td>\n",
       "      <td>55.90</td>\n",
       "      <td>2012</td>\n",
       "      <td>121</td>\n",
       "      <td>147</td>\n",
       "      <td>268</td>\n",
       "      <td>-37.148185</td>\n",
       "    </tr>\n",
       "    <tr>\n",
       "      <th>8879</th>\n",
       "      <td>CROITORU Florin Ionut</td>\n",
       "      <td>3120</td>\n",
       "      <td>ROU</td>\n",
       "      <td>2</td>\n",
       "      <td>19</td>\n",
       "      <td>1993</td>\n",
       "      <td>61.80</td>\n",
       "      <td>2012</td>\n",
       "      <td>132</td>\n",
       "      <td>157</td>\n",
       "      <td>289</td>\n",
       "      <td>-45.256104</td>\n",
       "    </tr>\n",
       "    <tr>\n",
       "      <th>10202</th>\n",
       "      <td>CROITORU Florin Ionut</td>\n",
       "      <td>3120</td>\n",
       "      <td>ROU</td>\n",
       "      <td>2</td>\n",
       "      <td>20</td>\n",
       "      <td>1993</td>\n",
       "      <td>61.69</td>\n",
       "      <td>2013</td>\n",
       "      <td>135</td>\n",
       "      <td>155</td>\n",
       "      <td>290</td>\n",
       "      <td>-43.794920</td>\n",
       "    </tr>\n",
       "    <tr>\n",
       "      <th>11401</th>\n",
       "      <td>CROITORU Florin Ionut</td>\n",
       "      <td>3120</td>\n",
       "      <td>ROU</td>\n",
       "      <td>2</td>\n",
       "      <td>21</td>\n",
       "      <td>1993</td>\n",
       "      <td>55.68</td>\n",
       "      <td>2014</td>\n",
       "      <td>122</td>\n",
       "      <td>137</td>\n",
       "      <td>259</td>\n",
       "      <td>-44.845230</td>\n",
       "    </tr>\n",
       "    <tr>\n",
       "      <th>11619</th>\n",
       "      <td>CROITORU Florin Ionut</td>\n",
       "      <td>3120</td>\n",
       "      <td>ROU</td>\n",
       "      <td>2</td>\n",
       "      <td>21</td>\n",
       "      <td>1993</td>\n",
       "      <td>61.91</td>\n",
       "      <td>2014</td>\n",
       "      <td>126</td>\n",
       "      <td>145</td>\n",
       "      <td>271</td>\n",
       "      <td>-63.714812</td>\n",
       "    </tr>\n",
       "    <tr>\n",
       "      <th>13020</th>\n",
       "      <td>CROITORU Florin Ionut</td>\n",
       "      <td>3120</td>\n",
       "      <td>ROU</td>\n",
       "      <td>2</td>\n",
       "      <td>22</td>\n",
       "      <td>1993</td>\n",
       "      <td>61.72</td>\n",
       "      <td>2015</td>\n",
       "      <td>134</td>\n",
       "      <td>153</td>\n",
       "      <td>287</td>\n",
       "      <td>-46.920945</td>\n",
       "    </tr>\n",
       "  </tbody>\n",
       "</table>\n",
       "</div>"
      ],
      "text/plain": [
       "                      Lifter    LC Country  CC  Age  Birth  Weight  Year  \\\n",
       "5996   CROITORU Florin Ionut  3120     ROU   2   17   1993   55.15  2010   \n",
       "7387   CROITORU Florin Ionut  3120     ROU   2   18   1993   55.95  2011   \n",
       "8718   CROITORU Florin Ionut  3120     ROU   2   19   1993   55.90  2012   \n",
       "8879   CROITORU Florin Ionut  3120     ROU   2   19   1993   61.80  2012   \n",
       "10202  CROITORU Florin Ionut  3120     ROU   2   20   1993   61.69  2013   \n",
       "11401  CROITORU Florin Ionut  3120     ROU   2   21   1993   55.68  2014   \n",
       "11619  CROITORU Florin Ionut  3120     ROU   2   21   1993   61.91  2014   \n",
       "13020  CROITORU Florin Ionut  3120     ROU   2   22   1993   61.72  2015   \n",
       "\n",
       "       Snatch  Clean and Jerk  Total        NSC  \n",
       "5996      110             132    242 -58.622239  \n",
       "7387      121             149    270 -35.441562  \n",
       "8718      121             147    268 -37.148185  \n",
       "8879      132             157    289 -45.256104  \n",
       "10202     135             155    290 -43.794920  \n",
       "11401     122             137    259 -44.845230  \n",
       "11619     126             145    271 -63.714812  \n",
       "13020     134             153    287 -46.920945  "
      ]
     },
     "execution_count": 61,
     "metadata": {},
     "output_type": "execute_result"
    }
   ],
   "source": [
    "recents[recents['LC']==3120]"
   ]
  },
  {
   "cell_type": "code",
   "execution_count": 68,
   "metadata": {
    "collapsed": false
   },
   "outputs": [
    {
     "data": {
      "text/plain": [
       "array([-72.45455107])"
      ]
     },
     "execution_count": 68,
     "metadata": {},
     "output_type": "execute_result"
    }
   ],
   "source": [
    "nei.predict([3120,2,1993,23,2016])"
   ]
  },
  {
   "cell_type": "code",
   "execution_count": 63,
   "metadata": {
    "collapsed": false
   },
   "outputs": [
    {
     "data": {
      "text/html": [
       "<div>\n",
       "<table border=\"1\" class=\"dataframe\">\n",
       "  <thead>\n",
       "    <tr style=\"text-align: right;\">\n",
       "      <th></th>\n",
       "      <th>Lifter</th>\n",
       "      <th>LC</th>\n",
       "      <th>Country</th>\n",
       "      <th>CC</th>\n",
       "      <th>Age</th>\n",
       "      <th>Birth</th>\n",
       "      <th>Weight</th>\n",
       "      <th>Year</th>\n",
       "      <th>Snatch</th>\n",
       "      <th>Clean and Jerk</th>\n",
       "      <th>Total</th>\n",
       "      <th>NSC</th>\n",
       "    </tr>\n",
       "  </thead>\n",
       "  <tbody>\n",
       "    <tr>\n",
       "      <th>12830</th>\n",
       "      <td>SITAGATA Malaki Atonio Jr.</td>\n",
       "      <td>5810</td>\n",
       "      <td>ASA</td>\n",
       "      <td>90</td>\n",
       "      <td>15</td>\n",
       "      <td>1999</td>\n",
       "      <td>110.95</td>\n",
       "      <td>2014</td>\n",
       "      <td>98</td>\n",
       "      <td>122</td>\n",
       "      <td>220</td>\n",
       "      <td>-218.968538</td>\n",
       "    </tr>\n",
       "    <tr>\n",
       "      <th>14149</th>\n",
       "      <td>SITAGATA Malaki Atonio Jr.</td>\n",
       "      <td>5810</td>\n",
       "      <td>ASA</td>\n",
       "      <td>90</td>\n",
       "      <td>16</td>\n",
       "      <td>1999</td>\n",
       "      <td>117.46</td>\n",
       "      <td>2015</td>\n",
       "      <td>107</td>\n",
       "      <td>140</td>\n",
       "      <td>247</td>\n",
       "      <td>-199.612280</td>\n",
       "    </tr>\n",
       "  </tbody>\n",
       "</table>\n",
       "</div>"
      ],
      "text/plain": [
       "                           Lifter    LC Country  CC  Age  Birth  Weight  Year  \\\n",
       "12830  SITAGATA Malaki Atonio Jr.  5810     ASA  90   15   1999  110.95  2014   \n",
       "14149  SITAGATA Malaki Atonio Jr.  5810     ASA  90   16   1999  117.46  2015   \n",
       "\n",
       "       Snatch  Clean and Jerk  Total         NSC  \n",
       "12830      98             122    220 -218.968538  \n",
       "14149     107             140    247 -199.612280  "
      ]
     },
     "execution_count": 63,
     "metadata": {},
     "output_type": "execute_result"
    }
   ],
   "source": [
    "recents[recents['LC']==5810]"
   ]
  },
  {
   "cell_type": "code",
   "execution_count": 64,
   "metadata": {
    "collapsed": false
   },
   "outputs": [
    {
     "data": {
      "text/plain": [
       "array([-162.27130699])"
      ]
     },
     "execution_count": 64,
     "metadata": {},
     "output_type": "execute_result"
    }
   ],
   "source": [
    "nei.predict([5810,90,1999,17,2016])"
   ]
  },
  {
   "cell_type": "code",
   "execution_count": 77,
   "metadata": {
    "collapsed": false
   },
   "outputs": [
    {
     "data": {
      "text/plain": [
       "array([-157.45408356])"
      ]
     },
     "execution_count": 77,
     "metadata": {},
     "output_type": "execute_result"
    }
   ],
   "source": [
    "nei.predict([5810,91,1999,17,2016])"
   ]
  },
  {
   "cell_type": "code",
   "execution_count": 65,
   "metadata": {
    "collapsed": false
   },
   "outputs": [
    {
     "data": {
      "text/html": [
       "<div>\n",
       "<table border=\"1\" class=\"dataframe\">\n",
       "  <thead>\n",
       "    <tr style=\"text-align: right;\">\n",
       "      <th></th>\n",
       "      <th>Lifter</th>\n",
       "      <th>LC</th>\n",
       "      <th>Country</th>\n",
       "      <th>CC</th>\n",
       "      <th>Age</th>\n",
       "      <th>Birth</th>\n",
       "      <th>Weight</th>\n",
       "      <th>Year</th>\n",
       "      <th>Snatch</th>\n",
       "      <th>Clean and Jerk</th>\n",
       "      <th>Total</th>\n",
       "      <th>NSC</th>\n",
       "    </tr>\n",
       "  </thead>\n",
       "  <tbody>\n",
       "    <tr>\n",
       "      <th>14147</th>\n",
       "      <td>CEDENO HENRIQUEZ Jose Jesus</td>\n",
       "      <td>6261</td>\n",
       "      <td>VEN</td>\n",
       "      <td>48</td>\n",
       "      <td>17</td>\n",
       "      <td>1998</td>\n",
       "      <td>112.9</td>\n",
       "      <td>2015</td>\n",
       "      <td>115</td>\n",
       "      <td>143</td>\n",
       "      <td>258</td>\n",
       "      <td>-183.33069</td>\n",
       "    </tr>\n",
       "  </tbody>\n",
       "</table>\n",
       "</div>"
      ],
      "text/plain": [
       "                            Lifter    LC Country  CC  Age  Birth  Weight  \\\n",
       "14147  CEDENO HENRIQUEZ Jose Jesus  6261     VEN  48   17   1998   112.9   \n",
       "\n",
       "       Year  Snatch  Clean and Jerk  Total        NSC  \n",
       "14147  2015     115             143    258 -183.33069  "
      ]
     },
     "execution_count": 65,
     "metadata": {},
     "output_type": "execute_result"
    }
   ],
   "source": [
    "recents[recents['LC']==6261]"
   ]
  },
  {
   "cell_type": "code",
   "execution_count": 66,
   "metadata": {
    "collapsed": false
   },
   "outputs": [
    {
     "data": {
      "text/plain": [
       "array([-159.12254115])"
      ]
     },
     "execution_count": 66,
     "metadata": {},
     "output_type": "execute_result"
    }
   ],
   "source": [
    "nei.predict([6261,48,1998,18,2016])"
   ]
  },
  {
   "cell_type": "code",
   "execution_count": 79,
   "metadata": {
    "collapsed": false
   },
   "outputs": [],
   "source": [
    "import dill\n",
    "with open('nei_model.dill', 'wb') as output:\n",
    "    dill.dump(nei,output)"
   ]
  },
  {
   "cell_type": "code",
   "execution_count": 80,
   "metadata": {
    "collapsed": true
   },
   "outputs": [],
   "source": [
    "with open('nei_model.dill', 'rb') as input:\n",
    "    nei_model_pred = dill.load(input)"
   ]
  },
  {
   "cell_type": "code",
   "execution_count": 81,
   "metadata": {
    "collapsed": false
   },
   "outputs": [
    {
     "data": {
      "text/plain": [
       "array([-159.12254115])"
      ]
     },
     "execution_count": 81,
     "metadata": {},
     "output_type": "execute_result"
    }
   ],
   "source": [
    "nei_model_pred.predict([6261,48,1998,18,2016])"
   ]
  },
  {
   "cell_type": "code",
   "execution_count": null,
   "metadata": {
    "collapsed": true
   },
   "outputs": [],
   "source": []
  }
 ],
 "metadata": {
  "kernelspec": {
   "display_name": "Python 2",
   "language": "python",
   "name": "python2"
  },
  "language_info": {
   "codemirror_mode": {
    "name": "ipython",
    "version": 2
   },
   "file_extension": ".py",
   "mimetype": "text/x-python",
   "name": "python",
   "nbconvert_exporter": "python",
   "pygments_lexer": "ipython2",
   "version": "2.7.10"
  }
 },
 "nbformat": 4,
 "nbformat_minor": 0
}
