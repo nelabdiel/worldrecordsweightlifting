{
 "cells": [
  {
   "cell_type": "code",
   "execution_count": 1,
   "metadata": {
    "collapsed": true
   },
   "outputs": [],
   "source": [
    "import pickle\n",
    "import pandas as pd\n",
    "import matplotlib\n",
    "import matplotlib.pylab as plt\n",
    "import scipy as sp\n",
    "%matplotlib inline\n",
    "import math\n",
    "import numpy as np\n",
    "import seaborn as sms\n",
    "\n",
    "\n",
    "class Company(object):\n",
    "    def __init__(self, rec):\n",
    "        self.rec = rec\n",
    "\n",
    "\n",
    "#loading cleaned up data from previous competitions and comparison coefficient.\n",
    "with open('recent_comp.pkl', 'rb') as input:\n",
    "    rdatac = pickle.load(input)    \n",
    "\n",
    "recents = rdatac.rec "
   ]
  },
  {
   "cell_type": "code",
   "execution_count": 24,
   "metadata": {
    "collapsed": true
   },
   "outputs": [],
   "source": [
    "#Filtering to keep only those lifters who are somewhat good.\n",
    "rdata= recents[(recents['NSC']>=-250) & (recents['Weight']>52) &\n",
    "               (recents['Birth']>=1960) & (recents['Year']>1970)].sort('NSC', ascending=True)"
   ]
  },
  {
   "cell_type": "code",
   "execution_count": 25,
   "metadata": {
    "collapsed": false
   },
   "outputs": [
    {
     "data": {
      "text/html": [
       "<div>\n",
       "<table border=\"1\" class=\"dataframe\">\n",
       "  <thead>\n",
       "    <tr style=\"text-align: right;\">\n",
       "      <th></th>\n",
       "      <th>Year</th>\n",
       "      <th>Country</th>\n",
       "      <th>Lifter</th>\n",
       "      <th>Birth</th>\n",
       "      <th>Weight</th>\n",
       "      <th>Snatch</th>\n",
       "      <th>Clean and Jerk</th>\n",
       "      <th>Total</th>\n",
       "      <th>NSC</th>\n",
       "      <th>CC</th>\n",
       "      <th>LC</th>\n",
       "    </tr>\n",
       "  </thead>\n",
       "  <tbody>\n",
       "    <tr>\n",
       "      <th>12825</th>\n",
       "      <td>2014</td>\n",
       "      <td>KUW</td>\n",
       "      <td>ALMUTAIRI Hamad</td>\n",
       "      <td>1996</td>\n",
       "      <td>153.48</td>\n",
       "      <td>110</td>\n",
       "      <td>120</td>\n",
       "      <td>230</td>\n",
       "      <td>-249.735676</td>\n",
       "      <td>136</td>\n",
       "      <td>5805</td>\n",
       "    </tr>\n",
       "    <tr>\n",
       "      <th>11132</th>\n",
       "      <td>2013</td>\n",
       "      <td>NZL</td>\n",
       "      <td>JOLLY Ryan Alexander</td>\n",
       "      <td>1996</td>\n",
       "      <td>85.25</td>\n",
       "      <td>70</td>\n",
       "      <td>80</td>\n",
       "      <td>150</td>\n",
       "      <td>-249.571022</td>\n",
       "      <td>61</td>\n",
       "      <td>5260</td>\n",
       "    </tr>\n",
       "    <tr>\n",
       "      <th>4407</th>\n",
       "      <td>2008</td>\n",
       "      <td>NIU</td>\n",
       "      <td>TIAKIA P. Simon</td>\n",
       "      <td>1992</td>\n",
       "      <td>82.30</td>\n",
       "      <td>60</td>\n",
       "      <td>85</td>\n",
       "      <td>145</td>\n",
       "      <td>-248.623984</td>\n",
       "      <td>132</td>\n",
       "      <td>2224</td>\n",
       "    </tr>\n",
       "    <tr>\n",
       "      <th>5951</th>\n",
       "      <td>2009</td>\n",
       "      <td>QAT</td>\n",
       "      <td>AL ANSARI Issa Ibrahim A A</td>\n",
       "      <td>1986</td>\n",
       "      <td>123.30</td>\n",
       "      <td>95</td>\n",
       "      <td>110</td>\n",
       "      <td>205</td>\n",
       "      <td>-247.932184</td>\n",
       "      <td>68</td>\n",
       "      <td>3110</td>\n",
       "    </tr>\n",
       "    <tr>\n",
       "      <th>13921</th>\n",
       "      <td>2015</td>\n",
       "      <td>QAT</td>\n",
       "      <td>ALMURI Hamdan</td>\n",
       "      <td>1998</td>\n",
       "      <td>93.50</td>\n",
       "      <td>77</td>\n",
       "      <td>90</td>\n",
       "      <td>167</td>\n",
       "      <td>-247.293308</td>\n",
       "      <td>68</td>\n",
       "      <td>6215</td>\n",
       "    </tr>\n",
       "  </tbody>\n",
       "</table>\n",
       "</div>"
      ],
      "text/plain": [
       "       Year Country                      Lifter  Birth  Weight  Snatch  \\\n",
       "12825  2014     KUW             ALMUTAIRI Hamad   1996  153.48     110   \n",
       "11132  2013     NZL        JOLLY Ryan Alexander   1996   85.25      70   \n",
       "4407   2008     NIU             TIAKIA P. Simon   1992   82.30      60   \n",
       "5951   2009     QAT  AL ANSARI Issa Ibrahim A A   1986  123.30      95   \n",
       "13921  2015     QAT               ALMURI Hamdan   1998   93.50      77   \n",
       "\n",
       "       Clean and Jerk  Total         NSC   CC    LC  \n",
       "12825             120    230 -249.735676  136  5805  \n",
       "11132              80    150 -249.571022   61  5260  \n",
       "4407               85    145 -248.623984  132  2224  \n",
       "5951              110    205 -247.932184   68  3110  \n",
       "13921              90    167 -247.293308   68  6215  "
      ]
     },
     "execution_count": 25,
     "metadata": {},
     "output_type": "execute_result"
    }
   ],
   "source": [
    "rdata.head()"
   ]
  },
  {
   "cell_type": "code",
   "execution_count": 26,
   "metadata": {
    "collapsed": false
   },
   "outputs": [],
   "source": [
    "#Since my data has been normalized by the NSC Im not concerned with body weight, so for a given\n",
    "#lifter, I'll use his country of origin, age and the years he has competed and plot that\n",
    "#against his coefficient.\n",
    "X = np.array(rdata[['LC', 'CC', 'Birth', 'Year']])\n",
    "y = np.array(rdata['NSC'])"
   ]
  },
  {
   "cell_type": "code",
   "execution_count": 27,
   "metadata": {
    "collapsed": true
   },
   "outputs": [],
   "source": [
    "#Choosing my ML method\n",
    "from sklearn.neighbors import KNeighborsRegressor"
   ]
  },
  {
   "cell_type": "code",
   "execution_count": 28,
   "metadata": {
    "collapsed": true
   },
   "outputs": [],
   "source": [
    "nei = KNeighborsRegressor(n_neighbors=100, weights='distance',\n",
    "                          algorithm='ball_tree', leaf_size=1000, metric='manhattan')"
   ]
  },
  {
   "cell_type": "code",
   "execution_count": 29,
   "metadata": {
    "collapsed": true
   },
   "outputs": [],
   "source": [
    "from sklearn.cross_validation import train_test_split"
   ]
  },
  {
   "cell_type": "code",
   "execution_count": 30,
   "metadata": {
    "collapsed": true
   },
   "outputs": [],
   "source": [
    "X_train, X_test, y_train, y_test = train_test_split(X, y, test_size=0.2, random_state=100)"
   ]
  },
  {
   "cell_type": "code",
   "execution_count": 31,
   "metadata": {
    "collapsed": false
   },
   "outputs": [
    {
     "data": {
      "text/plain": [
       "KNeighborsRegressor(algorithm='ball_tree', leaf_size=1000, metric='manhattan',\n",
       "          metric_params=None, n_neighbors=100, p=2, weights='distance')"
      ]
     },
     "execution_count": 31,
     "metadata": {},
     "output_type": "execute_result"
    }
   ],
   "source": [
    "nei.fit(X_train, y_train)"
   ]
  },
  {
   "cell_type": "code",
   "execution_count": 33,
   "metadata": {
    "collapsed": false
   },
   "outputs": [
    {
     "data": {
      "text/plain": [
       "array([-110.94270725])"
      ]
     },
     "execution_count": 33,
     "metadata": {},
     "output_type": "execute_result"
    }
   ],
   "source": [
    "#Testing on specific subjects.\n",
    "nei.predict([5968,54,1995,2016])"
   ]
  },
  {
   "cell_type": "code",
   "execution_count": 34,
   "metadata": {
    "collapsed": false
   },
   "outputs": [
    {
     "data": {
      "text/html": [
       "<div>\n",
       "<table border=\"1\" class=\"dataframe\">\n",
       "  <thead>\n",
       "    <tr style=\"text-align: right;\">\n",
       "      <th></th>\n",
       "      <th>Year</th>\n",
       "      <th>Country</th>\n",
       "      <th>Lifter</th>\n",
       "      <th>Birth</th>\n",
       "      <th>Weight</th>\n",
       "      <th>Snatch</th>\n",
       "      <th>Clean and Jerk</th>\n",
       "      <th>Total</th>\n",
       "      <th>NSC</th>\n",
       "      <th>CC</th>\n",
       "      <th>LC</th>\n",
       "    </tr>\n",
       "  </thead>\n",
       "  <tbody>\n",
       "    <tr>\n",
       "      <th>13279</th>\n",
       "      <td>2015</td>\n",
       "      <td>PUR</td>\n",
       "      <td>REYES Bruno</td>\n",
       "      <td>1995</td>\n",
       "      <td>68.35</td>\n",
       "      <td>110</td>\n",
       "      <td>137</td>\n",
       "      <td>247</td>\n",
       "      <td>-111.013605</td>\n",
       "      <td>54</td>\n",
       "      <td>5968</td>\n",
       "    </tr>\n",
       "  </tbody>\n",
       "</table>\n",
       "</div>"
      ],
      "text/plain": [
       "       Year Country       Lifter  Birth  Weight  Snatch  Clean and Jerk  \\\n",
       "13279  2015     PUR  REYES Bruno   1995   68.35     110             137   \n",
       "\n",
       "       Total         NSC  CC    LC  \n",
       "13279    247 -111.013605  54  5968  "
      ]
     },
     "execution_count": 34,
     "metadata": {},
     "output_type": "execute_result"
    }
   ],
   "source": [
    "rdata[rdata['LC']==5968]"
   ]
  },
  {
   "cell_type": "code",
   "execution_count": 35,
   "metadata": {
    "collapsed": false
   },
   "outputs": [
    {
     "data": {
      "text/plain": [
       "array([-129.23620087])"
      ]
     },
     "execution_count": 35,
     "metadata": {},
     "output_type": "execute_result"
    }
   ],
   "source": [
    "nei.predict([4846,88,1999,2016])"
   ]
  },
  {
   "cell_type": "code",
   "execution_count": 36,
   "metadata": {
    "collapsed": false
   },
   "outputs": [
    {
     "data": {
      "text/html": [
       "<div>\n",
       "<table border=\"1\" class=\"dataframe\">\n",
       "  <thead>\n",
       "    <tr style=\"text-align: right;\">\n",
       "      <th></th>\n",
       "      <th>Year</th>\n",
       "      <th>Country</th>\n",
       "      <th>Lifter</th>\n",
       "      <th>Birth</th>\n",
       "      <th>Weight</th>\n",
       "      <th>Snatch</th>\n",
       "      <th>Clean and Jerk</th>\n",
       "      <th>Total</th>\n",
       "      <th>NSC</th>\n",
       "      <th>CC</th>\n",
       "      <th>LC</th>\n",
       "    </tr>\n",
       "  </thead>\n",
       "  <tbody>\n",
       "    <tr>\n",
       "      <th>11744</th>\n",
       "      <td>2014</td>\n",
       "      <td>PNG</td>\n",
       "      <td>LOHIA Igo</td>\n",
       "      <td>1999</td>\n",
       "      <td>59.69</td>\n",
       "      <td>75</td>\n",
       "      <td>100</td>\n",
       "      <td>175</td>\n",
       "      <td>-149.944312</td>\n",
       "      <td>88</td>\n",
       "      <td>4846</td>\n",
       "    </tr>\n",
       "    <tr>\n",
       "      <th>11548</th>\n",
       "      <td>2014</td>\n",
       "      <td>PNG</td>\n",
       "      <td>LOHIA Igo</td>\n",
       "      <td>1999</td>\n",
       "      <td>55.40</td>\n",
       "      <td>70</td>\n",
       "      <td>90</td>\n",
       "      <td>160</td>\n",
       "      <td>-142.157669</td>\n",
       "      <td>88</td>\n",
       "      <td>4846</td>\n",
       "    </tr>\n",
       "    <tr>\n",
       "      <th>13135</th>\n",
       "      <td>2015</td>\n",
       "      <td>PNG</td>\n",
       "      <td>LOHIA Igo</td>\n",
       "      <td>1999</td>\n",
       "      <td>61.05</td>\n",
       "      <td>87</td>\n",
       "      <td>112</td>\n",
       "      <td>199</td>\n",
       "      <td>-132.061167</td>\n",
       "      <td>88</td>\n",
       "      <td>4846</td>\n",
       "    </tr>\n",
       "  </tbody>\n",
       "</table>\n",
       "</div>"
      ],
      "text/plain": [
       "       Year Country     Lifter  Birth  Weight  Snatch  Clean and Jerk  Total  \\\n",
       "11744  2014     PNG  LOHIA Igo   1999   59.69      75             100    175   \n",
       "11548  2014     PNG  LOHIA Igo   1999   55.40      70              90    160   \n",
       "13135  2015     PNG  LOHIA Igo   1999   61.05      87             112    199   \n",
       "\n",
       "              NSC  CC    LC  \n",
       "11744 -149.944312  88  4846  \n",
       "11548 -142.157669  88  4846  \n",
       "13135 -132.061167  88  4846  "
      ]
     },
     "execution_count": 36,
     "metadata": {},
     "output_type": "execute_result"
    }
   ],
   "source": [
    "rdata[rdata['LC']==4846]"
   ]
  },
  {
   "cell_type": "code",
   "execution_count": null,
   "metadata": {
    "collapsed": true
   },
   "outputs": [],
   "source": []
  }
 ],
 "metadata": {
  "kernelspec": {
   "display_name": "Python 2",
   "language": "python",
   "name": "python2"
  },
  "language_info": {
   "codemirror_mode": {
    "name": "ipython",
    "version": 2
   },
   "file_extension": ".py",
   "mimetype": "text/x-python",
   "name": "python",
   "nbconvert_exporter": "python",
   "pygments_lexer": "ipython2",
   "version": "2.7.10"
  }
 },
 "nbformat": 4,
 "nbformat_minor": 0
}
