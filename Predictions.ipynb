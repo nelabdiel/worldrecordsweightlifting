{
 "cells": [
  {
   "cell_type": "code",
   "execution_count": 1,
   "metadata": {
    "collapsed": true
   },
   "outputs": [],
   "source": [
    "import pickle\n",
    "import pandas as pd\n",
    "import matplotlib\n",
    "import matplotlib.pylab as plt\n",
    "import scipy as sp\n",
    "%matplotlib inline\n",
    "import math\n",
    "import numpy as np\n",
    "import seaborn as sms\n",
    "\n",
    "\n",
    "\n",
    "class Company(object):\n",
    "    def __init__(self, rec):\n",
    "        self.rec = rec\n",
    "\n",
    "\n",
    "#loading cleaned up data from previous competitions and comparison coefficient.\n",
    "with open('recent_comp.pkl', 'rb') as input:\n",
    "    rdatac = pickle.load(input)    \n",
    "\n",
    "recents = rdatac.rec "
   ]
  },
  {
   "cell_type": "code",
   "execution_count": 3,
   "metadata": {
    "collapsed": true
   },
   "outputs": [],
   "source": [
    "#Filtering to keep only those lifters who are somewhat good.\n",
    "rdata= recents[(recents['NSC']>=-250) & (recents['Weight']>52) &\n",
    "               (recents['Birth']>=1960) & (recents['Year']>1970)].sort('NSC', ascending=True)"
   ]
  },
  {
   "cell_type": "code",
   "execution_count": 5,
   "metadata": {
    "collapsed": false,
    "scrolled": false
   },
   "outputs": [
    {
     "data": {
      "text/html": [
       "<div>\n",
       "<table border=\"1\" class=\"dataframe\">\n",
       "  <thead>\n",
       "    <tr style=\"text-align: right;\">\n",
       "      <th></th>\n",
       "      <th>Lifter</th>\n",
       "      <th>LC</th>\n",
       "      <th>Country</th>\n",
       "      <th>CC</th>\n",
       "      <th>Age</th>\n",
       "      <th>Birth</th>\n",
       "      <th>Weight</th>\n",
       "      <th>Year</th>\n",
       "      <th>Snatch</th>\n",
       "      <th>Clean and Jerk</th>\n",
       "      <th>Total</th>\n",
       "      <th>NSC</th>\n",
       "    </tr>\n",
       "  </thead>\n",
       "  <tbody>\n",
       "    <tr>\n",
       "      <th>13881</th>\n",
       "      <td>MONTGOMERY Mathew Griffith</td>\n",
       "      <td>6187</td>\n",
       "      <td>USA</td>\n",
       "      <td>15</td>\n",
       "      <td>17</td>\n",
       "      <td>1998</td>\n",
       "      <td>91.90</td>\n",
       "      <td>2015</td>\n",
       "      <td>121</td>\n",
       "      <td>145</td>\n",
       "      <td>266</td>\n",
       "      <td>-145.629349</td>\n",
       "    </tr>\n",
       "    <tr>\n",
       "      <th>14118</th>\n",
       "      <td>SENNETT Ryan Joseph</td>\n",
       "      <td>5791</td>\n",
       "      <td>USA</td>\n",
       "      <td>15</td>\n",
       "      <td>18</td>\n",
       "      <td>1997</td>\n",
       "      <td>133.25</td>\n",
       "      <td>2015</td>\n",
       "      <td>146</td>\n",
       "      <td>175</td>\n",
       "      <td>321</td>\n",
       "      <td>-141.728022</td>\n",
       "    </tr>\n",
       "    <tr>\n",
       "      <th>13710</th>\n",
       "      <td>BEEMER Il Richard Lincoln</td>\n",
       "      <td>6125</td>\n",
       "      <td>USA</td>\n",
       "      <td>15</td>\n",
       "      <td>17</td>\n",
       "      <td>1998</td>\n",
       "      <td>83.70</td>\n",
       "      <td>2015</td>\n",
       "      <td>115</td>\n",
       "      <td>140</td>\n",
       "      <td>255</td>\n",
       "      <td>-141.497944</td>\n",
       "    </tr>\n",
       "    <tr>\n",
       "      <th>13129</th>\n",
       "      <td>COSENTINO Alec Greggory</td>\n",
       "      <td>5933</td>\n",
       "      <td>USA</td>\n",
       "      <td>15</td>\n",
       "      <td>17</td>\n",
       "      <td>1998</td>\n",
       "      <td>61.79</td>\n",
       "      <td>2015</td>\n",
       "      <td>92</td>\n",
       "      <td>115</td>\n",
       "      <td>207</td>\n",
       "      <td>-127.214281</td>\n",
       "    </tr>\n",
       "    <tr>\n",
       "      <th>13687</th>\n",
       "      <td>BURKS Zakary Ryan</td>\n",
       "      <td>6114</td>\n",
       "      <td>USA</td>\n",
       "      <td>15</td>\n",
       "      <td>17</td>\n",
       "      <td>1998</td>\n",
       "      <td>84.30</td>\n",
       "      <td>2015</td>\n",
       "      <td>119</td>\n",
       "      <td>154</td>\n",
       "      <td>273</td>\n",
       "      <td>-124.700664</td>\n",
       "    </tr>\n",
       "    <tr>\n",
       "      <th>13120</th>\n",
       "      <td>DAWSON Gabriel Knight</td>\n",
       "      <td>5929</td>\n",
       "      <td>USA</td>\n",
       "      <td>15</td>\n",
       "      <td>16</td>\n",
       "      <td>1999</td>\n",
       "      <td>61.97</td>\n",
       "      <td>2015</td>\n",
       "      <td>95</td>\n",
       "      <td>120</td>\n",
       "      <td>215</td>\n",
       "      <td>-119.963983</td>\n",
       "    </tr>\n",
       "    <tr>\n",
       "      <th>13854</th>\n",
       "      <td>COOPER Dylan Scott</td>\n",
       "      <td>6176</td>\n",
       "      <td>USA</td>\n",
       "      <td>15</td>\n",
       "      <td>18</td>\n",
       "      <td>1997</td>\n",
       "      <td>89.84</td>\n",
       "      <td>2015</td>\n",
       "      <td>130</td>\n",
       "      <td>166</td>\n",
       "      <td>296</td>\n",
       "      <td>-112.072510</td>\n",
       "    </tr>\n",
       "    <tr>\n",
       "      <th>13667</th>\n",
       "      <td>STEMO Nathan Robert</td>\n",
       "      <td>6108</td>\n",
       "      <td>USA</td>\n",
       "      <td>15</td>\n",
       "      <td>20</td>\n",
       "      <td>1995</td>\n",
       "      <td>82.98</td>\n",
       "      <td>2015</td>\n",
       "      <td>135</td>\n",
       "      <td>151</td>\n",
       "      <td>286</td>\n",
       "      <td>-109.031980</td>\n",
       "    </tr>\n",
       "    <tr>\n",
       "      <th>13472</th>\n",
       "      <td>TROZZI Dominic Robert</td>\n",
       "      <td>5108</td>\n",
       "      <td>USA</td>\n",
       "      <td>15</td>\n",
       "      <td>18</td>\n",
       "      <td>1997</td>\n",
       "      <td>76.35</td>\n",
       "      <td>2015</td>\n",
       "      <td>125</td>\n",
       "      <td>147</td>\n",
       "      <td>272</td>\n",
       "      <td>-108.201151</td>\n",
       "    </tr>\n",
       "    <tr>\n",
       "      <th>13466</th>\n",
       "      <td>TROZZI Dominick Robert</td>\n",
       "      <td>6028</td>\n",
       "      <td>USA</td>\n",
       "      <td>15</td>\n",
       "      <td>18</td>\n",
       "      <td>1997</td>\n",
       "      <td>76.70</td>\n",
       "      <td>2015</td>\n",
       "      <td>125</td>\n",
       "      <td>148</td>\n",
       "      <td>273</td>\n",
       "      <td>-108.051854</td>\n",
       "    </tr>\n",
       "    <tr>\n",
       "      <th>13276</th>\n",
       "      <td>EICHELBERGER Sean</td>\n",
       "      <td>5966</td>\n",
       "      <td>USA</td>\n",
       "      <td>15</td>\n",
       "      <td>20</td>\n",
       "      <td>1995</td>\n",
       "      <td>68.35</td>\n",
       "      <td>2015</td>\n",
       "      <td>114</td>\n",
       "      <td>136</td>\n",
       "      <td>250</td>\n",
       "      <td>-108.013605</td>\n",
       "    </tr>\n",
       "    <tr>\n",
       "      <th>13660</th>\n",
       "      <td>SUMMA Thomas Scott Henry</td>\n",
       "      <td>6103</td>\n",
       "      <td>USA</td>\n",
       "      <td>15</td>\n",
       "      <td>19</td>\n",
       "      <td>1996</td>\n",
       "      <td>83.48</td>\n",
       "      <td>2015</td>\n",
       "      <td>130</td>\n",
       "      <td>160</td>\n",
       "      <td>290</td>\n",
       "      <td>-106.052672</td>\n",
       "    </tr>\n",
       "    <tr>\n",
       "      <th>13275</th>\n",
       "      <td>COHEN William Vincent</td>\n",
       "      <td>4808</td>\n",
       "      <td>USA</td>\n",
       "      <td>15</td>\n",
       "      <td>15</td>\n",
       "      <td>2000</td>\n",
       "      <td>67.15</td>\n",
       "      <td>2015</td>\n",
       "      <td>113</td>\n",
       "      <td>137</td>\n",
       "      <td>250</td>\n",
       "      <td>-104.126543</td>\n",
       "    </tr>\n",
       "    <tr>\n",
       "      <th>13834</th>\n",
       "      <td>COHEN Michael Howard</td>\n",
       "      <td>6167</td>\n",
       "      <td>USA</td>\n",
       "      <td>15</td>\n",
       "      <td>17</td>\n",
       "      <td>1998</td>\n",
       "      <td>91.02</td>\n",
       "      <td>2015</td>\n",
       "      <td>135</td>\n",
       "      <td>174</td>\n",
       "      <td>309</td>\n",
       "      <td>-101.127993</td>\n",
       "    </tr>\n",
       "    <tr>\n",
       "      <th>13446</th>\n",
       "      <td>CUMMINGS Omar Malik</td>\n",
       "      <td>5575</td>\n",
       "      <td>USA</td>\n",
       "      <td>15</td>\n",
       "      <td>17</td>\n",
       "      <td>1998</td>\n",
       "      <td>76.57</td>\n",
       "      <td>2015</td>\n",
       "      <td>125</td>\n",
       "      <td>162</td>\n",
       "      <td>287</td>\n",
       "      <td>-93.736866</td>\n",
       "    </tr>\n",
       "    <tr>\n",
       "      <th>13443</th>\n",
       "      <td>DAMRON Nathan Charles</td>\n",
       "      <td>4525</td>\n",
       "      <td>USA</td>\n",
       "      <td>15</td>\n",
       "      <td>19</td>\n",
       "      <td>1996</td>\n",
       "      <td>76.90</td>\n",
       "      <td>2015</td>\n",
       "      <td>130</td>\n",
       "      <td>160</td>\n",
       "      <td>290</td>\n",
       "      <td>-91.534195</td>\n",
       "    </tr>\n",
       "    <tr>\n",
       "      <th>13261</th>\n",
       "      <td>HUNT Michael Lee</td>\n",
       "      <td>5012</td>\n",
       "      <td>USA</td>\n",
       "      <td>15</td>\n",
       "      <td>20</td>\n",
       "      <td>1995</td>\n",
       "      <td>66.85</td>\n",
       "      <td>2015</td>\n",
       "      <td>115</td>\n",
       "      <td>147</td>\n",
       "      <td>262</td>\n",
       "      <td>-91.126516</td>\n",
       "    </tr>\n",
       "    <tr>\n",
       "      <th>13618</th>\n",
       "      <td>McGOVERN John Luke</td>\n",
       "      <td>4557</td>\n",
       "      <td>USA</td>\n",
       "      <td>15</td>\n",
       "      <td>23</td>\n",
       "      <td>1992</td>\n",
       "      <td>84.54</td>\n",
       "      <td>2015</td>\n",
       "      <td>138</td>\n",
       "      <td>180</td>\n",
       "      <td>318</td>\n",
       "      <td>-80.177053</td>\n",
       "    </tr>\n",
       "    <tr>\n",
       "      <th>13426</th>\n",
       "      <td>MAURUS Harrison James</td>\n",
       "      <td>5506</td>\n",
       "      <td>USA</td>\n",
       "      <td>15</td>\n",
       "      <td>15</td>\n",
       "      <td>2000</td>\n",
       "      <td>74.60</td>\n",
       "      <td>2015</td>\n",
       "      <td>135</td>\n",
       "      <td>164</td>\n",
       "      <td>299</td>\n",
       "      <td>-76.815807</td>\n",
       "    </tr>\n",
       "    <tr>\n",
       "      <th>14096</th>\n",
       "      <td>MOORMAN Spencer Bennett</td>\n",
       "      <td>6243</td>\n",
       "      <td>USA</td>\n",
       "      <td>15</td>\n",
       "      <td>24</td>\n",
       "      <td>1991</td>\n",
       "      <td>108.24</td>\n",
       "      <td>2015</td>\n",
       "      <td>160</td>\n",
       "      <td>200</td>\n",
       "      <td>360</td>\n",
       "      <td>-75.573431</td>\n",
       "    </tr>\n",
       "    <tr>\n",
       "      <th>13969</th>\n",
       "      <td>WILSON Ian Burdick</td>\n",
       "      <td>2975</td>\n",
       "      <td>USA</td>\n",
       "      <td>15</td>\n",
       "      <td>21</td>\n",
       "      <td>1994</td>\n",
       "      <td>104.46</td>\n",
       "      <td>2015</td>\n",
       "      <td>162</td>\n",
       "      <td>195</td>\n",
       "      <td>357</td>\n",
       "      <td>-73.600629</td>\n",
       "    </tr>\n",
       "    <tr>\n",
       "      <th>12879</th>\n",
       "      <td>BARNES Darren Lamar</td>\n",
       "      <td>2392</td>\n",
       "      <td>USA</td>\n",
       "      <td>15</td>\n",
       "      <td>21</td>\n",
       "      <td>1994</td>\n",
       "      <td>55.88</td>\n",
       "      <td>2015</td>\n",
       "      <td>105</td>\n",
       "      <td>136</td>\n",
       "      <td>241</td>\n",
       "      <td>-64.030552</td>\n",
       "    </tr>\n",
       "    <tr>\n",
       "      <th>13191</th>\n",
       "      <td>CUMMINGS JR Clarence</td>\n",
       "      <td>4768</td>\n",
       "      <td>USA</td>\n",
       "      <td>15</td>\n",
       "      <td>15</td>\n",
       "      <td>2000</td>\n",
       "      <td>68.55</td>\n",
       "      <td>2015</td>\n",
       "      <td>134</td>\n",
       "      <td>168</td>\n",
       "      <td>302</td>\n",
       "      <td>-56.644604</td>\n",
       "    </tr>\n",
       "  </tbody>\n",
       "</table>\n",
       "</div>"
      ],
      "text/plain": [
       "                           Lifter    LC Country  CC  Age  Birth  Weight  Year  \\\n",
       "13881  MONTGOMERY Mathew Griffith  6187     USA  15   17   1998   91.90  2015   \n",
       "14118         SENNETT Ryan Joseph  5791     USA  15   18   1997  133.25  2015   \n",
       "13710   BEEMER Il Richard Lincoln  6125     USA  15   17   1998   83.70  2015   \n",
       "13129     COSENTINO Alec Greggory  5933     USA  15   17   1998   61.79  2015   \n",
       "13687           BURKS Zakary Ryan  6114     USA  15   17   1998   84.30  2015   \n",
       "13120       DAWSON Gabriel Knight  5929     USA  15   16   1999   61.97  2015   \n",
       "13854          COOPER Dylan Scott  6176     USA  15   18   1997   89.84  2015   \n",
       "13667         STEMO Nathan Robert  6108     USA  15   20   1995   82.98  2015   \n",
       "13472       TROZZI Dominic Robert  5108     USA  15   18   1997   76.35  2015   \n",
       "13466      TROZZI Dominick Robert  6028     USA  15   18   1997   76.70  2015   \n",
       "13276           EICHELBERGER Sean  5966     USA  15   20   1995   68.35  2015   \n",
       "13660    SUMMA Thomas Scott Henry  6103     USA  15   19   1996   83.48  2015   \n",
       "13275       COHEN William Vincent  4808     USA  15   15   2000   67.15  2015   \n",
       "13834        COHEN Michael Howard  6167     USA  15   17   1998   91.02  2015   \n",
       "13446         CUMMINGS Omar Malik  5575     USA  15   17   1998   76.57  2015   \n",
       "13443       DAMRON Nathan Charles  4525     USA  15   19   1996   76.90  2015   \n",
       "13261            HUNT Michael Lee  5012     USA  15   20   1995   66.85  2015   \n",
       "13618          McGOVERN John Luke  4557     USA  15   23   1992   84.54  2015   \n",
       "13426       MAURUS Harrison James  5506     USA  15   15   2000   74.60  2015   \n",
       "14096     MOORMAN Spencer Bennett  6243     USA  15   24   1991  108.24  2015   \n",
       "13969          WILSON Ian Burdick  2975     USA  15   21   1994  104.46  2015   \n",
       "12879         BARNES Darren Lamar  2392     USA  15   21   1994   55.88  2015   \n",
       "13191        CUMMINGS JR Clarence  4768     USA  15   15   2000   68.55  2015   \n",
       "\n",
       "       Snatch  Clean and Jerk  Total         NSC  \n",
       "13881     121             145    266 -145.629349  \n",
       "14118     146             175    321 -141.728022  \n",
       "13710     115             140    255 -141.497944  \n",
       "13129      92             115    207 -127.214281  \n",
       "13687     119             154    273 -124.700664  \n",
       "13120      95             120    215 -119.963983  \n",
       "13854     130             166    296 -112.072510  \n",
       "13667     135             151    286 -109.031980  \n",
       "13472     125             147    272 -108.201151  \n",
       "13466     125             148    273 -108.051854  \n",
       "13276     114             136    250 -108.013605  \n",
       "13660     130             160    290 -106.052672  \n",
       "13275     113             137    250 -104.126543  \n",
       "13834     135             174    309 -101.127993  \n",
       "13446     125             162    287  -93.736866  \n",
       "13443     130             160    290  -91.534195  \n",
       "13261     115             147    262  -91.126516  \n",
       "13618     138             180    318  -80.177053  \n",
       "13426     135             164    299  -76.815807  \n",
       "14096     160             200    360  -75.573431  \n",
       "13969     162             195    357  -73.600629  \n",
       "12879     105             136    241  -64.030552  \n",
       "13191     134             168    302  -56.644604  "
      ]
     },
     "execution_count": 5,
     "metadata": {},
     "output_type": "execute_result"
    }
   ],
   "source": [
    "rdata[(rdata['Country']=='USA') & (rdata['Birth']>1990) &(rdata['Year']==2015)]"
   ]
  },
  {
   "cell_type": "code",
   "execution_count": 4,
   "metadata": {
    "collapsed": false
   },
   "outputs": [
    {
     "data": {
      "text/html": [
       "<div>\n",
       "<table border=\"1\" class=\"dataframe\">\n",
       "  <thead>\n",
       "    <tr style=\"text-align: right;\">\n",
       "      <th></th>\n",
       "      <th>Lifter</th>\n",
       "      <th>LC</th>\n",
       "      <th>Country</th>\n",
       "      <th>CC</th>\n",
       "      <th>Age</th>\n",
       "      <th>Birth</th>\n",
       "      <th>Weight</th>\n",
       "      <th>Year</th>\n",
       "      <th>Snatch</th>\n",
       "      <th>Clean and Jerk</th>\n",
       "      <th>Total</th>\n",
       "      <th>NSC</th>\n",
       "    </tr>\n",
       "  </thead>\n",
       "  <tbody>\n",
       "    <tr>\n",
       "      <th>2774</th>\n",
       "      <td>ILYIN Ilya</td>\n",
       "      <td>1541</td>\n",
       "      <td>KAZ</td>\n",
       "      <td>28</td>\n",
       "      <td>17</td>\n",
       "      <td>1988</td>\n",
       "      <td>84.65</td>\n",
       "      <td>2005</td>\n",
       "      <td>170</td>\n",
       "      <td>216</td>\n",
       "      <td>386</td>\n",
       "      <td>-12.394513</td>\n",
       "    </tr>\n",
       "    <tr>\n",
       "      <th>3282</th>\n",
       "      <td>ILYIN Ilya</td>\n",
       "      <td>1541</td>\n",
       "      <td>KAZ</td>\n",
       "      <td>28</td>\n",
       "      <td>18</td>\n",
       "      <td>1988</td>\n",
       "      <td>93.39</td>\n",
       "      <td>2006</td>\n",
       "      <td>176</td>\n",
       "      <td>225</td>\n",
       "      <td>401</td>\n",
       "      <td>-13.112795</td>\n",
       "    </tr>\n",
       "    <tr>\n",
       "      <th>4410</th>\n",
       "      <td>ILYIN Ilya</td>\n",
       "      <td>1541</td>\n",
       "      <td>KAZ</td>\n",
       "      <td>28</td>\n",
       "      <td>20</td>\n",
       "      <td>1988</td>\n",
       "      <td>93.64</td>\n",
       "      <td>2008</td>\n",
       "      <td>180</td>\n",
       "      <td>226</td>\n",
       "      <td>406</td>\n",
       "      <td>-8.522502</td>\n",
       "    </tr>\n",
       "    <tr>\n",
       "      <th>6938</th>\n",
       "      <td>ILYIN Ilya</td>\n",
       "      <td>1541</td>\n",
       "      <td>KAZ</td>\n",
       "      <td>28</td>\n",
       "      <td>22</td>\n",
       "      <td>1988</td>\n",
       "      <td>93.68</td>\n",
       "      <td>2010</td>\n",
       "      <td>175</td>\n",
       "      <td>219</td>\n",
       "      <td>394</td>\n",
       "      <td>-20.587873</td>\n",
       "    </tr>\n",
       "    <tr>\n",
       "      <th>8287</th>\n",
       "      <td>ILYIN Ilya</td>\n",
       "      <td>1541</td>\n",
       "      <td>KAZ</td>\n",
       "      <td>28</td>\n",
       "      <td>23</td>\n",
       "      <td>1988</td>\n",
       "      <td>93.78</td>\n",
       "      <td>2011</td>\n",
       "      <td>181</td>\n",
       "      <td>226</td>\n",
       "      <td>407</td>\n",
       "      <td>-7.751083</td>\n",
       "    </tr>\n",
       "    <tr>\n",
       "      <th>9587</th>\n",
       "      <td>ILYIN Ilya</td>\n",
       "      <td>1541</td>\n",
       "      <td>KAZ</td>\n",
       "      <td>28</td>\n",
       "      <td>24</td>\n",
       "      <td>1988</td>\n",
       "      <td>93.52</td>\n",
       "      <td>2012</td>\n",
       "      <td>185</td>\n",
       "      <td>233</td>\n",
       "      <td>418</td>\n",
       "      <td>3.673912</td>\n",
       "    </tr>\n",
       "    <tr>\n",
       "      <th>12574</th>\n",
       "      <td>ILYIN Ilya</td>\n",
       "      <td>1541</td>\n",
       "      <td>KAZ</td>\n",
       "      <td>28</td>\n",
       "      <td>26</td>\n",
       "      <td>1988</td>\n",
       "      <td>104.35</td>\n",
       "      <td>2014</td>\n",
       "      <td>190</td>\n",
       "      <td>242</td>\n",
       "      <td>432</td>\n",
       "      <td>1.548504</td>\n",
       "    </tr>\n",
       "    <tr>\n",
       "      <th>13923</th>\n",
       "      <td>ILYIN Ilya</td>\n",
       "      <td>1541</td>\n",
       "      <td>KAZ</td>\n",
       "      <td>28</td>\n",
       "      <td>27</td>\n",
       "      <td>1988</td>\n",
       "      <td>104.44</td>\n",
       "      <td>2015</td>\n",
       "      <td>191</td>\n",
       "      <td>246</td>\n",
       "      <td>437</td>\n",
       "      <td>6.426466</td>\n",
       "    </tr>\n",
       "  </tbody>\n",
       "</table>\n",
       "</div>"
      ],
      "text/plain": [
       "           Lifter    LC Country  CC  Age  Birth  Weight  Year  Snatch  \\\n",
       "2774   ILYIN Ilya  1541     KAZ  28   17   1988   84.65  2005     170   \n",
       "3282   ILYIN Ilya  1541     KAZ  28   18   1988   93.39  2006     176   \n",
       "4410   ILYIN Ilya  1541     KAZ  28   20   1988   93.64  2008     180   \n",
       "6938   ILYIN Ilya  1541     KAZ  28   22   1988   93.68  2010     175   \n",
       "8287   ILYIN Ilya  1541     KAZ  28   23   1988   93.78  2011     181   \n",
       "9587   ILYIN Ilya  1541     KAZ  28   24   1988   93.52  2012     185   \n",
       "12574  ILYIN Ilya  1541     KAZ  28   26   1988  104.35  2014     190   \n",
       "13923  ILYIN Ilya  1541     KAZ  28   27   1988  104.44  2015     191   \n",
       "\n",
       "       Clean and Jerk  Total        NSC  \n",
       "2774              216    386 -12.394513  \n",
       "3282              225    401 -13.112795  \n",
       "4410              226    406  -8.522502  \n",
       "6938              219    394 -20.587873  \n",
       "8287              226    407  -7.751083  \n",
       "9587              233    418   3.673912  \n",
       "12574             242    432   1.548504  \n",
       "13923             246    437   6.426466  "
      ]
     },
     "execution_count": 4,
     "metadata": {},
     "output_type": "execute_result"
    }
   ],
   "source": [
    "#looking up the stats of possibly the best lifter alive.\n",
    "recents[recents['LC']==1541]"
   ]
  },
  {
   "cell_type": "code",
   "execution_count": 4,
   "metadata": {
    "collapsed": false
   },
   "outputs": [],
   "source": [
    "#Since my data has been normalized by the NSC Im not concerned with body weight, so for a given\n",
    "#lifter, I'll use his country of origin, age and the years he has competed and plot that\n",
    "#against his coefficient.\n",
    "X = np.array(rdata[['LC', 'CC', 'Birth', 'Age', 'Year']])\n",
    "y = np.array(rdata['NSC'])"
   ]
  },
  {
   "cell_type": "code",
   "execution_count": 5,
   "metadata": {
    "collapsed": true
   },
   "outputs": [],
   "source": [
    "#Choosing my ML method\n",
    "from sklearn.neighbors import KNeighborsRegressor"
   ]
  },
  {
   "cell_type": "code",
   "execution_count": 6,
   "metadata": {
    "collapsed": true
   },
   "outputs": [],
   "source": [
    "nei = KNeighborsRegressor(n_neighbors=100, weights='distance',\n",
    "                          algorithm='ball_tree', leaf_size=1000, metric='manhattan')"
   ]
  },
  {
   "cell_type": "code",
   "execution_count": 7,
   "metadata": {
    "collapsed": true
   },
   "outputs": [],
   "source": [
    "from sklearn.cross_validation import train_test_split"
   ]
  },
  {
   "cell_type": "code",
   "execution_count": 8,
   "metadata": {
    "collapsed": true
   },
   "outputs": [],
   "source": [
    "X_train, X_test, y_train, y_test = train_test_split(X, y, test_size=0.2, random_state=100)"
   ]
  },
  {
   "cell_type": "code",
   "execution_count": 9,
   "metadata": {
    "collapsed": false
   },
   "outputs": [
    {
     "data": {
      "text/plain": [
       "KNeighborsRegressor(algorithm='ball_tree', leaf_size=1000, metric='manhattan',\n",
       "          metric_params=None, n_neighbors=100, p=2, weights='distance')"
      ]
     },
     "execution_count": 9,
     "metadata": {},
     "output_type": "execute_result"
    }
   ],
   "source": [
    "nei.fit(X_train, y_train)"
   ]
  },
  {
   "cell_type": "code",
   "execution_count": 56,
   "metadata": {
    "collapsed": true
   },
   "outputs": [],
   "source": [
    "#Now that we have our model let's make some predictions for a few lifters to see how it holds."
   ]
  },
  {
   "cell_type": "code",
   "execution_count": 57,
   "metadata": {
    "collapsed": false
   },
   "outputs": [
    {
     "data": {
      "text/html": [
       "<div>\n",
       "<table border=\"1\" class=\"dataframe\">\n",
       "  <thead>\n",
       "    <tr style=\"text-align: right;\">\n",
       "      <th></th>\n",
       "      <th>Lifter</th>\n",
       "      <th>LC</th>\n",
       "      <th>Country</th>\n",
       "      <th>CC</th>\n",
       "      <th>Age</th>\n",
       "      <th>Birth</th>\n",
       "      <th>Weight</th>\n",
       "      <th>Year</th>\n",
       "      <th>Snatch</th>\n",
       "      <th>Clean and Jerk</th>\n",
       "      <th>Total</th>\n",
       "      <th>NSC</th>\n",
       "    </tr>\n",
       "  </thead>\n",
       "  <tbody>\n",
       "    <tr>\n",
       "      <th>13279</th>\n",
       "      <td>REYES Bruno</td>\n",
       "      <td>5968</td>\n",
       "      <td>PUR</td>\n",
       "      <td>54</td>\n",
       "      <td>20</td>\n",
       "      <td>1995</td>\n",
       "      <td>68.35</td>\n",
       "      <td>2015</td>\n",
       "      <td>110</td>\n",
       "      <td>137</td>\n",
       "      <td>247</td>\n",
       "      <td>-111.013605</td>\n",
       "    </tr>\n",
       "  </tbody>\n",
       "</table>\n",
       "</div>"
      ],
      "text/plain": [
       "            Lifter    LC Country  CC  Age  Birth  Weight  Year  Snatch  \\\n",
       "13279  REYES Bruno  5968     PUR  54   20   1995   68.35  2015     110   \n",
       "\n",
       "       Clean and Jerk  Total         NSC  \n",
       "13279             137    247 -111.013605  "
      ]
     },
     "execution_count": 57,
     "metadata": {},
     "output_type": "execute_result"
    }
   ],
   "source": [
    "rdata[rdata['LC']==5968]"
   ]
  },
  {
   "cell_type": "code",
   "execution_count": 10,
   "metadata": {
    "collapsed": false
   },
   "outputs": [
    {
     "data": {
      "text/plain": [
       "array([-110.36782853])"
      ]
     },
     "execution_count": 10,
     "metadata": {},
     "output_type": "execute_result"
    }
   ],
   "source": [
    "nei.predict([5968,54,1995,21,2016])"
   ]
  },
  {
   "cell_type": "code",
   "execution_count": 11,
   "metadata": {
    "collapsed": false
   },
   "outputs": [
    {
     "data": {
      "text/html": [
       "<div>\n",
       "<table border=\"1\" class=\"dataframe\">\n",
       "  <thead>\n",
       "    <tr style=\"text-align: right;\">\n",
       "      <th></th>\n",
       "      <th>Lifter</th>\n",
       "      <th>LC</th>\n",
       "      <th>Country</th>\n",
       "      <th>CC</th>\n",
       "      <th>Age</th>\n",
       "      <th>Birth</th>\n",
       "      <th>Weight</th>\n",
       "      <th>Year</th>\n",
       "      <th>Snatch</th>\n",
       "      <th>Clean and Jerk</th>\n",
       "      <th>Total</th>\n",
       "      <th>NSC</th>\n",
       "    </tr>\n",
       "  </thead>\n",
       "  <tbody>\n",
       "    <tr>\n",
       "      <th>11744</th>\n",
       "      <td>LOHIA Igo</td>\n",
       "      <td>4846</td>\n",
       "      <td>PNG</td>\n",
       "      <td>88</td>\n",
       "      <td>15</td>\n",
       "      <td>1999</td>\n",
       "      <td>59.69</td>\n",
       "      <td>2014</td>\n",
       "      <td>75</td>\n",
       "      <td>100</td>\n",
       "      <td>175</td>\n",
       "      <td>-149.944312</td>\n",
       "    </tr>\n",
       "    <tr>\n",
       "      <th>11548</th>\n",
       "      <td>LOHIA Igo</td>\n",
       "      <td>4846</td>\n",
       "      <td>PNG</td>\n",
       "      <td>88</td>\n",
       "      <td>15</td>\n",
       "      <td>1999</td>\n",
       "      <td>55.40</td>\n",
       "      <td>2014</td>\n",
       "      <td>70</td>\n",
       "      <td>90</td>\n",
       "      <td>160</td>\n",
       "      <td>-142.157669</td>\n",
       "    </tr>\n",
       "    <tr>\n",
       "      <th>13135</th>\n",
       "      <td>LOHIA Igo</td>\n",
       "      <td>4846</td>\n",
       "      <td>PNG</td>\n",
       "      <td>88</td>\n",
       "      <td>16</td>\n",
       "      <td>1999</td>\n",
       "      <td>61.05</td>\n",
       "      <td>2015</td>\n",
       "      <td>87</td>\n",
       "      <td>112</td>\n",
       "      <td>199</td>\n",
       "      <td>-132.061167</td>\n",
       "    </tr>\n",
       "  </tbody>\n",
       "</table>\n",
       "</div>"
      ],
      "text/plain": [
       "          Lifter    LC Country  CC  Age  Birth  Weight  Year  Snatch  \\\n",
       "11744  LOHIA Igo  4846     PNG  88   15   1999   59.69  2014      75   \n",
       "11548  LOHIA Igo  4846     PNG  88   15   1999   55.40  2014      70   \n",
       "13135  LOHIA Igo  4846     PNG  88   16   1999   61.05  2015      87   \n",
       "\n",
       "       Clean and Jerk  Total         NSC  \n",
       "11744             100    175 -149.944312  \n",
       "11548              90    160 -142.157669  \n",
       "13135             112    199 -132.061167  "
      ]
     },
     "execution_count": 11,
     "metadata": {},
     "output_type": "execute_result"
    }
   ],
   "source": [
    "rdata[rdata['LC']==4846]"
   ]
  },
  {
   "cell_type": "code",
   "execution_count": 12,
   "metadata": {
    "collapsed": false
   },
   "outputs": [
    {
     "data": {
      "text/plain": [
       "array([-128.08396073])"
      ]
     },
     "execution_count": 12,
     "metadata": {},
     "output_type": "execute_result"
    }
   ],
   "source": [
    "nei.predict([4846,88,1999,16,2016])"
   ]
  },
  {
   "cell_type": "code",
   "execution_count": 13,
   "metadata": {
    "collapsed": false
   },
   "outputs": [
    {
     "data": {
      "text/html": [
       "<div>\n",
       "<table border=\"1\" class=\"dataframe\">\n",
       "  <thead>\n",
       "    <tr style=\"text-align: right;\">\n",
       "      <th></th>\n",
       "      <th>Lifter</th>\n",
       "      <th>LC</th>\n",
       "      <th>Country</th>\n",
       "      <th>CC</th>\n",
       "      <th>Age</th>\n",
       "      <th>Birth</th>\n",
       "      <th>Weight</th>\n",
       "      <th>Year</th>\n",
       "      <th>Snatch</th>\n",
       "      <th>Clean and Jerk</th>\n",
       "      <th>Total</th>\n",
       "      <th>NSC</th>\n",
       "    </tr>\n",
       "  </thead>\n",
       "  <tbody>\n",
       "    <tr>\n",
       "      <th>5996</th>\n",
       "      <td>CROITORU Florin Ionut</td>\n",
       "      <td>3120</td>\n",
       "      <td>ROU</td>\n",
       "      <td>2</td>\n",
       "      <td>17</td>\n",
       "      <td>1993</td>\n",
       "      <td>55.15</td>\n",
       "      <td>2010</td>\n",
       "      <td>110</td>\n",
       "      <td>132</td>\n",
       "      <td>242</td>\n",
       "      <td>-58.622239</td>\n",
       "    </tr>\n",
       "    <tr>\n",
       "      <th>7387</th>\n",
       "      <td>CROITORU Florin Ionut</td>\n",
       "      <td>3120</td>\n",
       "      <td>ROU</td>\n",
       "      <td>2</td>\n",
       "      <td>18</td>\n",
       "      <td>1993</td>\n",
       "      <td>55.95</td>\n",
       "      <td>2011</td>\n",
       "      <td>121</td>\n",
       "      <td>149</td>\n",
       "      <td>270</td>\n",
       "      <td>-35.441562</td>\n",
       "    </tr>\n",
       "    <tr>\n",
       "      <th>8718</th>\n",
       "      <td>CROITORU Florin Ionut</td>\n",
       "      <td>3120</td>\n",
       "      <td>ROU</td>\n",
       "      <td>2</td>\n",
       "      <td>19</td>\n",
       "      <td>1993</td>\n",
       "      <td>55.90</td>\n",
       "      <td>2012</td>\n",
       "      <td>121</td>\n",
       "      <td>147</td>\n",
       "      <td>268</td>\n",
       "      <td>-37.148185</td>\n",
       "    </tr>\n",
       "    <tr>\n",
       "      <th>8879</th>\n",
       "      <td>CROITORU Florin Ionut</td>\n",
       "      <td>3120</td>\n",
       "      <td>ROU</td>\n",
       "      <td>2</td>\n",
       "      <td>19</td>\n",
       "      <td>1993</td>\n",
       "      <td>61.80</td>\n",
       "      <td>2012</td>\n",
       "      <td>132</td>\n",
       "      <td>157</td>\n",
       "      <td>289</td>\n",
       "      <td>-45.256104</td>\n",
       "    </tr>\n",
       "    <tr>\n",
       "      <th>10202</th>\n",
       "      <td>CROITORU Florin Ionut</td>\n",
       "      <td>3120</td>\n",
       "      <td>ROU</td>\n",
       "      <td>2</td>\n",
       "      <td>20</td>\n",
       "      <td>1993</td>\n",
       "      <td>61.69</td>\n",
       "      <td>2013</td>\n",
       "      <td>135</td>\n",
       "      <td>155</td>\n",
       "      <td>290</td>\n",
       "      <td>-43.794920</td>\n",
       "    </tr>\n",
       "    <tr>\n",
       "      <th>11401</th>\n",
       "      <td>CROITORU Florin Ionut</td>\n",
       "      <td>3120</td>\n",
       "      <td>ROU</td>\n",
       "      <td>2</td>\n",
       "      <td>21</td>\n",
       "      <td>1993</td>\n",
       "      <td>55.68</td>\n",
       "      <td>2014</td>\n",
       "      <td>122</td>\n",
       "      <td>137</td>\n",
       "      <td>259</td>\n",
       "      <td>-44.845230</td>\n",
       "    </tr>\n",
       "    <tr>\n",
       "      <th>11619</th>\n",
       "      <td>CROITORU Florin Ionut</td>\n",
       "      <td>3120</td>\n",
       "      <td>ROU</td>\n",
       "      <td>2</td>\n",
       "      <td>21</td>\n",
       "      <td>1993</td>\n",
       "      <td>61.91</td>\n",
       "      <td>2014</td>\n",
       "      <td>126</td>\n",
       "      <td>145</td>\n",
       "      <td>271</td>\n",
       "      <td>-63.714812</td>\n",
       "    </tr>\n",
       "    <tr>\n",
       "      <th>13020</th>\n",
       "      <td>CROITORU Florin Ionut</td>\n",
       "      <td>3120</td>\n",
       "      <td>ROU</td>\n",
       "      <td>2</td>\n",
       "      <td>22</td>\n",
       "      <td>1993</td>\n",
       "      <td>61.72</td>\n",
       "      <td>2015</td>\n",
       "      <td>134</td>\n",
       "      <td>153</td>\n",
       "      <td>287</td>\n",
       "      <td>-46.920945</td>\n",
       "    </tr>\n",
       "  </tbody>\n",
       "</table>\n",
       "</div>"
      ],
      "text/plain": [
       "                      Lifter    LC Country  CC  Age  Birth  Weight  Year  \\\n",
       "5996   CROITORU Florin Ionut  3120     ROU   2   17   1993   55.15  2010   \n",
       "7387   CROITORU Florin Ionut  3120     ROU   2   18   1993   55.95  2011   \n",
       "8718   CROITORU Florin Ionut  3120     ROU   2   19   1993   55.90  2012   \n",
       "8879   CROITORU Florin Ionut  3120     ROU   2   19   1993   61.80  2012   \n",
       "10202  CROITORU Florin Ionut  3120     ROU   2   20   1993   61.69  2013   \n",
       "11401  CROITORU Florin Ionut  3120     ROU   2   21   1993   55.68  2014   \n",
       "11619  CROITORU Florin Ionut  3120     ROU   2   21   1993   61.91  2014   \n",
       "13020  CROITORU Florin Ionut  3120     ROU   2   22   1993   61.72  2015   \n",
       "\n",
       "       Snatch  Clean and Jerk  Total        NSC  \n",
       "5996      110             132    242 -58.622239  \n",
       "7387      121             149    270 -35.441562  \n",
       "8718      121             147    268 -37.148185  \n",
       "8879      132             157    289 -45.256104  \n",
       "10202     135             155    290 -43.794920  \n",
       "11401     122             137    259 -44.845230  \n",
       "11619     126             145    271 -63.714812  \n",
       "13020     134             153    287 -46.920945  "
      ]
     },
     "execution_count": 13,
     "metadata": {},
     "output_type": "execute_result"
    }
   ],
   "source": [
    "recents[recents['LC']==3120]"
   ]
  },
  {
   "cell_type": "code",
   "execution_count": 14,
   "metadata": {
    "collapsed": false
   },
   "outputs": [
    {
     "data": {
      "text/plain": [
       "array([-72.45455107])"
      ]
     },
     "execution_count": 14,
     "metadata": {},
     "output_type": "execute_result"
    }
   ],
   "source": [
    "nei.predict([3120,2,1993,23,2016])"
   ]
  },
  {
   "cell_type": "code",
   "execution_count": 15,
   "metadata": {
    "collapsed": false
   },
   "outputs": [
    {
     "data": {
      "text/html": [
       "<div>\n",
       "<table border=\"1\" class=\"dataframe\">\n",
       "  <thead>\n",
       "    <tr style=\"text-align: right;\">\n",
       "      <th></th>\n",
       "      <th>Lifter</th>\n",
       "      <th>LC</th>\n",
       "      <th>Country</th>\n",
       "      <th>CC</th>\n",
       "      <th>Age</th>\n",
       "      <th>Birth</th>\n",
       "      <th>Weight</th>\n",
       "      <th>Year</th>\n",
       "      <th>Snatch</th>\n",
       "      <th>Clean and Jerk</th>\n",
       "      <th>Total</th>\n",
       "      <th>NSC</th>\n",
       "    </tr>\n",
       "  </thead>\n",
       "  <tbody>\n",
       "    <tr>\n",
       "      <th>12830</th>\n",
       "      <td>SITAGATA Malaki Atonio Jr.</td>\n",
       "      <td>5810</td>\n",
       "      <td>ASA</td>\n",
       "      <td>90</td>\n",
       "      <td>15</td>\n",
       "      <td>1999</td>\n",
       "      <td>110.95</td>\n",
       "      <td>2014</td>\n",
       "      <td>98</td>\n",
       "      <td>122</td>\n",
       "      <td>220</td>\n",
       "      <td>-218.968538</td>\n",
       "    </tr>\n",
       "    <tr>\n",
       "      <th>14149</th>\n",
       "      <td>SITAGATA Malaki Atonio Jr.</td>\n",
       "      <td>5810</td>\n",
       "      <td>ASA</td>\n",
       "      <td>90</td>\n",
       "      <td>16</td>\n",
       "      <td>1999</td>\n",
       "      <td>117.46</td>\n",
       "      <td>2015</td>\n",
       "      <td>107</td>\n",
       "      <td>140</td>\n",
       "      <td>247</td>\n",
       "      <td>-199.612280</td>\n",
       "    </tr>\n",
       "  </tbody>\n",
       "</table>\n",
       "</div>"
      ],
      "text/plain": [
       "                           Lifter    LC Country  CC  Age  Birth  Weight  Year  \\\n",
       "12830  SITAGATA Malaki Atonio Jr.  5810     ASA  90   15   1999  110.95  2014   \n",
       "14149  SITAGATA Malaki Atonio Jr.  5810     ASA  90   16   1999  117.46  2015   \n",
       "\n",
       "       Snatch  Clean and Jerk  Total         NSC  \n",
       "12830      98             122    220 -218.968538  \n",
       "14149     107             140    247 -199.612280  "
      ]
     },
     "execution_count": 15,
     "metadata": {},
     "output_type": "execute_result"
    }
   ],
   "source": [
    "recents[recents['LC']==5810]"
   ]
  },
  {
   "cell_type": "code",
   "execution_count": 16,
   "metadata": {
    "collapsed": false
   },
   "outputs": [
    {
     "data": {
      "text/plain": [
       "array([-162.27130699])"
      ]
     },
     "execution_count": 16,
     "metadata": {},
     "output_type": "execute_result"
    }
   ],
   "source": [
    "nei.predict([5810,90,1999,17,2016])"
   ]
  },
  {
   "cell_type": "code",
   "execution_count": 17,
   "metadata": {
    "collapsed": false
   },
   "outputs": [
    {
     "data": {
      "text/plain": [
       "array([-157.45408356])"
      ]
     },
     "execution_count": 17,
     "metadata": {},
     "output_type": "execute_result"
    }
   ],
   "source": [
    "nei.predict([5810,91,1999,17,2016])"
   ]
  },
  {
   "cell_type": "code",
   "execution_count": 18,
   "metadata": {
    "collapsed": false
   },
   "outputs": [
    {
     "data": {
      "text/html": [
       "<div>\n",
       "<table border=\"1\" class=\"dataframe\">\n",
       "  <thead>\n",
       "    <tr style=\"text-align: right;\">\n",
       "      <th></th>\n",
       "      <th>Lifter</th>\n",
       "      <th>LC</th>\n",
       "      <th>Country</th>\n",
       "      <th>CC</th>\n",
       "      <th>Age</th>\n",
       "      <th>Birth</th>\n",
       "      <th>Weight</th>\n",
       "      <th>Year</th>\n",
       "      <th>Snatch</th>\n",
       "      <th>Clean and Jerk</th>\n",
       "      <th>Total</th>\n",
       "      <th>NSC</th>\n",
       "    </tr>\n",
       "  </thead>\n",
       "  <tbody>\n",
       "    <tr>\n",
       "      <th>14147</th>\n",
       "      <td>CEDENO HENRIQUEZ Jose Jesus</td>\n",
       "      <td>6261</td>\n",
       "      <td>VEN</td>\n",
       "      <td>48</td>\n",
       "      <td>17</td>\n",
       "      <td>1998</td>\n",
       "      <td>112.9</td>\n",
       "      <td>2015</td>\n",
       "      <td>115</td>\n",
       "      <td>143</td>\n",
       "      <td>258</td>\n",
       "      <td>-183.33069</td>\n",
       "    </tr>\n",
       "  </tbody>\n",
       "</table>\n",
       "</div>"
      ],
      "text/plain": [
       "                            Lifter    LC Country  CC  Age  Birth  Weight  \\\n",
       "14147  CEDENO HENRIQUEZ Jose Jesus  6261     VEN  48   17   1998   112.9   \n",
       "\n",
       "       Year  Snatch  Clean and Jerk  Total        NSC  \n",
       "14147  2015     115             143    258 -183.33069  "
      ]
     },
     "execution_count": 18,
     "metadata": {},
     "output_type": "execute_result"
    }
   ],
   "source": [
    "recents[recents['LC']==6261]"
   ]
  },
  {
   "cell_type": "code",
   "execution_count": 19,
   "metadata": {
    "collapsed": false
   },
   "outputs": [
    {
     "data": {
      "text/plain": [
       "array([-159.12254115])"
      ]
     },
     "execution_count": 19,
     "metadata": {},
     "output_type": "execute_result"
    }
   ],
   "source": [
    "nei.predict([6261,48,1998,18,2016])"
   ]
  },
  {
   "cell_type": "code",
   "execution_count": 79,
   "metadata": {
    "collapsed": false
   },
   "outputs": [],
   "source": [
    "import dill\n",
    "with open('nei_model.dill', 'wb') as output:\n",
    "    dill.dump(nei,output)"
   ]
  },
  {
   "cell_type": "code",
   "execution_count": 80,
   "metadata": {
    "collapsed": true
   },
   "outputs": [],
   "source": [
    "with open('nei_model.dill', 'rb') as input:\n",
    "    nei_model_pred = dill.load(input)"
   ]
  },
  {
   "cell_type": "code",
   "execution_count": 81,
   "metadata": {
    "collapsed": false
   },
   "outputs": [
    {
     "data": {
      "text/plain": [
       "array([-159.12254115])"
      ]
     },
     "execution_count": 81,
     "metadata": {},
     "output_type": "execute_result"
    }
   ],
   "source": [
    "nei_model_pred.predict([6261,48,1998,18,2016])"
   ]
  },
  {
   "cell_type": "code",
   "execution_count": 20,
   "metadata": {
    "collapsed": true
   },
   "outputs": [],
   "source": [
    "class Company1(object):\n",
    "    def __init__(self, mod):\n",
    "        self.mod = mod\n",
    "\n",
    "with open('nei_model.pkl', 'wb') as output:\n",
    "    recent_c = Company1(nei)\n",
    "    pickle.dump(recent_c, output, pickle.HIGHEST_PROTOCOL)"
   ]
  },
  {
   "cell_type": "code",
   "execution_count": 21,
   "metadata": {
    "collapsed": true
   },
   "outputs": [],
   "source": [
    "with open('nei_model.pkl', 'rb') as input:\n",
    "    nei_model_predict = pickle.load(input)    \n",
    "\n",
    "nei_model_predict3 = nei_model_predict.mod"
   ]
  },
  {
   "cell_type": "code",
   "execution_count": null,
   "metadata": {
    "collapsed": true
   },
   "outputs": [],
   "source": [
    "nei_model_predict3.pre"
   ]
  }
 ],
 "metadata": {
  "kernelspec": {
   "display_name": "Python 2",
   "language": "python",
   "name": "python2"
  },
  "language_info": {
   "codemirror_mode": {
    "name": "ipython",
    "version": 2
   },
   "file_extension": ".py",
   "mimetype": "text/x-python",
   "name": "python",
   "nbconvert_exporter": "python",
   "pygments_lexer": "ipython2",
   "version": "2.7.10"
  }
 },
 "nbformat": 4,
 "nbformat_minor": 0
}
