{
 "cells": [
  {
   "cell_type": "code",
   "execution_count": 1,
   "metadata": {
    "collapsed": true
   },
   "outputs": [],
   "source": [
    "from bs4 import BeautifulSoup\n",
    "import requests\n",
    "import pickle\n",
    "import pandas as pd\n",
    "import matplotlib\n",
    "import matplotlib.pylab as plt\n",
    "import scipy as sp\n",
    "%matplotlib inline\n",
    "import math\n",
    "import matplotlib.pyplot as plt\n",
    "import numpy as np\n",
    "\n",
    "class Company(object):\n",
    "    def __init__(self, worldrec):\n",
    "        self.worldrec = worldrec\n",
    "        \n",
    "with open('worldrecords_data.pkl', 'rb') as input:\n",
    "    wrdatar = pickle.load(input)    \n",
    "\n",
    "records = wrdatar.worldrec  "
   ]
  },
  {
   "cell_type": "code",
   "execution_count": 2,
   "metadata": {
    "collapsed": false
   },
   "outputs": [
    {
     "data": {
      "text/html": [
       "<div>\n",
       "<table border=\"1\" class=\"dataframe\">\n",
       "  <thead>\n",
       "    <tr style=\"text-align: right;\">\n",
       "      <th></th>\n",
       "      <th>Event</th>\n",
       "      <th>Year</th>\n",
       "      <th>Country</th>\n",
       "      <th>Lifter</th>\n",
       "      <th>Weight Class</th>\n",
       "      <th>Record</th>\n",
       "      <th>Event Code</th>\n",
       "    </tr>\n",
       "  </thead>\n",
       "  <tbody>\n",
       "    <tr>\n",
       "      <th>0</th>\n",
       "      <td>Snatch</td>\n",
       "      <td>1917</td>\n",
       "      <td>Russia</td>\n",
       "      <td>Alexander BUKHAROV</td>\n",
       "      <td>60.0</td>\n",
       "      <td>75.0</td>\n",
       "      <td>1</td>\n",
       "    </tr>\n",
       "    <tr>\n",
       "      <th>1</th>\n",
       "      <td>Snatch</td>\n",
       "      <td>1918</td>\n",
       "      <td>Germany</td>\n",
       "      <td>Hermann SHWINDT</td>\n",
       "      <td>60.0</td>\n",
       "      <td>92.5</td>\n",
       "      <td>1</td>\n",
       "    </tr>\n",
       "    <tr>\n",
       "      <th>2</th>\n",
       "      <td>Clean and Jerk</td>\n",
       "      <td>1919</td>\n",
       "      <td>Germany</td>\n",
       "      <td>Johann RENNER</td>\n",
       "      <td>67.5</td>\n",
       "      <td>102.5</td>\n",
       "      <td>2</td>\n",
       "    </tr>\n",
       "    <tr>\n",
       "      <th>3</th>\n",
       "      <td>Clean and Jerk</td>\n",
       "      <td>1919</td>\n",
       "      <td>Germany</td>\n",
       "      <td>Josef ZIMMERMANN</td>\n",
       "      <td>67.5</td>\n",
       "      <td>107.5</td>\n",
       "      <td>2</td>\n",
       "    </tr>\n",
       "    <tr>\n",
       "      <th>4</th>\n",
       "      <td>Snatch</td>\n",
       "      <td>1919</td>\n",
       "      <td>Germany</td>\n",
       "      <td>Hans GEORGI</td>\n",
       "      <td>67.5</td>\n",
       "      <td>85.0</td>\n",
       "      <td>1</td>\n",
       "    </tr>\n",
       "  </tbody>\n",
       "</table>\n",
       "</div>"
      ],
      "text/plain": [
       "            Event  Year  Country              Lifter  Weight Class  Record  \\\n",
       "0          Snatch  1917   Russia  Alexander BUKHAROV          60.0    75.0   \n",
       "1          Snatch  1918  Germany     Hermann SHWINDT          60.0    92.5   \n",
       "2  Clean and Jerk  1919  Germany       Johann RENNER          67.5   102.5   \n",
       "3  Clean and Jerk  1919  Germany    Josef ZIMMERMANN          67.5   107.5   \n",
       "4          Snatch  1919  Germany         Hans GEORGI          67.5    85.0   \n",
       "\n",
       "   Event Code  \n",
       "0           1  \n",
       "1           1  \n",
       "2           2  \n",
       "3           2  \n",
       "4           1  "
      ]
     },
     "execution_count": 2,
     "metadata": {},
     "output_type": "execute_result"
    }
   ],
   "source": [
    "records.head()"
   ]
  },
  {
   "cell_type": "code",
   "execution_count": 5,
   "metadata": {
    "collapsed": false
   },
   "outputs": [],
   "source": [
    "records56 = records[(records['Event Code']==3) & (records['Weight Class']==56) & (records['Year']>1972)]"
   ]
  },
  {
   "cell_type": "code",
   "execution_count": 6,
   "metadata": {
    "collapsed": false
   },
   "outputs": [
    {
     "data": {
      "text/plain": [
       "20"
      ]
     },
     "execution_count": 6,
     "metadata": {},
     "output_type": "execute_result"
    }
   ],
   "source": [
    "len(records56)"
   ]
  },
  {
   "cell_type": "code",
   "execution_count": 7,
   "metadata": {
    "collapsed": false
   },
   "outputs": [
    {
     "data": {
      "text/html": [
       "<div>\n",
       "<table border=\"1\" class=\"dataframe\">\n",
       "  <thead>\n",
       "    <tr style=\"text-align: right;\">\n",
       "      <th></th>\n",
       "      <th>Event</th>\n",
       "      <th>Year</th>\n",
       "      <th>Country</th>\n",
       "      <th>Lifter</th>\n",
       "      <th>Weight Class</th>\n",
       "      <th>Record</th>\n",
       "      <th>Event Code</th>\n",
       "    </tr>\n",
       "  </thead>\n",
       "  <tbody>\n",
       "    <tr>\n",
       "      <th>1103</th>\n",
       "      <td>Total</td>\n",
       "      <td>1973</td>\n",
       "      <td>Russia</td>\n",
       "      <td>Gennady CHETIN</td>\n",
       "      <td>56</td>\n",
       "      <td>255.0</td>\n",
       "      <td>3</td>\n",
       "    </tr>\n",
       "    <tr>\n",
       "      <th>1104</th>\n",
       "      <td>Total</td>\n",
       "      <td>1973</td>\n",
       "      <td>Bulgaria</td>\n",
       "      <td>Atanas KIROV</td>\n",
       "      <td>56</td>\n",
       "      <td>257.5</td>\n",
       "      <td>3</td>\n",
       "    </tr>\n",
       "    <tr>\n",
       "      <th>1147</th>\n",
       "      <td>Total</td>\n",
       "      <td>1974</td>\n",
       "      <td>Bulgaria</td>\n",
       "      <td>Atanas KIROV</td>\n",
       "      <td>56</td>\n",
       "      <td>260.0</td>\n",
       "      <td>3</td>\n",
       "    </tr>\n",
       "    <tr>\n",
       "      <th>1234</th>\n",
       "      <td>Total</td>\n",
       "      <td>1976</td>\n",
       "      <td>Bulgaria</td>\n",
       "      <td>Norair NURIKIAN</td>\n",
       "      <td>56</td>\n",
       "      <td>262.5</td>\n",
       "      <td>3</td>\n",
       "    </tr>\n",
       "    <tr>\n",
       "      <th>1324</th>\n",
       "      <td>Total</td>\n",
       "      <td>1979</td>\n",
       "      <td>Bulgaria</td>\n",
       "      <td>Anton KODZHABASHEV</td>\n",
       "      <td>56</td>\n",
       "      <td>265.0</td>\n",
       "      <td>3</td>\n",
       "    </tr>\n",
       "    <tr>\n",
       "      <th>1325</th>\n",
       "      <td>Total</td>\n",
       "      <td>1979</td>\n",
       "      <td>Russia</td>\n",
       "      <td>Yurik SARKISYAN</td>\n",
       "      <td>56</td>\n",
       "      <td>267.5</td>\n",
       "      <td>3</td>\n",
       "    </tr>\n",
       "    <tr>\n",
       "      <th>1381</th>\n",
       "      <td>Total</td>\n",
       "      <td>1980</td>\n",
       "      <td>Russia</td>\n",
       "      <td>Victor VERETENNIKOV</td>\n",
       "      <td>56</td>\n",
       "      <td>270.0</td>\n",
       "      <td>3</td>\n",
       "    </tr>\n",
       "    <tr>\n",
       "      <th>1382</th>\n",
       "      <td>Total</td>\n",
       "      <td>1980</td>\n",
       "      <td>Russia</td>\n",
       "      <td>Yurik SARKISYAN</td>\n",
       "      <td>56</td>\n",
       "      <td>272.5</td>\n",
       "      <td>3</td>\n",
       "    </tr>\n",
       "    <tr>\n",
       "      <th>1383</th>\n",
       "      <td>Total</td>\n",
       "      <td>1980</td>\n",
       "      <td>Cuba</td>\n",
       "      <td>Daniel NUNEZ</td>\n",
       "      <td>56</td>\n",
       "      <td>275.0</td>\n",
       "      <td>3</td>\n",
       "    </tr>\n",
       "    <tr>\n",
       "      <th>1437</th>\n",
       "      <td>Total</td>\n",
       "      <td>1981</td>\n",
       "      <td>Germany</td>\n",
       "      <td>Andreas LETZ</td>\n",
       "      <td>56</td>\n",
       "      <td>277.5</td>\n",
       "      <td>3</td>\n",
       "    </tr>\n",
       "    <tr>\n",
       "      <th>1496</th>\n",
       "      <td>Total</td>\n",
       "      <td>1982</td>\n",
       "      <td>Bulgaria</td>\n",
       "      <td>Anton KODZHABASHEV</td>\n",
       "      <td>56</td>\n",
       "      <td>280.0</td>\n",
       "      <td>3</td>\n",
       "    </tr>\n",
       "    <tr>\n",
       "      <th>1560</th>\n",
       "      <td>Total</td>\n",
       "      <td>1983</td>\n",
       "      <td>Russia</td>\n",
       "      <td>Oksen MIRZOYAN</td>\n",
       "      <td>56</td>\n",
       "      <td>282.5</td>\n",
       "      <td>3</td>\n",
       "    </tr>\n",
       "    <tr>\n",
       "      <th>1561</th>\n",
       "      <td>Total</td>\n",
       "      <td>1983</td>\n",
       "      <td>Bulgaria</td>\n",
       "      <td>Naim SULEYMANOGLU</td>\n",
       "      <td>56</td>\n",
       "      <td>285.0</td>\n",
       "      <td>3</td>\n",
       "    </tr>\n",
       "    <tr>\n",
       "      <th>1562</th>\n",
       "      <td>Total</td>\n",
       "      <td>1983</td>\n",
       "      <td>Russia</td>\n",
       "      <td>Oksen MIRZOYAN</td>\n",
       "      <td>56</td>\n",
       "      <td>287.5</td>\n",
       "      <td>3</td>\n",
       "    </tr>\n",
       "    <tr>\n",
       "      <th>1563</th>\n",
       "      <td>Total</td>\n",
       "      <td>1983</td>\n",
       "      <td>Bulgaria</td>\n",
       "      <td>Naim SULEYMANOGLU</td>\n",
       "      <td>56</td>\n",
       "      <td>290.0</td>\n",
       "      <td>3</td>\n",
       "    </tr>\n",
       "    <tr>\n",
       "      <th>1564</th>\n",
       "      <td>Total</td>\n",
       "      <td>1983</td>\n",
       "      <td>Russia</td>\n",
       "      <td>Oksen MIRZOYAN</td>\n",
       "      <td>56</td>\n",
       "      <td>292.5</td>\n",
       "      <td>3</td>\n",
       "    </tr>\n",
       "    <tr>\n",
       "      <th>1618</th>\n",
       "      <td>Total</td>\n",
       "      <td>1984</td>\n",
       "      <td>Bulgaria</td>\n",
       "      <td>Naim SULEYMANOGLU</td>\n",
       "      <td>56</td>\n",
       "      <td>297.5</td>\n",
       "      <td>3</td>\n",
       "    </tr>\n",
       "    <tr>\n",
       "      <th>1619</th>\n",
       "      <td>Total</td>\n",
       "      <td>1984</td>\n",
       "      <td>Bulgaria</td>\n",
       "      <td>Naim SULEYMANOGLU</td>\n",
       "      <td>56</td>\n",
       "      <td>300.0</td>\n",
       "      <td>3</td>\n",
       "    </tr>\n",
       "    <tr>\n",
       "      <th>1893</th>\n",
       "      <td>Total</td>\n",
       "      <td>1999</td>\n",
       "      <td>Turkey</td>\n",
       "      <td>Halil MUTLU</td>\n",
       "      <td>56</td>\n",
       "      <td>302.5</td>\n",
       "      <td>3</td>\n",
       "    </tr>\n",
       "    <tr>\n",
       "      <th>1915</th>\n",
       "      <td>Total</td>\n",
       "      <td>2000</td>\n",
       "      <td>Turkey</td>\n",
       "      <td>Halil MUTLU</td>\n",
       "      <td>56</td>\n",
       "      <td>305.0</td>\n",
       "      <td>3</td>\n",
       "    </tr>\n",
       "  </tbody>\n",
       "</table>\n",
       "</div>"
      ],
      "text/plain": [
       "      Event  Year   Country               Lifter  Weight Class  Record  \\\n",
       "1103  Total  1973    Russia       Gennady CHETIN            56   255.0   \n",
       "1104  Total  1973  Bulgaria         Atanas KIROV            56   257.5   \n",
       "1147  Total  1974  Bulgaria         Atanas KIROV            56   260.0   \n",
       "1234  Total  1976  Bulgaria      Norair NURIKIAN            56   262.5   \n",
       "1324  Total  1979  Bulgaria   Anton KODZHABASHEV            56   265.0   \n",
       "1325  Total  1979    Russia      Yurik SARKISYAN            56   267.5   \n",
       "1381  Total  1980    Russia  Victor VERETENNIKOV            56   270.0   \n",
       "1382  Total  1980    Russia      Yurik SARKISYAN            56   272.5   \n",
       "1383  Total  1980      Cuba         Daniel NUNEZ            56   275.0   \n",
       "1437  Total  1981   Germany         Andreas LETZ            56   277.5   \n",
       "1496  Total  1982  Bulgaria   Anton KODZHABASHEV            56   280.0   \n",
       "1560  Total  1983    Russia       Oksen MIRZOYAN            56   282.5   \n",
       "1561  Total  1983  Bulgaria    Naim SULEYMANOGLU            56   285.0   \n",
       "1562  Total  1983    Russia       Oksen MIRZOYAN            56   287.5   \n",
       "1563  Total  1983  Bulgaria    Naim SULEYMANOGLU            56   290.0   \n",
       "1564  Total  1983    Russia       Oksen MIRZOYAN            56   292.5   \n",
       "1618  Total  1984  Bulgaria    Naim SULEYMANOGLU            56   297.5   \n",
       "1619  Total  1984  Bulgaria    Naim SULEYMANOGLU            56   300.0   \n",
       "1893  Total  1999    Turkey          Halil MUTLU            56   302.5   \n",
       "1915  Total  2000    Turkey          Halil MUTLU            56   305.0   \n",
       "\n",
       "      Event Code  \n",
       "1103           3  \n",
       "1104           3  \n",
       "1147           3  \n",
       "1234           3  \n",
       "1324           3  \n",
       "1325           3  \n",
       "1381           3  \n",
       "1382           3  \n",
       "1383           3  \n",
       "1437           3  \n",
       "1496           3  \n",
       "1560           3  \n",
       "1561           3  \n",
       "1562           3  \n",
       "1563           3  \n",
       "1564           3  \n",
       "1618           3  \n",
       "1619           3  \n",
       "1893           3  \n",
       "1915           3  "
      ]
     },
     "execution_count": 7,
     "metadata": {},
     "output_type": "execute_result"
    }
   ],
   "source": [
    "records56"
   ]
  },
  {
   "cell_type": "code",
   "execution_count": null,
   "metadata": {
    "collapsed": true
   },
   "outputs": [],
   "source": []
  },
  {
   "cell_type": "code",
   "execution_count": null,
   "metadata": {
    "collapsed": true
   },
   "outputs": [],
   "source": []
  },
  {
   "cell_type": "code",
   "execution_count": 8,
   "metadata": {
    "collapsed": true
   },
   "outputs": [],
   "source": [
    "#openning the file after closing the notebook \n",
    "import pickle\n",
    "class Company(object):\n",
    "    def __init__(self, rec):\n",
    "        self.rec = rec\n",
    "        \n",
    "with open('recent_data.pkl', 'rb') as input:\n",
    "    rdatar = pickle.load(input)    \n",
    "\n",
    "recent_data_load = rdatar.rec "
   ]
  },
  {
   "cell_type": "code",
   "execution_count": 9,
   "metadata": {
    "collapsed": true
   },
   "outputs": [],
   "source": [
    "recents = recent_data_load"
   ]
  },
  {
   "cell_type": "code",
   "execution_count": 10,
   "metadata": {
    "collapsed": true
   },
   "outputs": [],
   "source": [
    "#looking at people on the 56 with at least a 210 total\n",
    "recent56 = recents[(recents['Weight']<=56) & (recents['Weight'] >52) &\n",
    "                   (recents['Total']>210)][['Year', 'Country', 'Lifter', 'Birth', 'Weight', 'Total']]"
   ]
  },
  {
   "cell_type": "code",
   "execution_count": 11,
   "metadata": {
    "collapsed": true
   },
   "outputs": [],
   "source": [
    "#of those people choose their best total.\n",
    "liftermax = pd.DataFrame(recent56.groupby('Lifter')['Total'].max(), columns= ['Total'])"
   ]
  },
  {
   "cell_type": "code",
   "execution_count": 12,
   "metadata": {
    "collapsed": true
   },
   "outputs": [],
   "source": [
    "density = liftermax.groupby('Total')['Total'].count()"
   ]
  },
  {
   "cell_type": "code",
   "execution_count": 34,
   "metadata": {
    "collapsed": false
   },
   "outputs": [],
   "source": [
    "val =[]\n",
    "for element in density:\n",
    "    val.append(float(element))"
   ]
  },
  {
   "cell_type": "code",
   "execution_count": 37,
   "metadata": {
    "collapsed": false
   },
   "outputs": [],
   "source": [
    "index = []\n",
    "for ind in density.index:\n",
    "    index.append(float(ind))"
   ]
  },
  {
   "cell_type": "code",
   "execution_count": null,
   "metadata": {
    "collapsed": true
   },
   "outputs": [],
   "source": []
  }
 ],
 "metadata": {
  "kernelspec": {
   "display_name": "Python 2",
   "language": "python",
   "name": "python2"
  },
  "language_info": {
   "codemirror_mode": {
    "name": "ipython",
    "version": 2
   },
   "file_extension": ".py",
   "mimetype": "text/x-python",
   "name": "python",
   "nbconvert_exporter": "python",
   "pygments_lexer": "ipython2",
   "version": "2.7.10"
  }
 },
 "nbformat": 4,
 "nbformat_minor": 0
}
